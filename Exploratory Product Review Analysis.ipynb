{
 "metadata": {
  "name": ""
 },
 "nbformat": 3,
 "nbformat_minor": 0,
 "worksheets": [
  {
   "cells": [
    {
     "cell_type": "code",
     "collapsed": false,
     "input": [
      "import numpy as np\n",
      "import pandas as pd\n",
      "import matplotlib.pyplot as plt\n",
      "%matplotlib inline"
     ],
     "language": "python",
     "metadata": {},
     "outputs": [],
     "prompt_number": 1
    },
    {
     "cell_type": "code",
     "collapsed": false,
     "input": [
      "df = pd.DataFrame.from_csv(\"Data/RAW_Electronics_Review_Data.csv\")\n",
      "df.describe()"
     ],
     "language": "python",
     "metadata": {},
     "outputs": [
      {
       "html": [
        "<div style=\"max-height:1000px;max-width:1500px;overflow:auto;\">\n",
        "<table border=\"1\" class=\"dataframe\">\n",
        "  <thead>\n",
        "    <tr style=\"text-align: right;\">\n",
        "      <th></th>\n",
        "      <th>Review_Helpfulness_Score</th>\n",
        "      <th>Review_Helpfulness_Total</th>\n",
        "      <th>Review_Score</th>\n",
        "      <th>Review_Timestamp</th>\n",
        "    </tr>\n",
        "  </thead>\n",
        "  <tbody>\n",
        "    <tr>\n",
        "      <th>count</th>\n",
        "      <td> 1241778.000000</td>\n",
        "      <td> 1241778.000000</td>\n",
        "      <td> 1241778.000000</td>\n",
        "      <td> 1.241778e+06</td>\n",
        "    </tr>\n",
        "    <tr>\n",
        "      <th>mean</th>\n",
        "      <td>       4.439845</td>\n",
        "      <td>       5.504855</td>\n",
        "      <td>       3.900349</td>\n",
        "      <td> 1.211011e+09</td>\n",
        "    </tr>\n",
        "    <tr>\n",
        "      <th>std</th>\n",
        "      <td>      22.039847</td>\n",
        "      <td>      23.289110</td>\n",
        "      <td>       1.437426</td>\n",
        "      <td> 9.656233e+07</td>\n",
        "    </tr>\n",
        "    <tr>\n",
        "      <th>min</th>\n",
        "      <td>       0.000000</td>\n",
        "      <td>       0.000000</td>\n",
        "      <td>       1.000000</td>\n",
        "      <td>-1.000000e+00</td>\n",
        "    </tr>\n",
        "    <tr>\n",
        "      <th>25%</th>\n",
        "      <td>       0.000000</td>\n",
        "      <td>       0.000000</td>\n",
        "      <td>       3.000000</td>\n",
        "      <td> 1.158970e+09</td>\n",
        "    </tr>\n",
        "    <tr>\n",
        "      <th>50%</th>\n",
        "      <td>       1.000000</td>\n",
        "      <td>       1.000000</td>\n",
        "      <td>       5.000000</td>\n",
        "      <td> 1.209427e+09</td>\n",
        "    </tr>\n",
        "    <tr>\n",
        "      <th>75%</th>\n",
        "      <td>       3.000000</td>\n",
        "      <td>       5.000000</td>\n",
        "      <td>       5.000000</td>\n",
        "      <td> 1.289693e+09</td>\n",
        "    </tr>\n",
        "    <tr>\n",
        "      <th>max</th>\n",
        "      <td>    7649.000000</td>\n",
        "      <td>    7750.000000</td>\n",
        "      <td>       5.000000</td>\n",
        "      <td> 1.362269e+09</td>\n",
        "    </tr>\n",
        "  </tbody>\n",
        "</table>\n",
        "<p>8 rows \u00d7 4 columns</p>\n",
        "</div>"
       ],
       "metadata": {},
       "output_type": "pyout",
       "prompt_number": 2,
       "text": [
        "       Review_Helpfulness_Score  Review_Helpfulness_Total    Review_Score  \\\n",
        "count            1241778.000000            1241778.000000  1241778.000000   \n",
        "mean                   4.439845                  5.504855        3.900349   \n",
        "std                   22.039847                 23.289110        1.437426   \n",
        "min                    0.000000                  0.000000        1.000000   \n",
        "25%                    0.000000                  0.000000        3.000000   \n",
        "50%                    1.000000                  1.000000        5.000000   \n",
        "75%                    3.000000                  5.000000        5.000000   \n",
        "max                 7649.000000               7750.000000        5.000000   \n",
        "\n",
        "       Review_Timestamp  \n",
        "count      1.241778e+06  \n",
        "mean       1.211011e+09  \n",
        "std        9.656233e+07  \n",
        "min       -1.000000e+00  \n",
        "25%        1.158970e+09  \n",
        "50%        1.209427e+09  \n",
        "75%        1.289693e+09  \n",
        "max        1.362269e+09  \n",
        "\n",
        "[8 rows x 4 columns]"
       ]
      }
     ],
     "prompt_number": 2
    },
    {
     "cell_type": "code",
     "collapsed": false,
     "input": [
      "df = df.sort(columns=[\"Product_ID\", \"Review_Timestamp\"])"
     ],
     "language": "python",
     "metadata": {},
     "outputs": [],
     "prompt_number": "*"
    },
    {
     "cell_type": "code",
     "collapsed": false,
     "input": [
      "df[\"PR_Prescedence\"] = 0\n",
      "start = 0\n",
      "for key in df.Product_ID.unique():\n",
      "    group = df[df.Product_ID == key]\n",
      "    g_idx = len(group)\n",
      "    df[start:(start + g_idx)][\"PR_Prescedence\"] = range(0, g_idx)\n",
      "    start += g_idx"
     ],
     "language": "python",
     "metadata": {},
     "outputs": [],
     "prompt_number": "*"
    },
    {
     "cell_type": "code",
     "collapsed": false,
     "input": [
      "plt.hist(df.PR_Prescedence[(df.PR_Prescedence != 0) & (df.PR_Prescedence <= 300)].values, bins=300)"
     ],
     "language": "python",
     "metadata": {},
     "outputs": [],
     "prompt_number": "*"
    },
    {
     "cell_type": "heading",
     "level": 2,
     "metadata": {},
     "source": [
      "Remove all unused prodcts"
     ]
    },
    {
     "cell_type": "code",
     "collapsed": false,
     "input": [
      "product_max = df.groupby(\"Product_ID\")[\"PR_Prescedence\"].max()\n",
      "good_products = product_max[product_max > 50].index\n",
      "good_products"
     ],
     "language": "python",
     "metadata": {},
     "outputs": [],
     "prompt_number": "*"
    },
    {
     "cell_type": "heading",
     "level": 2,
     "metadata": {},
     "source": [
      "Review Score Over Time"
     ]
    },
    {
     "cell_type": "code",
     "collapsed": false,
     "input": [
      "# Bin the data frame by \"a\" with 10 bins...\n",
      "outlier_removed = df[df.PR_Prescedence <= 400]\n",
      "outlier_removed = outlier_removed[outlier_removed.Product_ID.isin(good_products)]\n",
      "bins = np.linspace(0, 400, 4H"
     ],
     "language": "python",
     "metadata": {},
     "outputs": [],
     "prompt_number": "*"
    },
    {
     "cell_type": "code",
     "collapsed": false,
     "input": [
      "plt.plot(group[\"mean\"])"
     ],
     "language": "python",
     "metadata": {},
     "outputs": [],
     "prompt_number": "*"
    },
    {
     "cell_type": "code",
     "collapsed": false,
     "input": [],
     "language": "python",
     "metadata": {},
     "outputs": []
    }
   ],
   "metadata": {}
  }
 ]
}