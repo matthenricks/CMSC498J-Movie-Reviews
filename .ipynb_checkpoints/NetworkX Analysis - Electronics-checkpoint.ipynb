{
 "metadata": {
  "name": ""
 },
 "nbformat": 3,
 "nbformat_minor": 0,
 "worksheets": [
  {
   "cells": [
    {
     "cell_type": "code",
     "collapsed": false,
     "input": [
      "import numpy as np\n",
      "import pandas as pd\n",
      "import matplotlib.pyplot as plt\n",
      "import networkx as nx\n",
      "from networkx.algorithms import bipartite\n",
      "%matplotlib inline"
     ],
     "language": "python",
     "metadata": {},
     "outputs": [],
     "prompt_number": 48
    },
    {
     "cell_type": "code",
     "collapsed": false,
     "input": [
      "raw_electronics = pd.DataFrame.from_csv(\"Data/RAW_Electronics_Review_Data.csv\")\n",
      "print \"electronics:\", raw_electronics.keys()"
     ],
     "language": "python",
     "metadata": {},
     "outputs": [
      {
       "output_type": "stream",
       "stream": "stdout",
       "text": [
        "electronics: Index([u'Product_ID', u'Product_Title', u'Product_Price', u'Review_UserID', u'Review_ProfileName', u'Review_Helpfulness_Score', u'Review_Helpfulness_Total', u'Review_Score', u'Review_Timestamp'], dtype='object')\n"
       ]
      }
     ],
     "prompt_number": 10
    },
    {
     "cell_type": "code",
     "collapsed": false,
     "input": [
      "raw_electronics = raw_electronics[[\"Product_ID\", \"Review_UserID\", \"Review_Timestamp\"]]\n",
      "raw_electronics = raw_electronics[raw_electronics[\"Review_UserID\"] != \"unknown\"]"
     ],
     "language": "python",
     "metadata": {},
     "outputs": [],
     "prompt_number": 11
    },
    {
     "cell_type": "code",
     "collapsed": false,
     "input": [
      "# Chop the graph up into time slices!\n",
      "# Lets do the first example between time slices :)\n",
      "\n",
      "## UNDONE\n",
      "# The second example could be overall, up to a specific time.\n",
      "# Bin the data frame by \"a\" with 50 bins...\n",
      "time_segments = pd.cut(raw_electronics[\"Review_Timestamp\"], 150)\n",
      "grouped_electronic = raw_electronics.groupby(time_segments)"
     ],
     "language": "python",
     "metadata": {},
     "outputs": [],
     "prompt_number": 124
    },
    {
     "cell_type": "code",
     "collapsed": false,
     "input": [
      "len(grouped_electronic.indices.keys())"
     ],
     "language": "python",
     "metadata": {},
     "outputs": [
      {
       "metadata": {},
       "output_type": "pyout",
       "prompt_number": 126,
       "text": [
        "56"
       ]
      }
     ],
     "prompt_number": 126
    },
    {
     "cell_type": "code",
     "collapsed": false,
     "input": [
      "import re\n",
      "def compare_bins(x, y):\n",
      "    x_num = re.match('^\\((-*\\d+)', x).groups()[0]\n",
      "    y_num = re.match('^\\((-*\\d+)', y).groups()[0]\n",
      "    return int(x_num) - int(y_num)"
     ],
     "language": "python",
     "metadata": {},
     "outputs": [],
     "prompt_number": 127
    },
    {
     "cell_type": "code",
     "collapsed": false,
     "input": [
      "group_keys = grouped_electronic.groups.keys()\n",
      "group_keys.sort(compare_bins)\n",
      "print group_keys"
     ],
     "language": "python",
     "metadata": {},
     "outputs": [
      {
       "output_type": "stream",
       "stream": "stdout",
       "text": [
        "['(-1362269.801, 9081791.00667]', '(844606655.62, 853688447.627]', '(871852031.64, 880933823.647]', '(880933823.647, 890015615.653]', '(890015615.653, 899097407.66]', '(899097407.66, 908179199.667]', '(908179199.667, 917260991.673]', '(917260991.673, 926342783.68]', '(926342783.68, 935424575.687]', '(935424575.687, 944506367.693]', '(944506367.693, 953588159.7]', '(953588159.7, 962669951.707]', '(962669951.707, 971751743.713]', '(971751743.713, 980833535.72]', '(980833535.72, 989915327.727]', '(989915327.727, 998997119.733]', '(998997119.733, 1008078911.74]', '(1008078911.74, 1017160703.747]', '(1017160703.747, 1026242495.753]', '(1026242495.753, 1035324287.76]', '(1035324287.76, 1044406079.767]', '(1044406079.767, 1053487871.773]', '(1053487871.773, 1062569663.78]', '(1062569663.78, 1071651455.787]', '(1071651455.787, 1080733247.793]', '(1080733247.793, 1089815039.8]', '(1089815039.8, 1098896831.807]', '(1098896831.807, 1107978623.813]', '(1107978623.813, 1117060415.82]', '(1117060415.82, 1126142207.827]', '(1126142207.827, 1135223999.833]', '(1135223999.833, 1144305791.84]', '(1144305791.84, 1153387583.847]', '(1153387583.847, 1162469375.853]', '(1162469375.853, 1171551167.86]', '(1171551167.86, 1180632959.867]', '(1180632959.867, 1189714751.873]', '(1189714751.873, 1198796543.88]', '(1198796543.88, 1207878335.887]', '(1207878335.887, 1216960127.893]', '(1216960127.893, 1226041919.9]', '(1226041919.9, 1235123711.907]', '(1235123711.907, 1244205503.913]', '(1244205503.913, 1253287295.92]', '(1253287295.92, 1262369087.927]', '(1262369087.927, 1271450879.933]', '(1271450879.933, 1280532671.94]', '(1280532671.94, 1289614463.947]', '(1289614463.947, 1298696255.953]', '(1298696255.953, 1307778047.96]', '(1307778047.96, 1316859839.967]', '(1316859839.967, 1325941631.973]', '(1325941631.973, 1335023423.98]', '(1335023423.98, 1344105215.987]', '(1344105215.987, 1353187007.993]', '(1353187007.993, 1362268800]']\n"
       ]
      }
     ],
     "prompt_number": 128
    },
    {
     "cell_type": "code",
     "collapsed": false,
     "input": [
      "c_coef = []"
     ],
     "language": "python",
     "metadata": {},
     "outputs": [],
     "prompt_number": 129
    },
    {
     "cell_type": "code",
     "collapsed": false,
     "input": [
      "for key in group_keys:\n",
      "    group = grouped_electronic.get_group(key)\n",
      "    e_bipart = nx.Graph()\n",
      "    for ix, row in group.iterrows():\n",
      "    #    print row[\"Product_ID\"], row[\"Review_UserID\"]\n",
      "        e_bipart.add_edge(row[\"Product_ID\"], row[\"Review_UserID\"])\n",
      "    c_coef.append(bipartite.average_clustering(e_bipart))"
     ],
     "language": "python",
     "metadata": {},
     "outputs": [],
     "prompt_number": 130
    },
    {
     "cell_type": "code",
     "collapsed": false,
     "input": [
      "for key in group_keys:\n",
      "    print key"
     ],
     "language": "python",
     "metadata": {},
     "outputs": [
      {
       "output_type": "stream",
       "stream": "stdout",
       "text": [
        "(-1362269.801, 9081791.00667]\n",
        "(844606655.62, 853688447.627]\n",
        "(871852031.64, 880933823.647]\n",
        "(880933823.647, 890015615.653]\n",
        "(890015615.653, 899097407.66]\n",
        "(899097407.66, 908179199.667]\n",
        "(908179199.667, 917260991.673]\n",
        "(917260991.673, 926342783.68]\n",
        "(926342783.68, 935424575.687]\n",
        "(935424575.687, 944506367.693]\n",
        "(944506367.693, 953588159.7]\n",
        "(953588159.7, 962669951.707]\n",
        "(962669951.707, 971751743.713]\n",
        "(971751743.713, 980833535.72]\n",
        "(980833535.72, 989915327.727]\n",
        "(989915327.727, 998997119.733]\n",
        "(998997119.733, 1008078911.74]\n",
        "(1008078911.74, 1017160703.747]\n",
        "(1017160703.747, 1026242495.753]\n",
        "(1026242495.753, 1035324287.76]\n",
        "(1035324287.76, 1044406079.767]\n",
        "(1044406079.767, 1053487871.773]\n",
        "(1053487871.773, 1062569663.78]\n",
        "(1062569663.78, 1071651455.787]\n",
        "(1071651455.787, 1080733247.793]\n",
        "(1080733247.793, 1089815039.8]\n",
        "(1089815039.8, 1098896831.807]\n",
        "(1098896831.807, 1107978623.813]\n",
        "(1107978623.813, 1117060415.82]\n",
        "(1117060415.82, 1126142207.827]\n",
        "(1126142207.827, 1135223999.833]\n",
        "(1135223999.833, 1144305791.84]\n",
        "(1144305791.84, 1153387583.847]\n",
        "(1153387583.847, 1162469375.853]\n",
        "(1162469375.853, 1171551167.86]\n",
        "(1171551167.86, 1180632959.867]\n",
        "(1180632959.867, 1189714751.873]\n",
        "(1189714751.873, 1198796543.88]\n",
        "(1198796543.88, 1207878335.887]\n",
        "(1207878335.887, 1216960127.893]\n",
        "(1216960127.893, 1226041919.9]\n",
        "(1226041919.9, 1235123711.907]\n",
        "(1235123711.907, 1244205503.913]\n",
        "(1244205503.913, 1253287295.92]\n",
        "(1253287295.92, 1262369087.927]\n",
        "(1262369087.927, 1271450879.933]\n",
        "(1271450879.933, 1280532671.94]\n",
        "(1280532671.94, 1289614463.947]\n",
        "(1289614463.947, 1298696255.953]\n",
        "(1298696255.953, 1307778047.96]\n",
        "(1307778047.96, 1316859839.967]\n",
        "(1316859839.967, 1325941631.973]\n",
        "(1325941631.973, 1335023423.98]\n",
        "(1335023423.98, 1344105215.987]\n",
        "(1344105215.987, 1353187007.993]\n",
        "(1353187007.993, 1362268800]\n"
       ]
      }
     ],
     "prompt_number": 131
    },
    {
     "cell_type": "code",
     "collapsed": false,
     "input": [
      "print c_coef\n",
      "plt.plot(c_coef)"
     ],
     "language": "python",
     "metadata": {},
     "outputs": [
      {
       "output_type": "stream",
       "stream": "stdout",
       "text": [
        "[0.8, 0.0, 0.0, 0.2857142857142857, 0.375, 0.0, 0.3333333333333333, 0.18181818181818182, 0.44177018633540377, 0.49824548090451715, 0.5763296805921408, 0.5064016671665141, 0.4827552070219111, 0.5130878936840884, 0.48388181263243063, 0.4991010210787963, 0.5064575158032476, 0.5437532265171509, 0.49906913540215003, 0.4761875802236089, 0.5233086852439771, 0.48673338640343367, 0.4856289305348189, 0.48462865550893613, 0.5261821264990649, 0.4744231342759385, 0.4994988849777022, 0.534381458300571, 0.495042947077756, 0.5371084386552831, 0.5337188591916148, 0.5782092113620756, 0.5033311422518439, 0.5279645350325619, 0.5867969423350332, 0.5491510987625469, 0.54005869225362, 0.5544519660829706, 0.5794087727588623, 0.5526066919378997, 0.5467850832744953, 0.5598412065800448, 0.5426013458213637, 0.533686766686144, 0.5338881381258471, 0.541074458216643, 0.5155320748481018, 0.5403511353370147, 0.5727765414890063, 0.5551705060511939, 0.5649355218339998, 0.562922468933998, 0.5737256079400739, 0.557912639075731, 0.5733535553886022, 0.6204161989407919]\n"
       ]
      },
      {
       "metadata": {},
       "output_type": "pyout",
       "prompt_number": 133,
       "text": [
        "[<matplotlib.lines.Line2D at 0xa65610ac>]"
       ]
      },
      {
       "metadata": {},
       "output_type": "display_data",
       "png": "[encoded data removed]",
       "text": [
        "<matplotlib.figure.Figure at 0xa5cab02c>"
       ]
      }
     ],
     "prompt_number": 133
    },
    {
     "cell_type": "code",
     "collapsed": false,
     "input": [
      "# THE ABOVE DOESN'T REALLY WORK, DOES IT?"
     ],
     "language": "python",
     "metadata": {},
     "outputs": []
    },
    {
     "cell_type": "code",
     "collapsed": false,
     "input": [
      "raw_cut = raw_electronics[[\"Product_ID\", \"Review_UserID\"]]\n",
      "raw_cut = raw_cut[raw_cut[\"Review_UserID\"] != \"unknown\"]\n",
      "group_review = raw_cut.groupby(\"Review_UserID\").count()[\"Review_UserID\"]\n",
      "group_review.head(1)"
     ],
     "language": "python",
     "metadata": {},
     "outputs": []
    }
   ],
   "metadata": {}
  }
 ]
}