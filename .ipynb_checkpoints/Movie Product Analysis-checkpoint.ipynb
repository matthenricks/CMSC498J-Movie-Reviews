{
 "metadata": {
  "name": ""
 },
 "nbformat": 3,
 "nbformat_minor": 0,
 "worksheets": [
  {
   "cells": [
    {
     "cell_type": "code",
     "collapsed": false,
     "input": [
      "import numpy as np\n",
      "import pandas as pd\n",
      "import matplotlib.pyplot as plt\n",
      "%matplotlib inline"
     ],
     "language": "python",
     "metadata": {},
     "outputs": [],
     "prompt_number": 2
    },
    {
     "cell_type": "heading",
     "level": 1,
     "metadata": {},
     "source": [
      "Data Cleansing"
     ]
    },
    {
     "cell_type": "code",
     "collapsed": false,
     "input": [
      "raw_electronics = pd.DataFrame.from_csv(\"Data/Amazon_Instant_Video_RAW.csv\")\n",
      "print \"electronics:\", raw_electronics.keys()"
     ],
     "language": "python",
     "metadata": {},
     "outputs": [
      {
       "output_type": "stream",
       "stream": "stdout",
       "text": [
        "electronics: Index([u'Product_ID', u'Review_UserID', u'Review_Helpfulness_Score', u'Review_Helpfulness_Total', u'Review_Score', u'Review_Timestamp'], dtype='object')\n"
       ]
      }
     ],
     "prompt_number": 4
    },
    {
     "cell_type": "code",
     "collapsed": false,
     "input": [
      "# Remove all unknown users\n",
      "raw_electronics = raw_electronics[raw_electronics[\"Review_UserID\"] != \"unknown\"]\n",
      "raw_electronics[raw_electronics[\"Review_UserID\"] == \"unknown\"]"
     ],
     "language": "python",
     "metadata": {},
     "outputs": [
      {
       "html": [
        "<div style=\"max-height:1000px;max-width:1500px;overflow:auto;\">\n",
        "<table border=\"1\" class=\"dataframe\">\n",
        "  <tbody>\n",
        "    <tr>\n",
        "      <td>Int64Index([], dtype='int64')</td>\n",
        "      <td>Empty DataFrame</td>\n",
        "    </tr>\n",
        "  </tbody>\n",
        "</table>\n",
        "<p>0 rows \u00d7 6 columns</p>\n",
        "</div>"
       ],
       "metadata": {},
       "output_type": "pyout",
       "prompt_number": 5,
       "text": [
        "Empty DataFrame\n",
        "Columns: [Product_ID, Review_UserID, Review_Helpfulness_Score, Review_Helpfulness_Total, Review_Score, Review_Timestamp]\n",
        "Index: []\n",
        "\n",
        "[0 rows x 6 columns]"
       ]
      }
     ],
     "prompt_number": 5
    },
    {
     "cell_type": "code",
     "collapsed": false,
     "input": [
      "# Attempt to remove all bots (users with more than 3 reviews on the same productRe"
     ],
     "language": "python",
     "metadata": {},
     "outputs": [],
     "prompt_number": 6
    },
    {
     "cell_type": "code",
     "collapsed": false,
     "input": [
      "bot_group = raw_electronics.groupby([\"Product_ID\", \"Review_UserID\"])#, \"Review_Timestamp\"])\n",
      "bots = bot_group.count()\n",
      "bots.head(5)"
     ],
     "language": "python",
     "metadata": {},
     "outputs": [
      {
       "html": [
        "<div style=\"max-height:1000px;max-width:1500px;overflow:auto;\">\n",
        "<table border=\"1\" class=\"dataframe\">\n",
        "  <thead>\n",
        "    <tr style=\"text-align: right;\">\n",
        "      <th></th>\n",
        "      <th></th>\n",
        "      <th>Product_ID</th>\n",
        "      <th>Review_UserID</th>\n",
        "      <th>Review_Helpfulness_Score</th>\n",
        "      <th>Review_Helpfulness_Total</th>\n",
        "      <th>Review_Score</th>\n",
        "      <th>Review_Timestamp</th>\n",
        "    </tr>\n",
        "    <tr>\n",
        "      <th>Product_ID</th>\n",
        "      <th>Review_UserID</th>\n",
        "      <th></th>\n",
        "      <th></th>\n",
        "      <th></th>\n",
        "      <th></th>\n",
        "      <th></th>\n",
        "      <th></th>\n",
        "    </tr>\n",
        "  </thead>\n",
        "  <tbody>\n",
        "    <tr>\n",
        "      <th>B00063FJTS</th>\n",
        "      <th>A1XM2EH9OB2R15</th>\n",
        "      <td> 1</td>\n",
        "      <td> 1</td>\n",
        "      <td> 1</td>\n",
        "      <td> 1</td>\n",
        "      <td> 1</td>\n",
        "      <td> 1</td>\n",
        "    </tr>\n",
        "    <tr>\n",
        "      <th rowspan=\"4\" valign=\"top\">B000FOMYUA</th>\n",
        "      <th>A19B0BY3QZPL78</th>\n",
        "      <td> 1</td>\n",
        "      <td> 1</td>\n",
        "      <td> 1</td>\n",
        "      <td> 1</td>\n",
        "      <td> 1</td>\n",
        "      <td> 1</td>\n",
        "    </tr>\n",
        "    <tr>\n",
        "      <th>A2YZKTQG1L5YXJ</th>\n",
        "      <td> 1</td>\n",
        "      <td> 1</td>\n",
        "      <td> 1</td>\n",
        "      <td> 1</td>\n",
        "      <td> 1</td>\n",
        "      <td> 1</td>\n",
        "    </tr>\n",
        "    <tr>\n",
        "      <th>A37563JES12QF</th>\n",
        "      <td> 1</td>\n",
        "      <td> 1</td>\n",
        "      <td> 1</td>\n",
        "      <td> 1</td>\n",
        "      <td> 1</td>\n",
        "      <td> 1</td>\n",
        "    </tr>\n",
        "    <tr>\n",
        "      <th>A8UEUFFX882DQ</th>\n",
        "      <td> 1</td>\n",
        "      <td> 1</td>\n",
        "      <td> 1</td>\n",
        "      <td> 1</td>\n",
        "      <td> 1</td>\n",
        "      <td> 1</td>\n",
        "    </tr>\n",
        "  </tbody>\n",
        "</table>\n",
        "<p>5 rows \u00d7 6 columns</p>\n",
        "</div>"
       ],
       "metadata": {},
       "output_type": "pyout",
       "prompt_number": 7,
       "text": [
        "                           Product_ID  Review_UserID  \\\n",
        "Product_ID Review_UserID                               \n",
        "B00063FJTS A1XM2EH9OB2R15           1              1   \n",
        "B000FOMYUA A19B0BY3QZPL78           1              1   \n",
        "           A2YZKTQG1L5YXJ           1              1   \n",
        "           A37563JES12QF            1              1   \n",
        "           A8UEUFFX882DQ            1              1   \n",
        "\n",
        "                           Review_Helpfulness_Score  Review_Helpfulness_Total  \\\n",
        "Product_ID Review_UserID                                                        \n",
        "B00063FJTS A1XM2EH9OB2R15                         1                         1   \n",
        "B000FOMYUA A19B0BY3QZPL78                         1                         1   \n",
        "           A2YZKTQG1L5YXJ                         1                         1   \n",
        "           A37563JES12QF                          1                         1   \n",
        "           A8UEUFFX882DQ                          1                         1   \n",
        "\n",
        "                           Review_Score  Review_Timestamp  \n",
        "Product_ID Review_UserID                                   \n",
        "B00063FJTS A1XM2EH9OB2R15             1                 1  \n",
        "B000FOMYUA A19B0BY3QZPL78             1                 1  \n",
        "           A2YZKTQG1L5YXJ             1                 1  \n",
        "           A37563JES12QF              1                 1  \n",
        "           A8UEUFFX882DQ              1                 1  \n",
        "\n",
        "[5 rows x 6 columns]"
       ]
      }
     ],
     "prompt_number": 7
    },
    {
     "cell_type": "code",
     "collapsed": false,
     "input": [
      "bots = bots[\"Review_Score\"].reset_index(level=0).reset_index(level=0).reset_index(level=0)\n",
      "bots.head(2)"
     ],
     "language": "python",
     "metadata": {},
     "outputs": [
      {
       "html": [
        "<div style=\"max-height:1000px;max-width:1500px;overflow:auto;\">\n",
        "<table border=\"1\" class=\"dataframe\">\n",
        "  <thead>\n",
        "    <tr style=\"text-align: right;\">\n",
        "      <th></th>\n",
        "      <th>index</th>\n",
        "      <th>Review_UserID</th>\n",
        "      <th>Product_ID</th>\n",
        "      <th>Review_Score</th>\n",
        "    </tr>\n",
        "  </thead>\n",
        "  <tbody>\n",
        "    <tr>\n",
        "      <th>0</th>\n",
        "      <td> 0</td>\n",
        "      <td> A1XM2EH9OB2R15</td>\n",
        "      <td> B00063FJTS</td>\n",
        "      <td> 1</td>\n",
        "    </tr>\n",
        "    <tr>\n",
        "      <th>1</th>\n",
        "      <td> 1</td>\n",
        "      <td> A19B0BY3QZPL78</td>\n",
        "      <td> B000FOMYUA</td>\n",
        "      <td> 1</td>\n",
        "    </tr>\n",
        "  </tbody>\n",
        "</table>\n",
        "<p>2 rows \u00d7 4 columns</p>\n",
        "</div>"
       ],
       "metadata": {},
       "output_type": "pyout",
       "prompt_number": 8,
       "text": [
        "   index   Review_UserID  Product_ID  Review_Score\n",
        "0      0  A1XM2EH9OB2R15  B00063FJTS             1\n",
        "1      1  A19B0BY3QZPL78  B000FOMYUA             1\n",
        "\n",
        "[2 rows x 4 columns]"
       ]
      }
     ],
     "prompt_number": 8
    },
    {
     "cell_type": "code",
     "collapsed": false,
     "input": [
      "print len(bots[(bots[\"Review_Score\"]==2)])\n",
      "print len(bots[bots[\"Review_Score\"]==3])\n",
      "print len(bots[bots[\"Review_Score\"]==4])"
     ],
     "language": "python",
     "metadata": {},
     "outputs": [
      {
       "output_type": "stream",
       "stream": "stdout",
       "text": [
        "5983\n",
        "599\n",
        "164\n"
       ]
      }
     ],
     "prompt_number": 9
    },
    {
     "cell_type": "code",
     "collapsed": false,
     "input": [
      "bots[bots[\"Review_Score\"]>=3].to_csv(\"Data/Bots_2_Review.csv\")"
     ],
     "language": "python",
     "metadata": {},
     "outputs": [],
     "prompt_number": 10
    },
    {
     "cell_type": "code",
     "collapsed": false,
     "input": [
      "cut_users = bots[bots[\"Review_Score\"]>=3]\n",
      "cut_users = cut_users[\"Review_UserID\"]\n",
      "print len(raw_electronics[~raw_electronics.Review_UserID.isin(cut_users)])\n",
      "print len(raw_electronics[raw_electronics.Review_UserID.isin(cut_users)])\n",
      "bad_users = raw_electronics[raw_electronics.Review_UserID.isin(cut_users)][\"Review_UserID\"]\n",
      "raw_electronics = raw_electronics[~raw_electronics.Review_UserID.isin(cut_users)]"
     ],
     "language": "python",
     "metadata": {},
     "outputs": [
      {
       "output_type": "stream",
       "stream": "stdout",
       "text": [
        "647569\n",
        "20765"
       ]
      },
      {
       "output_type": "stream",
       "stream": "stdout",
       "text": [
        "\n"
       ]
      }
     ],
     "prompt_number": 11
    },
    {
     "cell_type": "code",
     "collapsed": false,
     "input": [
      "bad_users = bad_users.unique()\n",
      "print len(bad_users)\n",
      "\"AYA4HL04UH8JT\" in bad_users"
     ],
     "language": "python",
     "metadata": {},
     "outputs": [
      {
       "output_type": "stream",
       "stream": "stdout",
       "text": [
        "521\n"
       ]
      },
      {
       "metadata": {},
       "output_type": "pyout",
       "prompt_number": 12,
       "text": [
        "False"
       ]
      }
     ],
     "prompt_number": 12
    },
    {
     "cell_type": "code",
     "collapsed": false,
     "input": [
      "pd.DataFrame(bad_users, columns=[\"User_ID\"]).to_csv(\"Data/Bad_Users_Movie.csv\")"
     ],
     "language": "python",
     "metadata": {},
     "outputs": [],
     "prompt_number": 13
    },
    {
     "cell_type": "code",
     "collapsed": false,
     "input": [
      "cut_users = pd.DataFrame.from_csv(\"Data/Bad_Users_Movie.csv\")\n",
      "raw_electronics = raw_electronics[~raw_electronics.Review_UserID.isin(cut_users[\"User_ID\"])]"
     ],
     "language": "python",
     "metadata": {},
     "outputs": [],
     "prompt_number": 38
    },
    {
     "cell_type": "code",
     "collapsed": false,
     "input": [
      "raw_electronics[raw_electronics.Review_UserID == \"AYA4HL04UH8JT\"]"
     ],
     "language": "python",
     "metadata": {},
     "outputs": [
      {
       "html": [
        "<div style=\"max-height:1000px;max-width:1500px;overflow:auto;\">\n",
        "<table border=\"1\" class=\"dataframe\">\n",
        "  <tbody>\n",
        "    <tr>\n",
        "      <td>Int64Index([], dtype='int64')</td>\n",
        "      <td>Empty DataFrame</td>\n",
        "    </tr>\n",
        "  </tbody>\n",
        "</table>\n",
        "<p>0 rows \u00d7 9 columns</p>\n",
        "</div>"
       ],
       "metadata": {},
       "output_type": "pyout",
       "prompt_number": 39,
       "text": [
        "Empty DataFrame\n",
        "Columns: [Product_ID, Product_Title, Product_Price, Review_UserID, Review_ProfileName, Review_Helpfulness_Score, Review_Helpfulness_Total, Review_Score, Review_Timestamp]\n",
        "Index: []\n",
        "\n",
        "[0 rows x 9 columns]"
       ]
      }
     ],
     "prompt_number": 39
    },
    {
     "cell_type": "heading",
     "level": 3,
     "metadata": {},
     "source": [
      "Remove non-caring users"
     ]
    },
    {
     "cell_type": "code",
     "collapsed": false,
     "input": [
      "# Remove all users based on review count\n",
      "good_users = raw_electronics.groupby(\"Review_UserID\")\n",
      "good_users = good_users.count()[\"Review_UserID\"]"
     ],
     "language": "python",
     "metadata": {},
     "outputs": [],
     "prompt_number": 14
    },
    {
     "cell_type": "code",
     "collapsed": false,
     "input": [
      "good_users.to_csv(\"Data/No_Bot_User_Review_Counts_Movie.csv\")"
     ],
     "language": "python",
     "metadata": {},
     "outputs": [],
     "prompt_number": 15
    },
    {
     "cell_type": "code",
     "collapsed": false,
     "input": [
      "plt.hist(good_users[good_users < 100], bins=100, log=True)\n",
      "# It appears like 10 is a good number :)"
     ],
     "language": "python",
     "metadata": {},
     "outputs": [
      {
       "metadata": {},
       "output_type": "pyout",
       "prompt_number": 16,
       "text": [
        "(array([  2.16546000e+05,   5.38050000e+04,   1.63860000e+04,\n",
        "         8.24100000e+03,   4.56500000e+03,   2.51900000e+03,\n",
        "         1.97700000e+03,   1.26900000e+03,   9.42000000e+02,\n",
        "         8.46000000e+02,   5.59000000e+02,   5.55000000e+02,\n",
        "         4.30000000e+02,   4.54000000e+02,   3.06000000e+02,\n",
        "         2.13000000e+02,   2.22000000e+02,   1.81000000e+02,\n",
        "         1.66000000e+02,   1.92000000e+02,   1.06000000e+02,\n",
        "         1.20000000e+02,   1.17000000e+02,   7.80000000e+01,\n",
        "         9.50000000e+01,   7.60000000e+01,   7.00000000e+01,\n",
        "         5.40000000e+01,   5.20000000e+01,   6.30000000e+01,\n",
        "         4.70000000e+01,   4.90000000e+01,   3.20000000e+01,\n",
        "         5.30000000e+01,   4.30000000e+01,   2.50000000e+01,\n",
        "         3.40000000e+01,   3.30000000e+01,   2.50000000e+01,\n",
        "         2.80000000e+01,   3.20000000e+01,   2.20000000e+01,\n",
        "         2.00000000e+01,   2.20000000e+01,   2.30000000e+01,\n",
        "         1.80000000e+01,   2.40000000e+01,   2.20000000e+01,\n",
        "         1.80000000e+01,   0.00000000e+00,   1.30000000e+01,\n",
        "         1.20000000e+01,   1.70000000e+01,   1.20000000e+01,\n",
        "         2.00000000e+01,   1.60000000e+01,   2.40000000e+01,\n",
        "         8.00000000e+00,   1.20000000e+01,   1.10000000e+01,\n",
        "         8.00000000e+00,   5.00000000e+00,   1.50000000e+01,\n",
        "         6.00000000e+00,   8.00000000e+00,   1.00000000e+01,\n",
        "         6.00000000e+00,   8.00000000e+00,   1.10000000e+01,\n",
        "         9.00000000e+00,   6.00000000e+00,   9.00000000e+00,\n",
        "         4.00000000e+00,   1.60000000e+01,   7.00000000e+00,\n",
        "         1.00000000e+00,   7.00000000e+00,   5.00000000e+00,\n",
        "         9.00000000e+00,   8.00000000e+00,   5.00000000e+00,\n",
        "         6.00000000e+00,   4.00000000e+00,   3.00000000e+00,\n",
        "         9.00000000e+00,   6.00000000e+00,   3.00000000e+00,\n",
        "         5.00000000e+00,   3.00000000e+00,   5.00000000e+00,\n",
        "         6.00000000e+00,   2.00000000e+00,   7.00000000e+00,\n",
        "         1.00000000e+00,   2.00000000e+00,   4.00000000e+00,\n",
        "         7.00000000e+00,   4.00000000e+00,   3.00000000e+00,\n",
        "         3.00000000e+00]),\n",
        " array([  1.  ,   1.98,   2.96,   3.94,   4.92,   5.9 ,   6.88,   7.86,\n",
        "         8.84,   9.82,  10.8 ,  11.78,  12.76,  13.74,  14.72,  15.7 ,\n",
        "        16.68,  17.66,  18.64,  19.62,  20.6 ,  21.58,  22.56,  23.54,\n",
        "        24.52,  25.5 ,  26.48,  27.46,  28.44,  29.42,  30.4 ,  31.38,\n",
        "        32.36,  33.34,  34.32,  35.3 ,  36.28,  37.26,  38.24,  39.22,\n",
        "        40.2 ,  41.18,  42.16,  43.14,  44.12,  45.1 ,  46.08,  47.06,\n",
        "        48.04,  49.02,  50.  ,  50.98,  51.96,  52.94,  53.92,  54.9 ,\n",
        "        55.88,  56.86,  57.84,  58.82,  59.8 ,  60.78,  61.76,  62.74,\n",
        "        63.72,  64.7 ,  65.68,  66.66,  67.64,  68.62,  69.6 ,  70.58,\n",
        "        71.56,  72.54,  73.52,  74.5 ,  75.48,  76.46,  77.44,  78.42,\n",
        "        79.4 ,  80.38,  81.36,  82.34,  83.32,  84.3 ,  85.28,  86.26,\n",
        "        87.24,  88.22,  89.2 ,  90.18,  91.16,  92.14,  93.12,  94.1 ,\n",
        "        95.08,  96.06,  97.04,  98.02,  99.  ]),\n",
        " <a list of 100 Patch objects>)"
       ]
      },
      {
       "metadata": {},
       "output_type": "display_data",
       "png": "[encoded data removed]",
       "text": [
        "<matplotlib.figure.Figure at 0xaf6be74c>"
       ]
      }
     ],
     "prompt_number": 16
    },
    {
     "cell_type": "code",
     "collapsed": false,
     "input": [
      "cut_users = good_users[good_users < 8]\n",
      "cut_users = cut_users.index\n",
      "print \"Records\", len(cut_users)\n",
      "cut_users = cut_users.unique()\n",
      "print \"Users\", len(cut_users)"
     ],
     "language": "python",
     "metadata": {},
     "outputs": [
      {
       "output_type": "stream",
       "stream": "stdout",
       "text": [
        "Records 304039\n",
        "Users"
       ]
      },
      {
       "output_type": "stream",
       "stream": "stdout",
       "text": [
        " 304039\n"
       ]
      }
     ],
     "prompt_number": 17
    },
    {
     "cell_type": "markdown",
     "metadata": {},
     "source": [
      "Import Good Attempt"
     ]
    },
    {
     "cell_type": "code",
     "collapsed": false,
     "input": [
      "good_users = pd.read_csv(\"Data/No_Bot_User_Review_Counts.csv\", header=None)\n",
      "good_users[1].head(5)"
     ],
     "language": "python",
     "metadata": {},
     "outputs": [
      {
       "metadata": {},
       "output_type": "pyout",
       "prompt_number": 71,
       "text": [
        "0    1\n",
        "1    1\n",
        "2    2\n",
        "3    1\n",
        "4    2\n",
        "Name: 1, dtype: int64"
       ]
      }
     ],
     "prompt_number": 71
    },
    {
     "cell_type": "code",
     "collapsed": false,
     "input": [
      "print len(good_users)\n",
      "cut_users = good_users[good_users[1] < 8]\n",
      "cut_users = cut_users[0]\n",
      "print \"Records\", len(cut_users)\n",
      "cut_users = cut_users.unique()\n",
      "print \"Users\", len(cut_users)\n",
      "cut_users[1:5]"
     ],
     "language": "python",
     "metadata": {},
     "outputs": [
      {
       "output_type": "stream",
       "stream": "stdout",
       "text": [
        "811033\n",
        "Records"
       ]
      },
      {
       "output_type": "stream",
       "stream": "stdout",
       "text": [
        " 803643\n",
        "Users"
       ]
      },
      {
       "output_type": "stream",
       "stream": "stdout",
       "text": [
        " 803643\n"
       ]
      },
      {
       "metadata": {},
       "output_type": "pyout",
       "prompt_number": 75,
       "text": [
        "array(['A0004478EF5NFPHLGCWG', 'A00259703ZH4D3R0DO09',\n",
        "       'A00267003MU1A1IDE5IV4', 'A00279861HQYOQ4LIJ55F'], dtype=object)"
       ]
      }
     ],
     "prompt_number": 75
    },
    {
     "cell_type": "markdown",
     "metadata": {},
     "source": [
      "Actually cut it"
     ]
    },
    {
     "cell_type": "code",
     "collapsed": false,
     "input": [
      "print len(raw_electronics[raw_electronics.Review_UserID.isin(cut_users)])\n",
      "print len(raw_electronics[~raw_electronics.Review_UserID.isin(cut_users)])\n",
      "raw_electronics = raw_electronics[~raw_electronics.Review_UserID.isin(cut_users)]"
     ],
     "language": "python",
     "metadata": {},
     "outputs": [
      {
       "output_type": "stream",
       "stream": "stdout",
       "text": [
        "458056\n",
        "189513"
       ]
      },
      {
       "output_type": "stream",
       "stream": "stdout",
       "text": [
        "\n"
       ]
      }
     ],
     "prompt_number": 18
    },
    {
     "cell_type": "heading",
     "level": 4,
     "metadata": {},
     "source": [
      "Remove dead products"
     ]
    },
    {
     "cell_type": "code",
     "collapsed": false,
     "input": [
      "good_products = raw_electronics.groupby(\"Product_ID\")\n",
      "good_products = good_products.count()[\"Product_ID\"]"
     ],
     "language": "python",
     "metadata": {},
     "outputs": [],
     "prompt_number": 19
    },
    {
     "cell_type": "code",
     "collapsed": false,
     "input": [
      "good_products.to_csv(\"Data/No_Bot_User_Product_Review_Counts_Movie.csv\")"
     ],
     "language": "python",
     "metadata": {},
     "outputs": [],
     "prompt_number": 20
    },
    {
     "cell_type": "code",
     "collapsed": false,
     "input": [
      "plt.hist(good_products[(good_products < 200)], bins=100, log=True)"
     ],
     "language": "python",
     "metadata": {},
     "outputs": [
      {
       "metadata": {},
       "output_type": "pyout",
       "prompt_number": 21,
       "text": [
        "(array([  5.26200000e+03,   2.16500000e+03,   1.44800000e+03,\n",
        "         9.43000000e+02,   6.46000000e+02,   5.31000000e+02,\n",
        "         4.99000000e+02,   3.24000000e+02,   2.85000000e+02,\n",
        "         2.65000000e+02,   2.21000000e+02,   1.70000000e+02,\n",
        "         1.52000000e+02,   1.31000000e+02,   1.20000000e+02,\n",
        "         1.32000000e+02,   7.30000000e+01,   1.01000000e+02,\n",
        "         6.70000000e+01,   7.50000000e+01,   6.20000000e+01,\n",
        "         7.40000000e+01,   5.20000000e+01,   4.20000000e+01,\n",
        "         7.50000000e+01,   7.20000000e+01,   3.70000000e+01,\n",
        "         3.90000000e+01,   3.10000000e+01,   3.20000000e+01,\n",
        "         3.60000000e+01,   2.00000000e+01,   2.00000000e+01,\n",
        "         1.30000000e+01,   2.10000000e+01,   4.20000000e+01,\n",
        "         1.90000000e+01,   2.40000000e+01,   2.00000000e+01,\n",
        "         1.40000000e+01,   1.50000000e+01,   1.30000000e+01,\n",
        "         1.30000000e+01,   2.00000000e+01,   1.00000000e+01,\n",
        "         6.00000000e+00,   7.00000000e+00,   1.20000000e+01,\n",
        "         1.10000000e+01,   1.30000000e+01,   6.00000000e+00,\n",
        "         1.40000000e+01,   1.20000000e+01,   1.40000000e+01,\n",
        "         1.20000000e+01,   1.20000000e+01,   1.60000000e+01,\n",
        "         8.00000000e+00,   8.00000000e+00,   3.00000000e+00,\n",
        "         3.00000000e+00,   5.00000000e+00,   2.00000000e+00,\n",
        "         2.00000000e+00,   8.00000000e+00,   7.00000000e+00,\n",
        "         1.00000000e+00,   5.00000000e+00,   3.00000000e+00,\n",
        "         4.00000000e+00,   1.00000000e+00,   3.00000000e+00,\n",
        "         2.00000000e+00,   2.00000000e+00,   6.00000000e+00,\n",
        "         3.00000000e+00,   1.00000000e+00,   0.00000000e+00,\n",
        "         1.00000000e+00,   3.00000000e+00,   0.00000000e+00,\n",
        "         0.00000000e+00,   1.00000000e+00,   2.00000000e+00,\n",
        "         1.00000000e+00,   0.00000000e+00,   3.00000000e+00,\n",
        "         2.00000000e+00,   2.00000000e+00,   2.00000000e+00,\n",
        "         2.00000000e+00,   3.00000000e+00,   0.00000000e+00,\n",
        "         4.00000000e+00,   0.00000000e+00,   5.00000000e+00,\n",
        "         9.00000000e+00,   2.00000000e+00,   0.00000000e+00,\n",
        "         3.00000000e+00]),\n",
        " array([   1.  ,    2.97,    4.94,    6.91,    8.88,   10.85,   12.82,\n",
        "         14.79,   16.76,   18.73,   20.7 ,   22.67,   24.64,   26.61,\n",
        "         28.58,   30.55,   32.52,   34.49,   36.46,   38.43,   40.4 ,\n",
        "         42.37,   44.34,   46.31,   48.28,   50.25,   52.22,   54.19,\n",
        "         56.16,   58.13,   60.1 ,   62.07,   64.04,   66.01,   67.98,\n",
        "         69.95,   71.92,   73.89,   75.86,   77.83,   79.8 ,   81.77,\n",
        "         83.74,   85.71,   87.68,   89.65,   91.62,   93.59,   95.56,\n",
        "         97.53,   99.5 ,  101.47,  103.44,  105.41,  107.38,  109.35,\n",
        "        111.32,  113.29,  115.26,  117.23,  119.2 ,  121.17,  123.14,\n",
        "        125.11,  127.08,  129.05,  131.02,  132.99,  134.96,  136.93,\n",
        "        138.9 ,  140.87,  142.84,  144.81,  146.78,  148.75,  150.72,\n",
        "        152.69,  154.66,  156.63,  158.6 ,  160.57,  162.54,  164.51,\n",
        "        166.48,  168.45,  170.42,  172.39,  174.36,  176.33,  178.3 ,\n",
        "        180.27,  182.24,  184.21,  186.18,  188.15,  190.12,  192.09,\n",
        "        194.06,  196.03,  198.  ]),\n",
        " <a list of 100 Patch objects>)"
       ]
      },
      {
       "metadata": {},
       "output_type": "display_data",
       "png": "[encoded data removed]",
       "text": [
        "<matplotlib.figure.Figure at 0x9ebbf06c>"
       ]
      }
     ],
     "prompt_number": 21
    },
    {
     "cell_type": "code",
     "collapsed": false,
     "input": [
      "cut_products = good_products[good_products < 10]\n",
      "cut_products = cut_products.index\n",
      "print \"Records\", len(cut_products)\n",
      "cut_products = cut_products.unique()\n",
      "print \"Products\", len(cut_products)"
     ],
     "language": "python",
     "metadata": {},
     "outputs": [
      {
       "output_type": "stream",
       "stream": "stdout",
       "text": [
        "Records 10172\n",
        "Products 10172\n"
       ]
      }
     ],
     "prompt_number": 22
    },
    {
     "cell_type": "code",
     "collapsed": false,
     "input": [
      "print \"Good\", len(raw_electronics[~raw_electronics.Product_ID.isin(cut_products)])\n",
      "print \"Bad\", len(raw_electronics[raw_electronics.Product_ID.isin(cut_products)])"
     ],
     "language": "python",
     "metadata": {},
     "outputs": [
      {
       "output_type": "stream",
       "stream": "stdout",
       "text": [
        "Good "
       ]
      },
      {
       "output_type": "stream",
       "stream": "stdout",
       "text": [
        "156912\n",
        "Bad 32601\n"
       ]
      }
     ],
     "prompt_number": 23
    },
    {
     "cell_type": "markdown",
     "metadata": {},
     "source": [
      "Import it instead"
     ]
    },
    {
     "cell_type": "code",
     "collapsed": false,
     "input": [
      "good_products = pd.read_csv(\"Data/No_Bot_User_Product_Review_Counts.csv\", header=None)\n",
      "good_products[1].head(5)"
     ],
     "language": "python",
     "metadata": {},
     "outputs": [
      {
       "metadata": {},
       "output_type": "pyout",
       "prompt_number": 79,
       "text": [
        "0    1\n",
        "1    1\n",
        "2    1\n",
        "3    1\n",
        "4    1\n",
        "Name: 1, dtype: int64"
       ]
      }
     ],
     "prompt_number": 79
    },
    {
     "cell_type": "code",
     "collapsed": false,
     "input": [
      "print len(good_products)\n",
      "cut_products = good_products[good_products[1] < 10]\n",
      "cut_products = cut_products[0]\n",
      "print \"Records\", len(cut_products)\n",
      "cut_products = cut_products.unique()\n",
      "print \"Users\", len(cut_products)\n",
      "cut_products[1:5]"
     ],
     "language": "python",
     "metadata": {},
     "outputs": [
      {
       "output_type": "stream",
       "stream": "stdout",
       "text": [
        "28753\n",
        "Records 27053\n",
        "Users 27053\n"
       ]
      },
      {
       "metadata": {},
       "output_type": "pyout",
       "prompt_number": 80,
       "text": [
        "array(['0312321074', '0312331363', '0312993064', '0373250460'], dtype=object)"
       ]
      }
     ],
     "prompt_number": 80
    },
    {
     "cell_type": "code",
     "collapsed": false,
     "input": [
      "print len(raw_electronics[raw_electronics.Product_ID.isin(cut_products)])\n",
      "print len(raw_electronics[~raw_electronics.Product_ID.isin(cut_products)])\n",
      "raw_electronics = raw_electronics[~raw_electronics.Product_ID.isin(cut_products)]"
     ],
     "language": "python",
     "metadata": {},
     "outputs": [
      {
       "output_type": "stream",
       "stream": "stdout",
       "text": [
        "32601\n",
        "156912"
       ]
      },
      {
       "output_type": "stream",
       "stream": "stdout",
       "text": [
        "\n"
       ]
      }
     ],
     "prompt_number": 24
    },
    {
     "cell_type": "heading",
     "level": 4,
     "metadata": {},
     "source": [
      "Save the Filtered Data"
     ]
    },
    {
     "cell_type": "code",
     "collapsed": false,
     "input": [
      "print \"overall length: \", len(raw_electronics)\n",
      "print \"products: \", len(raw_electronics[\"Product_ID\"].unique())\n",
      "print \"users: \", len(raw_electronics[\"Review_UserID\"].unique())"
     ],
     "language": "python",
     "metadata": {},
     "outputs": [
      {
       "output_type": "stream",
       "stream": "stdout",
       "text": [
        "overall length:  156912\n",
        "products:  4555\n",
        "users:  8263\n"
       ]
      }
     ],
     "prompt_number": 25
    },
    {
     "cell_type": "code",
     "collapsed": false,
     "input": [
      "raw_electronics.to_csv(\"Data/Matt_Filtered_Movie_Review_Data.csv\")"
     ],
     "language": "python",
     "metadata": {},
     "outputs": [],
     "prompt_number": 26
    },
    {
     "cell_type": "heading",
     "level": 1,
     "metadata": {},
     "source": [
      "Push Into SQL"
     ]
    },
    {
     "cell_type": "code",
     "collapsed": false,
     "input": [
      "import sqlite3\n",
      "conn = sqlite3.connect('/home/matthenricks/workspace/CMSC498J-Movie-Reviews/filtered_reviews.db')"
     ],
     "language": "python",
     "metadata": {},
     "outputs": [],
     "prompt_number": 27
    },
    {
     "cell_type": "code",
     "collapsed": false,
     "input": [
      "filtered_reviews = pd.DataFrame.from_csv(\"Data/Matt_Filtered_Movie_Review_Data.csv\")\n",
      "print \"review length: \" + str(len(filtered_reviews))\n",
      "#filtered_reviews.drop_duplicates(cols=[\"Product_ID\", \"Review_UserID\", ]"
     ],
     "language": "python",
     "metadata": {},
     "outputs": [
      {
       "output_type": "stream",
       "stream": "stdout",
       "text": [
        "review length: 156912\n"
       ]
      }
     ],
     "prompt_number": 28
    },
    {
     "cell_type": "code",
     "collapsed": false,
     "input": [
      "bots = pd.DataFrame.from_csv(\"Data/Bad_Users_Movie.csv\")"
     ],
     "language": "python",
     "metadata": {},
     "outputs": [],
     "prompt_number": 30
    },
    {
     "cell_type": "code",
     "collapsed": false,
     "input": [
      "conn.execute('''DROP TABLE review_bots_movie''')\n",
      "conn.commit()\n",
      "bots.to_sql(name='review_bots_movie', con=conn)\n",
      "print \"bots length: \" + str(len(bots))"
     ],
     "language": "python",
     "metadata": {},
     "outputs": [
      {
       "output_type": "stream",
       "stream": "stdout",
       "text": [
        "bots length: 521\n"
       ]
      }
     ],
     "prompt_number": 33
    },
    {
     "cell_type": "heading",
     "level": 1,
     "metadata": {},
     "source": [
      "Undone!"
     ]
    },
    {
     "cell_type": "code",
     "collapsed": false,
     "input": [
      "conn.execute('''DROP TABLE filtered_reviews_movie''')\n",
      "conn.commit()\n",
      "filtered_reviews.to_sql(name='filtered_reviews_movie', con=conn)"
     ],
     "language": "python",
     "metadata": {},
     "outputs": [],
     "prompt_number": 101
    },
    {
     "cell_type": "code",
     "collapsed": false,
     "input": [
      "res = conn.execute('''SELECT COUNT(*) FROM filtered_reviews''')\n",
      "for row in res:\n",
      "    print row"
     ],
     "language": "python",
     "metadata": {},
     "outputs": [
      {
       "output_type": "stream",
       "stream": "stdout",
       "text": [
        "(40218,)\n"
       ]
      }
     ],
     "prompt_number": 102
    },
    {
     "cell_type": "code",
     "collapsed": false,
     "input": [
      "res = conn.execute('''SELECT COUNT(*)\n",
      "FROM (SELECT Product_ID, Review_UserID FROM filtered_reviews)\n",
      "WHERE Review_UserID NOT IN (SELECT User_ID FROM review_bots)''')\n",
      "for row in res:\n",
      "    print row"
     ],
     "language": "python",
     "metadata": {},
     "outputs": [
      {
       "output_type": "stream",
       "stream": "stdout",
       "text": [
        "(40218,)\n"
       ]
      }
     ],
     "prompt_number": 103
    },
    {
     "cell_type": "markdown",
     "metadata": {},
     "source": [
      "If the above are the same, all the bots were remove in preprocessing!"
     ]
    },
    {
     "cell_type": "heading",
     "level": 1,
     "metadata": {},
     "source": [
      "Load The Cleansed Data"
     ]
    },
    {
     "cell_type": "code",
     "collapsed": false,
     "input": [
      "a = \"(\"\n",
      "for k in filtered_reviews.keys()[:-1]:\n",
      "    a += k + \",\"\n",
      "a += filtered_reviews.keys()[-1] + \")\"\n",
      "print a"
     ],
     "language": "python",
     "metadata": {},
     "outputs": [
      {
       "output_type": "stream",
       "stream": "stdout",
       "text": [
        "(Product_ID,Product_Title,Product_Price,Review_UserID,Review_ProfileName,Review_Helpfulness_Score,Review_Helpfulness_Total,Review_Score,Review_Timestamp)\n"
       ]
      }
     ],
     "prompt_number": 104
    },
    {
     "cell_type": "code",
     "collapsed": false,
     "input": [
      "conn.execute('''DROP TABLE joined_reviews''')\n",
      "conn.execute('''CREATE TABLE joined_reviews (\n",
      "    Product_ID TEXT,\n",
      "    Review_UserID1 TEXT,\n",
      "    Review_UserID2 TEXT,\n",
      "    Review_Timestamp INT)''')\n",
      "conn.commit()"
     ],
     "language": "python",
     "metadata": {},
     "outputs": [],
     "prompt_number": 105
    },
    {
     "cell_type": "code",
     "collapsed": false,
     "input": [
      "conn.execute('''INSERT INTO joined_reviews(Product_ID, Review_UserID1, Review_UserID2, Review_Timestamp)\n",
      "SELECT a.Product_ID, a.Review_UserID, b.Review_UserID, max(a.Review_Timestamp, b.Review_Timestamp)\n",
      "FROM filtered_reviews a INNER JOIN filtered_reviews b ON a.Product_ID == b.Product_ID\n",
      "WHERE a.Review_UserID < b.Review_UserID''')\n",
      "conn.commit()"
     ],
     "language": "python",
     "metadata": {},
     "outputs": [],
     "prompt_number": 106
    },
    {
     "cell_type": "code",
     "collapsed": false,
     "input": [
      "res = conn.execute('''SELECT COUNT(*) FROM joined_reviews''')\n",
      "for row in res:\n",
      "    print row"
     ],
     "language": "python",
     "metadata": {},
     "outputs": [
      {
       "output_type": "stream",
       "stream": "stdout",
       "text": [
        "(1591917,)\n"
       ]
      }
     ],
     "prompt_number": 107
    },
    {
     "cell_type": "code",
     "collapsed": false,
     "input": [
      "res = conn.execute('''SELECT Review_Timestamp, COUNT(*) \n",
      "FROM joined_reviews\n",
      "GROUP BY Review_Timestamp''')\n",
      "values = res.fetchall()"
     ],
     "language": "python",
     "metadata": {},
     "outputs": [],
     "prompt_number": 108
    },
    {
     "cell_type": "code",
     "collapsed": false,
     "input": [
      "counts = pd.DataFrame(values, columns=[\"Time\", \"Count\"])\n",
      "counts.head(5)"
     ],
     "language": "python",
     "metadata": {},
     "outputs": [
      {
       "html": [
        "<div style=\"max-height:1000px;max-width:1500px;overflow:auto;\">\n",
        "<table border=\"1\" class=\"dataframe\">\n",
        "  <thead>\n",
        "    <tr style=\"text-align: right;\">\n",
        "      <th></th>\n",
        "      <th>Time</th>\n",
        "      <th>Count</th>\n",
        "    </tr>\n",
        "  </thead>\n",
        "  <tbody>\n",
        "    <tr>\n",
        "      <th>0</th>\n",
        "      <td> 939600000</td>\n",
        "      <td> 1</td>\n",
        "    </tr>\n",
        "    <tr>\n",
        "      <th>1</th>\n",
        "      <td> 944611200</td>\n",
        "      <td> 2</td>\n",
        "    </tr>\n",
        "    <tr>\n",
        "      <th>2</th>\n",
        "      <td> 945820800</td>\n",
        "      <td> 3</td>\n",
        "    </tr>\n",
        "    <tr>\n",
        "      <th>3</th>\n",
        "      <td> 946598400</td>\n",
        "      <td> 4</td>\n",
        "    </tr>\n",
        "    <tr>\n",
        "      <th>4</th>\n",
        "      <td> 947116800</td>\n",
        "      <td> 5</td>\n",
        "    </tr>\n",
        "  </tbody>\n",
        "</table>\n",
        "<p>5 rows \u00d7 2 columns</p>\n",
        "</div>"
       ],
       "metadata": {},
       "output_type": "pyout",
       "prompt_number": 109,
       "text": [
        "        Time  Count\n",
        "0  939600000      1\n",
        "1  944611200      2\n",
        "2  945820800      3\n",
        "3  946598400      4\n",
        "4  947116800      5\n",
        "\n",
        "[5 rows x 2 columns]"
       ]
      }
     ],
     "prompt_number": 109
    },
    {
     "cell_type": "markdown",
     "metadata": {},
     "source": [
      "Interesting enough, the plot of when the maintained reviews happen is skewed right. This is probably due to how the final time is decided."
     ]
    },
    {
     "cell_type": "code",
     "collapsed": false,
     "input": [
      "plt.plot(counts[\"Time\"], counts[\"Count\"])"
     ],
     "language": "python",
     "metadata": {},
     "outputs": [
      {
       "metadata": {},
       "output_type": "pyout",
       "prompt_number": 110,
       "text": [
        "[<matplotlib.lines.Line2D at 0x9cf7582c>]"
       ]
      },
      {
       "metadata": {},
       "output_type": "display_data",
       "png": "[encoded data removed]",
       "text": [
        "<matplotlib.figure.Figure at 0x9d41772c>"
       ]
      }
     ],
     "prompt_number": 110
    },
    {
     "cell_type": "code",
     "collapsed": false,
     "input": [
      "res = conn.execute('''SELECT Review_UserID1, Review_UserID2, Count(*) \n",
      "FROM joined_reviews\n",
      "GROUP BY Review_UserID1, Review_UserID2''')\n",
      "values = res.fetchall()"
     ],
     "language": "python",
     "metadata": {},
     "outputs": [],
     "prompt_number": 111
    },
    {
     "cell_type": "code",
     "collapsed": false,
     "input": [
      "user_interactions = pd.DataFrame(values, columns=[\"User1\", \"User2\", \"Interactions\"])\n",
      "plt.hist(user_interactions[\"Interactions\"], bins=200, log=True)"
     ],
     "language": "python",
     "metadata": {},
     "outputs": [
      {
       "metadata": {},
       "output_type": "pyout",
       "prompt_number": 112,
       "text": [
        "(array([  3.96511000e+05,   0.00000000e+00,   0.00000000e+00,\n",
        "         0.00000000e+00,   4.97880000e+04,   0.00000000e+00,\n",
        "         0.00000000e+00,   0.00000000e+00,   0.00000000e+00,\n",
        "         5.35300000e+03,   0.00000000e+00,   0.00000000e+00,\n",
        "         0.00000000e+00,   0.00000000e+00,   4.17800000e+04,\n",
        "         0.00000000e+00,   0.00000000e+00,   0.00000000e+00,\n",
        "         0.00000000e+00,   4.54800000e+03,   0.00000000e+00,\n",
        "         0.00000000e+00,   0.00000000e+00,   0.00000000e+00,\n",
        "         8.29000000e+02,   0.00000000e+00,   0.00000000e+00,\n",
        "         0.00000000e+00,   0.00000000e+00,   4.43100000e+03,\n",
        "         0.00000000e+00,   0.00000000e+00,   0.00000000e+00,\n",
        "         0.00000000e+00,   9.24370000e+04,   0.00000000e+00,\n",
        "         0.00000000e+00,   0.00000000e+00,   0.00000000e+00,\n",
        "         3.93400000e+03,   0.00000000e+00,   0.00000000e+00,\n",
        "         0.00000000e+00,   1.01000000e+03,   0.00000000e+00,\n",
        "         0.00000000e+00,   0.00000000e+00,   0.00000000e+00,\n",
        "         5.18000000e+02,   0.00000000e+00,   0.00000000e+00,\n",
        "         0.00000000e+00,   0.00000000e+00,   1.70000000e+01,\n",
        "         0.00000000e+00,   0.00000000e+00,   0.00000000e+00,\n",
        "         0.00000000e+00,   7.80000000e+01,   0.00000000e+00,\n",
        "         0.00000000e+00,   0.00000000e+00,   0.00000000e+00,\n",
        "         7.90000000e+01,   0.00000000e+00,   0.00000000e+00,\n",
        "         0.00000000e+00,   0.00000000e+00,   2.77000000e+02,\n",
        "         0.00000000e+00,   0.00000000e+00,   0.00000000e+00,\n",
        "         0.00000000e+00,   2.74200000e+03,   0.00000000e+00,\n",
        "         0.00000000e+00,   0.00000000e+00,   0.00000000e+00,\n",
        "         3.15000000e+02,   0.00000000e+00,   0.00000000e+00,\n",
        "         0.00000000e+00,   3.60000000e+01,   0.00000000e+00,\n",
        "         0.00000000e+00,   0.00000000e+00,   0.00000000e+00,\n",
        "         0.00000000e+00,   0.00000000e+00,   0.00000000e+00,\n",
        "         0.00000000e+00,   0.00000000e+00,   8.00000000e+00,\n",
        "         0.00000000e+00,   0.00000000e+00,   0.00000000e+00,\n",
        "         0.00000000e+00,   0.00000000e+00,   0.00000000e+00,\n",
        "         0.00000000e+00,   0.00000000e+00,   0.00000000e+00,\n",
        "         4.00000000e+00,   0.00000000e+00,   0.00000000e+00,\n",
        "         0.00000000e+00,   0.00000000e+00,   0.00000000e+00,\n",
        "         0.00000000e+00,   0.00000000e+00,   0.00000000e+00,\n",
        "         0.00000000e+00,   0.00000000e+00,   0.00000000e+00,\n",
        "         0.00000000e+00,   0.00000000e+00,   0.00000000e+00,\n",
        "         0.00000000e+00,   0.00000000e+00,   0.00000000e+00,\n",
        "         0.00000000e+00,   0.00000000e+00,   0.00000000e+00,\n",
        "         0.00000000e+00,   0.00000000e+00,   0.00000000e+00,\n",
        "         0.00000000e+00,   0.00000000e+00,   0.00000000e+00,\n",
        "         0.00000000e+00,   0.00000000e+00,   0.00000000e+00,\n",
        "         0.00000000e+00,   0.00000000e+00,   0.00000000e+00,\n",
        "         0.00000000e+00,   0.00000000e+00,   0.00000000e+00,\n",
        "         0.00000000e+00,   0.00000000e+00,   0.00000000e+00,\n",
        "         0.00000000e+00,   0.00000000e+00,   0.00000000e+00,\n",
        "         0.00000000e+00,   0.00000000e+00,   0.00000000e+00,\n",
        "         0.00000000e+00,   0.00000000e+00,   0.00000000e+00,\n",
        "         0.00000000e+00,   6.00000000e+00,   0.00000000e+00,\n",
        "         0.00000000e+00,   0.00000000e+00,   0.00000000e+00,\n",
        "         0.00000000e+00,   0.00000000e+00,   0.00000000e+00,\n",
        "         0.00000000e+00,   0.00000000e+00,   0.00000000e+00,\n",
        "         0.00000000e+00,   0.00000000e+00,   0.00000000e+00,\n",
        "         0.00000000e+00,   0.00000000e+00,   0.00000000e+00,\n",
        "         0.00000000e+00,   0.00000000e+00,   0.00000000e+00,\n",
        "         0.00000000e+00,   0.00000000e+00,   0.00000000e+00,\n",
        "         0.00000000e+00,   0.00000000e+00,   0.00000000e+00,\n",
        "         0.00000000e+00,   0.00000000e+00,   0.00000000e+00,\n",
        "         0.00000000e+00,   0.00000000e+00,   0.00000000e+00,\n",
        "         0.00000000e+00,   0.00000000e+00,   0.00000000e+00,\n",
        "         0.00000000e+00,   0.00000000e+00,   0.00000000e+00,\n",
        "         0.00000000e+00,   0.00000000e+00,   0.00000000e+00,\n",
        "         0.00000000e+00,   0.00000000e+00,   0.00000000e+00,\n",
        "         0.00000000e+00,   0.00000000e+00,   0.00000000e+00,\n",
        "         0.00000000e+00,   1.53000000e+02]),\n",
        " array([  1.   ,   1.205,   1.41 ,   1.615,   1.82 ,   2.025,   2.23 ,\n",
        "         2.435,   2.64 ,   2.845,   3.05 ,   3.255,   3.46 ,   3.665,\n",
        "         3.87 ,   4.075,   4.28 ,   4.485,   4.69 ,   4.895,   5.1  ,\n",
        "         5.305,   5.51 ,   5.715,   5.92 ,   6.125,   6.33 ,   6.535,\n",
        "         6.74 ,   6.945,   7.15 ,   7.355,   7.56 ,   7.765,   7.97 ,\n",
        "         8.175,   8.38 ,   8.585,   8.79 ,   8.995,   9.2  ,   9.405,\n",
        "         9.61 ,   9.815,  10.02 ,  10.225,  10.43 ,  10.635,  10.84 ,\n",
        "        11.045,  11.25 ,  11.455,  11.66 ,  11.865,  12.07 ,  12.275,\n",
        "        12.48 ,  12.685,  12.89 ,  13.095,  13.3  ,  13.505,  13.71 ,\n",
        "        13.915,  14.12 ,  14.325,  14.53 ,  14.735,  14.94 ,  15.145,\n",
        "        15.35 ,  15.555,  15.76 ,  15.965,  16.17 ,  16.375,  16.58 ,\n",
        "        16.785,  16.99 ,  17.195,  17.4  ,  17.605,  17.81 ,  18.015,\n",
        "        18.22 ,  18.425,  18.63 ,  18.835,  19.04 ,  19.245,  19.45 ,\n",
        "        19.655,  19.86 ,  20.065,  20.27 ,  20.475,  20.68 ,  20.885,\n",
        "        21.09 ,  21.295,  21.5  ,  21.705,  21.91 ,  22.115,  22.32 ,\n",
        "        22.525,  22.73 ,  22.935,  23.14 ,  23.345,  23.55 ,  23.755,\n",
        "        23.96 ,  24.165,  24.37 ,  24.575,  24.78 ,  24.985,  25.19 ,\n",
        "        25.395,  25.6  ,  25.805,  26.01 ,  26.215,  26.42 ,  26.625,\n",
        "        26.83 ,  27.035,  27.24 ,  27.445,  27.65 ,  27.855,  28.06 ,\n",
        "        28.265,  28.47 ,  28.675,  28.88 ,  29.085,  29.29 ,  29.495,\n",
        "        29.7  ,  29.905,  30.11 ,  30.315,  30.52 ,  30.725,  30.93 ,\n",
        "        31.135,  31.34 ,  31.545,  31.75 ,  31.955,  32.16 ,  32.365,\n",
        "        32.57 ,  32.775,  32.98 ,  33.185,  33.39 ,  33.595,  33.8  ,\n",
        "        34.005,  34.21 ,  34.415,  34.62 ,  34.825,  35.03 ,  35.235,\n",
        "        35.44 ,  35.645,  35.85 ,  36.055,  36.26 ,  36.465,  36.67 ,\n",
        "        36.875,  37.08 ,  37.285,  37.49 ,  37.695,  37.9  ,  38.105,\n",
        "        38.31 ,  38.515,  38.72 ,  38.925,  39.13 ,  39.335,  39.54 ,\n",
        "        39.745,  39.95 ,  40.155,  40.36 ,  40.565,  40.77 ,  40.975,\n",
        "        41.18 ,  41.385,  41.59 ,  41.795,  42.   ]),\n",
        " <a list of 200 Patch objects>)"
       ]
      },
      {
       "metadata": {},
       "output_type": "display_data",
       "png": "[encoded data removed]",
       "text": [
        "<matplotlib.figure.Figure at 0x9ce403ac>"
       ]
      }
     ],
     "prompt_number": 112
    },
    {
     "cell_type": "code",
     "collapsed": false,
     "input": [
      "user_interactions[user_interactions[\"Interactions\"] == max(user_interactions[\"Interactions\"])].head(2)"
     ],
     "language": "python",
     "metadata": {},
     "outputs": [
      {
       "html": [
        "<div style=\"max-height:1000px;max-width:1500px;overflow:auto;\">\n",
        "<table border=\"1\" class=\"dataframe\">\n",
        "  <thead>\n",
        "    <tr style=\"text-align: right;\">\n",
        "      <th></th>\n",
        "      <th>User1</th>\n",
        "      <th>User2</th>\n",
        "      <th>Interactions</th>\n",
        "    </tr>\n",
        "  </thead>\n",
        "  <tbody>\n",
        "    <tr>\n",
        "      <th>104387</th>\n",
        "      <td> A1C4B42FCBG1ZA</td>\n",
        "      <td> A1IIHS3QXM9OFP</td>\n",
        "      <td> 42</td>\n",
        "    </tr>\n",
        "    <tr>\n",
        "      <th>104388</th>\n",
        "      <td> A1C4B42FCBG1ZA</td>\n",
        "      <td> A1JUE0AILOGOW0</td>\n",
        "      <td> 42</td>\n",
        "    </tr>\n",
        "  </tbody>\n",
        "</table>\n",
        "<p>2 rows \u00d7 3 columns</p>\n",
        "</div>"
       ],
       "metadata": {},
       "output_type": "pyout",
       "prompt_number": 117,
       "text": [
        "                 User1           User2  Interactions\n",
        "104387  A1C4B42FCBG1ZA  A1IIHS3QXM9OFP            42\n",
        "104388  A1C4B42FCBG1ZA  A1JUE0AILOGOW0            42\n",
        "\n",
        "[2 rows x 3 columns]"
       ]
      }
     ],
     "prompt_number": 117
    },
    {
     "cell_type": "code",
     "collapsed": false,
     "input": [
      "counts.head(5)"
     ],
     "language": "python",
     "metadata": {},
     "outputs": [
      {
       "html": [
        "<div style=\"max-height:1000px;max-width:1500px;overflow:auto;\">\n",
        "<table border=\"1\" class=\"dataframe\">\n",
        "  <thead>\n",
        "    <tr style=\"text-align: right;\">\n",
        "      <th></th>\n",
        "      <th>Time</th>\n",
        "      <th>Count</th>\n",
        "    </tr>\n",
        "  </thead>\n",
        "  <tbody>\n",
        "    <tr>\n",
        "      <th>0</th>\n",
        "      <td> 939600000</td>\n",
        "      <td> 1</td>\n",
        "    </tr>\n",
        "    <tr>\n",
        "      <th>1</th>\n",
        "      <td> 944611200</td>\n",
        "      <td> 2</td>\n",
        "    </tr>\n",
        "    <tr>\n",
        "      <th>2</th>\n",
        "      <td> 945820800</td>\n",
        "      <td> 3</td>\n",
        "    </tr>\n",
        "    <tr>\n",
        "      <th>3</th>\n",
        "      <td> 946598400</td>\n",
        "      <td> 4</td>\n",
        "    </tr>\n",
        "    <tr>\n",
        "      <th>4</th>\n",
        "      <td> 947116800</td>\n",
        "      <td> 5</td>\n",
        "    </tr>\n",
        "  </tbody>\n",
        "</table>\n",
        "<p>5 rows \u00d7 2 columns</p>\n",
        "</div>"
       ],
       "metadata": {},
       "output_type": "pyout",
       "prompt_number": 118,
       "text": [
        "        Time  Count\n",
        "0  939600000      1\n",
        "1  944611200      2\n",
        "2  945820800      3\n",
        "3  946598400      4\n",
        "4  947116800      5\n",
        "\n",
        "[5 rows x 2 columns]"
       ]
      }
     ],
     "prompt_number": 118
    },
    {
     "cell_type": "code",
     "collapsed": false,
     "input": [
      "counts[\"Time\"].min(), counts[\"Time\"].max()"
     ],
     "language": "python",
     "metadata": {},
     "outputs": [
      {
       "metadata": {},
       "output_type": "pyout",
       "prompt_number": 122,
       "text": [
        "(939600000, 1362182400)"
       ]
      }
     ],
     "prompt_number": 122
    },
    {
     "cell_type": "code",
     "collapsed": false,
     "input": [
      "frames = 10\n",
      "minimum = counts[\"Time\"].min()\n",
      "step = (counts[\"Time\"].max() - minimum)/frames"
     ],
     "language": "python",
     "metadata": {},
     "outputs": [],
     "prompt_number": 123
    },
    {
     "cell_type": "code",
     "collapsed": false,
     "input": [
      "for i in range(1,frames + 1):\n",
      "    conn.execute('''DROP TABLE window''' + str(i))"
     ],
     "language": "python",
     "metadata": {},
     "outputs": [
      {
       "ename": "OperationalError",
       "evalue": "no such table: window2",
       "output_type": "pyerr",
       "traceback": [
        "\u001b[0;31m---------------------------------------------------------------------------\u001b[0m\n\u001b[0;31mOperationalError\u001b[0m                          Traceback (most recent call last)",
        "\u001b[0;32m<ipython-input-147-baa94a4d0e8a>\u001b[0m in \u001b[0;36m<module>\u001b[0;34m()\u001b[0m\n\u001b[1;32m      1\u001b[0m \u001b[0;32mfor\u001b[0m \u001b[0mi\u001b[0m \u001b[0;32min\u001b[0m \u001b[0mrange\u001b[0m\u001b[0;34m(\u001b[0m\u001b[0;36m1\u001b[0m\u001b[0;34m,\u001b[0m\u001b[0mframes\u001b[0m \u001b[0;34m+\u001b[0m \u001b[0;36m1\u001b[0m\u001b[0;34m)\u001b[0m\u001b[0;34m:\u001b[0m\u001b[0;34m\u001b[0m\u001b[0m\n\u001b[0;32m----> 2\u001b[0;31m     \u001b[0mconn\u001b[0m\u001b[0;34m.\u001b[0m\u001b[0mexecute\u001b[0m\u001b[0;34m(\u001b[0m\u001b[0;34m'''DROP TABLE window'''\u001b[0m \u001b[0;34m+\u001b[0m \u001b[0mstr\u001b[0m\u001b[0;34m(\u001b[0m\u001b[0mi\u001b[0m\u001b[0;34m)\u001b[0m\u001b[0;34m)\u001b[0m\u001b[0;34m\u001b[0m\u001b[0m\n\u001b[0m",
        "\u001b[0;31mOperationalError\u001b[0m: no such table: window2"
       ]
      }
     ],
     "prompt_number": 147
    },
    {
     "cell_type": "code",
     "collapsed": false,
     "input": [
      "for i in range(1,10 + 1):\n",
      "    conn.execute('''DROP TABLE u_count''' + str(i))"
     ],
     "language": "python",
     "metadata": {},
     "outputs": [],
     "prompt_number": 224
    },
    {
     "cell_type": "code",
     "collapsed": false,
     "input": [
      "for i in range(1,10 + 1):\n",
      "    conn.execute('''CREATE TABLE u_count''' + str(i) + ''' (\n",
      "        users INT\n",
      "        )''')\n",
      "    command = '''INSERT INTO u_count''' + str(i) + '''\n",
      "    SELECT COUNT(DISTINCT Review_UserID)\n",
      "    FROM filtered_reviews\n",
      "    WHERE Review_Timestamp <= ''' + str(minimum + (step*i)) + ''' AND Review_Timestamp >= ''' + str(minimum + (step*(i-1))) + '''\n",
      "    '''\n",
      "    res = conn.execute(command)"
     ],
     "language": "python",
     "metadata": {},
     "outputs": [],
     "prompt_number": 225
    },
    {
     "cell_type": "code",
     "collapsed": false,
     "input": [
      "for i in range(1,frames + 1):\n",
      "    conn.execute('''CREATE TABLE window''' + str(i) + ''' (\n",
      "        Review_UserID1 TEXT,\n",
      "        Review_UserID2 TEXT,\n",
      "        Count INT)''')\n",
      "    command = '''INSERT INTO window''' + str(i) + '''\n",
      "    SELECT Review_UserID1, Review_UserID2, COUNT(*)\n",
      "    FROM joined_reviews\n",
      "    WHERE Review_Timestamp <= ''' + str(minimum + (step*i)) + ''' AND Review_Timestamp >= ''' + str(minimum + (step*(i-1))) + '''\n",
      "    GROUP BY Review_UserID1, Review_UserID2'''\n",
      "    res = conn.execute(command)"
     ],
     "language": "python",
     "metadata": {},
     "outputs": [],
     "prompt_number": 148
    },
    {
     "cell_type": "code",
     "collapsed": false,
     "input": [
      "res = conn.execute('''SELECT w1.Count, ifnull(w2.Count, 0), w1.Review_UserID1, w1.Review_UserID2\n",
      "FROM window1 w1 LEFT OUTER JOIN window2 w2 ON (w1.Review_UserID1 == w2.Review_UserID1 AND w1.Review_UserID2 == w2.Review_UserID2)\n",
      "UNION\n",
      "SELECT ifnull(w1.Count, 0), w2.Count, w2.Review_UserID1, w2.Review_UserID2\n",
      "FROM window2 w2 LEFT OUTER JOIN window1 w1 ON (w1.Review_UserID1 == w2.Review_UserID1 AND w1.Review_UserID2 == w2.Review_UserID2)\n",
      "''')\n",
      "values = res.fetchall()"
     ],
     "language": "python",
     "metadata": {},
     "outputs": [],
     "prompt_number": 204
    },
    {
     "cell_type": "code",
     "collapsed": false,
     "input": [
      "df = pd.DataFrame(values, columns = [\"U1\", \"U2\", \"U1_N\", \"U2_N\"])\n",
      "df = df.fillna(value = 0)\n",
      "df = df.groupby([\"U1\", \"U2\"]).count()[\"U1_N\"]\n",
      "df = df.reset_index(0).reset_index(0)"
     ],
     "language": "python",
     "metadata": {},
     "outputs": [],
     "prompt_number": 228
    },
    {
     "cell_type": "code",
     "collapsed": false,
     "input": [
      "# I need to add the 0 -> 0\n",
      "# P(FNO(U1&U2) | NO(U1&U2) = ?)\n",
      "res = conn.execute('''SELECT users FROM u_count1''')\n",
      "total = res.fetchall()[0][0]\n",
      "df.ix[len(df)] = (0,0, (total * (total-1) / 2) - sum(df[\"U1_N\"]))"
     ],
     "language": "python",
     "metadata": {},
     "outputs": [],
     "prompt_number": 229
    },
    {
     "cell_type": "code",
     "collapsed": false,
     "input": [
      "df = df.set_index([\"U1\", \"U2\"]).sort_index(0)"
     ],
     "language": "python",
     "metadata": {},
     "outputs": [],
     "prompt_number": 230
    },
    {
     "cell_type": "code",
     "collapsed": false,
     "input": [
      "df.index"
     ],
     "language": "python",
     "metadata": {},
     "outputs": [
      {
       "metadata": {},
       "output_type": "pyout",
       "prompt_number": 233,
       "text": [
        "MultiIndex(levels=[[0.0, 1.0, 2.0, 3.0, 4.0, 7.0], [0.0, 1.0, 2.0, 3.0, 4.0, 5.0, 6.0]],\n",
        "           labels=[[0, 0, 0, 0, 0, 0, 0, 1, 1, 1, 1, 1, 2, 2, 2, 2, 2, 3, 3, 3, 4, 4, 5], [0, 1, 2, 3, 4, 5, 6, 0, 1, 2, 3, 4, 0, 1, 2, 3, 4, 0, 1, 2, 0, 2, 0]],\n",
        "           names=[u'U1', u'U2'])"
       ]
      }
     ],
     "prompt_number": 233
    },
    {
     "cell_type": "code",
     "collapsed": false,
     "input": [
      "plt.bar(df.index, df[\"U1_N\"])"
     ],
     "language": "python",
     "metadata": {},
     "outputs": [
      {
       "metadata": {},
       "output_type": "pyout",
       "prompt_number": 111,
       "text": [
        "<Container object of 23 artists>"
       ]
      },
      {
       "metadata": {},
       "output_type": "display_data",
       "png": "[encoded data removed]",
       "text": [
        "<matplotlib.figure.Figure at 0xad884a6c>"
       ]
      }
     ],
     "prompt_number": 111
    },
    {
     "cell_type": "code",
     "collapsed": false,
     "input": [
      "# PRINT THEM ALL AS CSVs THAN MAKE THE PLOTS MYSELF CUZ I SUCK!\n"
     ],
     "language": "python",
     "metadata": {},
     "outputs": []
    },
    {
     "cell_type": "heading",
     "level": 3,
     "metadata": {},
     "source": [
      "Attempt at NetworkX - Round II"
     ]
    },
    {
     "cell_type": "code",
     "collapsed": false,
     "input": [
      "import networkx as nx\n",
      "from networkx.algorithms import bipartite"
     ],
     "language": "python",
     "metadata": {},
     "outputs": [
      {
       "output_type": "stream",
       "stream": "stdout",
       "text": [
        "Couldn't import dot_parser, loading of dot files will not be possible.\n"
       ]
      }
     ],
     "prompt_number": 12
    },
    {
     "cell_type": "code",
     "collapsed": false,
     "input": [
      "frames = 5\n",
      "minimum = filtered_reviews.Review_Timestamp.min()\n",
      "step = (filtered_reviews.Review_Timestamp.max() - minimum)/frames"
     ],
     "language": "python",
     "metadata": {},
     "outputs": [],
     "prompt_number": 151
    },
    {
     "cell_type": "code",
     "collapsed": false,
     "input": [
      "i = 2\n",
      "sector_reviews = filtered_reviews[(filtered_reviews.Review_Timestamp >= minimum + ((i-1)*step)) & (filtered_reviews.Review_Timestamp <= minimum + (i*step))]\n",
      "#sector_reviews = filtered_reviews\n",
      "users = sector_reviews.Review_UserID.unique()\n",
      "products = sector_reviews.Product_ID.unique()\n",
      "print len(users)\n",
      "print len(products)"
     ],
     "language": "python",
     "metadata": {},
     "outputs": [
      {
       "output_type": "stream",
       "stream": "stdout",
       "text": [
        "1240\n",
        "549\n"
       ]
      }
     ],
     "prompt_number": 198
    },
    {
     "cell_type": "code",
     "collapsed": false,
     "input": [
      "e_bipart = nx.Graph()\n",
      "user_score = []\n",
      "product_score = []\n",
      "\n",
      "for i in range(1, frames + 1):\n",
      "    sector_reviews = filtered_reviews[(filtered_reviews.Review_Timestamp >= minimum + ((i-1)*step)) & (filtered_reviews.Review_Timestamp <= minimum + (i*step))]\n",
      "    sector_reviews = sector_reviews[sector_reviews.Review_UserID.isin(users)]\n",
      "    sector_reviews = sector_reviews[sector_reviews.Product_ID.isin(products)]\n",
      "    for ix, row in sector_reviews.iterrows():\n",
      "        e_bipart.add_edge(row[\"Product_ID\"], row[\"Review_UserID\"])\n",
      "    print \"Done adding edges for \", i, \": Edges added - \", len(sector_reviews)\n",
      "    \n",
      "    b_cluster = pd.DataFrame(bipartite.clustering(e_bipart), index=[\"CC\"]).T\n",
      "    user_cluster = b_cluster[b_cluster.index.isin(users)]\n",
      "    product_cluster = b_cluster[b_cluster.index.isin(products)]\n",
      "    user_score.append(user_cluster)\n",
      "    product_score.append(product_cluster)\n",
      "    "
     ],
     "language": "python",
     "metadata": {},
     "outputs": [
      {
       "output_type": "stream",
       "stream": "stdout",
       "text": [
        "Done adding edges for  1 : Edges added -  375\n",
        "Done adding edges for "
       ]
      },
      {
       "output_type": "stream",
       "stream": "stdout",
       "text": [
        " 2 : Edges added -  2923\n",
        "Done adding edges for "
       ]
      },
      {
       "output_type": "stream",
       "stream": "stdout",
       "text": [
        " 3 : Edges added -  931\n",
        "Done adding edges for "
       ]
      },
      {
       "output_type": "stream",
       "stream": "stdout",
       "text": [
        " 4 : Edges added -  230\n",
        "Done adding edges for "
       ]
      },
      {
       "output_type": "stream",
       "stream": "stdout",
       "text": [
        " 5 : Edges added -  87\n"
       ]
      }
     ],
     "prompt_number": 199
    },
    {
     "cell_type": "code",
     "collapsed": false,
     "input": [
      "for i in range(0, frames):\n",
      "    u_s = user_score[i]\n",
      "    u_s[\"Frame\"] = i\n",
      "    p_s = product_score[i]\n",
      "    p_s[\"Frame\"] = i\n",
      "\n",
      "user_score = pd.concat(user_score)\n",
      "product_score = pd.concat(product_score)"
     ],
     "language": "python",
     "metadata": {},
     "outputs": [],
     "prompt_number": 200
    },
    {
     "cell_type": "code",
     "collapsed": false,
     "input": [
      "grouped_score = user_score.groupby(\"Frame\")\n",
      "grouped_score.aggregate([\"mean\", \"std\", \"count\"])"
     ],
     "language": "python",
     "metadata": {},
     "outputs": [
      {
       "html": [
        "<div style=\"max-height:1000px;max-width:1500px;overflow:auto;\">\n",
        "<table border=\"1\" class=\"dataframe\">\n",
        "  <thead>\n",
        "    <tr>\n",
        "      <th></th>\n",
        "      <th colspan=\"3\" halign=\"left\">CC</th>\n",
        "    </tr>\n",
        "    <tr>\n",
        "      <th></th>\n",
        "      <th>mean</th>\n",
        "      <th>std</th>\n",
        "      <th>count</th>\n",
        "    </tr>\n",
        "    <tr>\n",
        "      <th>Frame</th>\n",
        "      <th></th>\n",
        "      <th></th>\n",
        "      <th></th>\n",
        "    </tr>\n",
        "  </thead>\n",
        "  <tbody>\n",
        "    <tr>\n",
        "      <th>0</th>\n",
        "      <td> 0.478296</td>\n",
        "      <td> 0.253255</td>\n",
        "      <td>  205</td>\n",
        "    </tr>\n",
        "    <tr>\n",
        "      <th>1</th>\n",
        "      <td> 0.325444</td>\n",
        "      <td> 0.171384</td>\n",
        "      <td> 1240</td>\n",
        "    </tr>\n",
        "    <tr>\n",
        "      <th>2</th>\n",
        "      <td> 0.231263</td>\n",
        "      <td> 0.110907</td>\n",
        "      <td> 1240</td>\n",
        "    </tr>\n",
        "    <tr>\n",
        "      <th>3</th>\n",
        "      <td> 0.213995</td>\n",
        "      <td> 0.099781</td>\n",
        "      <td> 1240</td>\n",
        "    </tr>\n",
        "    <tr>\n",
        "      <th>4</th>\n",
        "      <td> 0.209287</td>\n",
        "      <td> 0.097132</td>\n",
        "      <td> 1240</td>\n",
        "    </tr>\n",
        "  </tbody>\n",
        "</table>\n",
        "<p>5 rows \u00d7 3 columns</p>\n",
        "</div>"
       ],
       "metadata": {},
       "output_type": "pyout",
       "prompt_number": 201,
       "text": [
        "             CC                 \n",
        "           mean       std  count\n",
        "Frame                           \n",
        "0      0.478296  0.253255    205\n",
        "1      0.325444  0.171384   1240\n",
        "2      0.231263  0.110907   1240\n",
        "3      0.213995  0.099781   1240\n",
        "4      0.209287  0.097132   1240\n",
        "\n",
        "[5 rows x 3 columns]"
       ]
      }
     ],
     "prompt_number": 201
    },
    {
     "cell_type": "code",
     "collapsed": false,
     "input": [
      "from scipy.stats import gaussian_kde\n",
      "\n",
      "# Generate fake data\n",
      "x = user_score[\"Frame\"]\n",
      "y = user_score[\"CC\"]\n",
      "\n",
      "# Calculate the point density\n",
      "xy = np.vstack([x,y])\n",
      "z = gaussian_kde(xy)(xy)\n",
      "\n",
      "fig, ax = plt.subplots()\n",
      "ax.scatter(x, y, c=z, s=100, edgecolor='')\n",
      "plt.show()"
     ],
     "language": "python",
     "metadata": {},
     "outputs": [
      {
       "metadata": {},
       "output_type": "display_data",
       "png": "[encoded data removed]",
       "text": [
        "<matplotlib.figure.Figure at 0xac34dc4c>"
       ]
      }
     ],
     "prompt_number": 239
    },
    {
     "cell_type": "code",
     "collapsed": false,
     "input": [
      "plt.hist(filtered_reviews.Review_Timestamp.tolist(), bins=100)"
     ],
     "language": "python",
     "metadata": {},
     "outputs": [
      {
       "metadata": {},
       "output_type": "pyout",
       "prompt_number": 180,
       "text": [
        "(array([  1.00000000e+00,   1.00000000e+00,   1.00000000e+00,\n",
        "         1.10000000e+01,   6.00000000e+00,   1.70000000e+01,\n",
        "         5.70000000e+01,   4.00000000e+01,   4.40000000e+01,\n",
        "         5.40000000e+01,   5.80000000e+01,   6.90000000e+01,\n",
        "         4.60000000e+01,   4.80000000e+01,   8.70000000e+01,\n",
        "         7.90000000e+01,   5.90000000e+01,   9.20000000e+01,\n",
        "         8.30000000e+01,   6.40000000e+01,   7.80000000e+01,\n",
        "         8.60000000e+01,   6.90000000e+01,   9.20000000e+01,\n",
        "         1.06000000e+02,   1.58000000e+02,   1.29000000e+02,\n",
        "         1.05000000e+02,   1.37000000e+02,   1.28000000e+02,\n",
        "         1.46000000e+02,   1.53000000e+02,   1.68000000e+02,\n",
        "         1.75000000e+02,   1.71000000e+02,   1.49000000e+02,\n",
        "         1.48000000e+02,   1.66000000e+02,   2.63000000e+02,\n",
        "         2.96000000e+02,   4.02000000e+02,   3.54000000e+02,\n",
        "         2.34000000e+02,   3.23000000e+02,   4.05000000e+02,\n",
        "         4.11000000e+02,   3.90000000e+02,   5.26000000e+02,\n",
        "         5.48000000e+02,   4.47000000e+02,   3.68000000e+02,\n",
        "         5.62000000e+02,   5.03000000e+02,   5.60000000e+02,\n",
        "         8.58000000e+02,   1.01600000e+03,   1.03600000e+03,\n",
        "         9.34000000e+02,   8.91000000e+02,   9.02000000e+02,\n",
        "         8.94000000e+02,   9.61000000e+02,   1.17800000e+03,\n",
        "         8.82000000e+02,   9.21000000e+02,   8.30000000e+02,\n",
        "         6.67000000e+02,   6.06000000e+02,   5.95000000e+02,\n",
        "         6.90000000e+02,   6.13000000e+02,   5.12000000e+02,\n",
        "         4.91000000e+02,   4.18000000e+02,   4.92000000e+02,\n",
        "         4.53000000e+02,   5.90000000e+02,   4.71000000e+02,\n",
        "         5.73000000e+02,   4.01000000e+02,   3.89000000e+02,\n",
        "         3.48000000e+02,   4.50000000e+02,   4.22000000e+02,\n",
        "         5.22000000e+02,   4.18000000e+02,   5.11000000e+02,\n",
        "         4.34000000e+02,   4.97000000e+02,   4.85000000e+02,\n",
        "         4.95000000e+02,   7.03000000e+02,   6.47000000e+02,\n",
        "         4.93000000e+02,   4.71000000e+02,   5.21000000e+02,\n",
        "         5.13000000e+02,   5.27000000e+02,   1.46700000e+03,\n",
        "         1.15700000e+03]),\n",
        " array([  9.31132800e+08,   9.35443296e+08,   9.39753792e+08,\n",
        "         9.44064288e+08,   9.48374784e+08,   9.52685280e+08,\n",
        "         9.56995776e+08,   9.61306272e+08,   9.65616768e+08,\n",
        "         9.69927264e+08,   9.74237760e+08,   9.78548256e+08,\n",
        "         9.82858752e+08,   9.87169248e+08,   9.91479744e+08,\n",
        "         9.95790240e+08,   1.00010074e+09,   1.00441123e+09,\n",
        "         1.00872173e+09,   1.01303222e+09,   1.01734272e+09,\n",
        "         1.02165322e+09,   1.02596371e+09,   1.03027421e+09,\n",
        "         1.03458470e+09,   1.03889520e+09,   1.04320570e+09,\n",
        "         1.04751619e+09,   1.05182669e+09,   1.05613718e+09,\n",
        "         1.06044768e+09,   1.06475818e+09,   1.06906867e+09,\n",
        "         1.07337917e+09,   1.07768966e+09,   1.08200016e+09,\n",
        "         1.08631066e+09,   1.09062115e+09,   1.09493165e+09,\n",
        "         1.09924214e+09,   1.10355264e+09,   1.10786314e+09,\n",
        "         1.11217363e+09,   1.11648413e+09,   1.12079462e+09,\n",
        "         1.12510512e+09,   1.12941562e+09,   1.13372611e+09,\n",
        "         1.13803661e+09,   1.14234710e+09,   1.14665760e+09,\n",
        "         1.15096810e+09,   1.15527859e+09,   1.15958909e+09,\n",
        "         1.16389958e+09,   1.16821008e+09,   1.17252058e+09,\n",
        "         1.17683107e+09,   1.18114157e+09,   1.18545206e+09,\n",
        "         1.18976256e+09,   1.19407306e+09,   1.19838355e+09,\n",
        "         1.20269405e+09,   1.20700454e+09,   1.21131504e+09,\n",
        "         1.21562554e+09,   1.21993603e+09,   1.22424653e+09,\n",
        "         1.22855702e+09,   1.23286752e+09,   1.23717802e+09,\n",
        "         1.24148851e+09,   1.24579901e+09,   1.25010950e+09,\n",
        "         1.25442000e+09,   1.25873050e+09,   1.26304099e+09,\n",
        "         1.26735149e+09,   1.27166198e+09,   1.27597248e+09,\n",
        "         1.28028298e+09,   1.28459347e+09,   1.28890397e+09,\n",
        "         1.29321446e+09,   1.29752496e+09,   1.30183546e+09,\n",
        "         1.30614595e+09,   1.31045645e+09,   1.31476694e+09,\n",
        "         1.31907744e+09,   1.32338794e+09,   1.32769843e+09,\n",
        "         1.33200893e+09,   1.33631942e+09,   1.34062992e+09,\n",
        "         1.34494042e+09,   1.34925091e+09,   1.35356141e+09,\n",
        "         1.35787190e+09,   1.36218240e+09]),\n",
        " <a list of 100 Patch objects>)"
       ]
      },
      {
       "metadata": {},
       "output_type": "display_data",
       "png": "[encoded data removed]",
       "text": [
        "<matplotlib.figure.Figure at 0xac1cc40c>"
       ]
      }
     ],
     "prompt_number": 180
    },
    {
     "cell_type": "code",
     "collapsed": false,
     "input": [],
     "language": "python",
     "metadata": {},
     "outputs": [],
     "prompt_number": 124
    },
    {
     "cell_type": "code",
     "collapsed": false,
     "input": [],
     "language": "python",
     "metadata": {},
     "outputs": []
    }
   ],
   "metadata": {}
  }
 ]
}