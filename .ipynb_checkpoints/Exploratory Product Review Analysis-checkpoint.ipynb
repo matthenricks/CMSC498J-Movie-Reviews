{
 "metadata": {
  "name": ""
 },
 "nbformat": 3,
 "nbformat_minor": 0,
 "worksheets": [
  {
   "cells": [
    {
     "cell_type": "code",
     "collapsed": false,
     "input": [
      "import numpy as np\n",
      "import pandas as pd\n",
      "import matplotlib.pyplot as plt\n",
      "%matplotlib inline"
     ],
     "language": "python",
     "metadata": {},
     "outputs": [],
     "prompt_number": 51
    },
    {
     "cell_type": "code",
     "collapsed": false,
     "input": [
      "df = pd.DataFrame.from_csv(\"Data/Matt_Filtered_Electronics_Review_Data.csv\")\n",
      "df.describe()"
     ],
     "language": "python",
     "metadata": {},
     "outputs": [
      {
       "html": [
        "<div style=\"max-height:1000px;max-width:1500px;overflow:auto;\">\n",
        "<table border=\"1\" class=\"dataframe\">\n",
        "  <thead>\n",
        "    <tr style=\"text-align: right;\">\n",
        "      <th></th>\n",
        "      <th>Review_Helpfulness_Score</th>\n",
        "      <th>Review_Helpfulness_Total</th>\n",
        "      <th>Review_Score</th>\n",
        "      <th>Review_Timestamp</th>\n",
        "    </tr>\n",
        "  </thead>\n",
        "  <tbody>\n",
        "    <tr>\n",
        "      <th>count</th>\n",
        "      <td> 40218.000000</td>\n",
        "      <td> 40218.000000</td>\n",
        "      <td> 40218.000000</td>\n",
        "      <td> 4.021800e+04</td>\n",
        "    </tr>\n",
        "    <tr>\n",
        "      <th>mean</th>\n",
        "      <td>    10.430728</td>\n",
        "      <td>    11.835646</td>\n",
        "      <td>     4.279626</td>\n",
        "      <td> 1.217392e+09</td>\n",
        "    </tr>\n",
        "    <tr>\n",
        "      <th>std</th>\n",
        "      <td>    56.480330</td>\n",
        "      <td>    58.710100</td>\n",
        "      <td>     1.153393</td>\n",
        "      <td> 8.897855e+07</td>\n",
        "    </tr>\n",
        "    <tr>\n",
        "      <th>min</th>\n",
        "      <td>     0.000000</td>\n",
        "      <td>     0.000000</td>\n",
        "      <td>     1.000000</td>\n",
        "      <td> 9.311328e+08</td>\n",
        "    </tr>\n",
        "    <tr>\n",
        "      <th>25%</th>\n",
        "      <td>     0.000000</td>\n",
        "      <td>     0.000000</td>\n",
        "      <td>     4.000000</td>\n",
        "      <td> 1.165104e+09</td>\n",
        "    </tr>\n",
        "    <tr>\n",
        "      <th>50%</th>\n",
        "      <td>     1.000000</td>\n",
        "      <td>     2.000000</td>\n",
        "      <td>     5.000000</td>\n",
        "      <td> 1.210291e+09</td>\n",
        "    </tr>\n",
        "    <tr>\n",
        "      <th>75%</th>\n",
        "      <td>     5.000000</td>\n",
        "      <td>     6.000000</td>\n",
        "      <td>     5.000000</td>\n",
        "      <td> 1.291421e+09</td>\n",
        "    </tr>\n",
        "    <tr>\n",
        "      <th>max</th>\n",
        "      <td>  2646.000000</td>\n",
        "      <td>  2692.000000</td>\n",
        "      <td>     5.000000</td>\n",
        "      <td> 1.362182e+09</td>\n",
        "    </tr>\n",
        "  </tbody>\n",
        "</table>\n",
        "<p>8 rows \u00d7 4 columns</p>\n",
        "</div>"
       ],
       "metadata": {},
       "output_type": "pyout",
       "prompt_number": 55,
       "text": [
        "       Review_Helpfulness_Score  Review_Helpfulness_Total  Review_Score  \\\n",
        "count              40218.000000              40218.000000  40218.000000   \n",
        "mean                  10.430728                 11.835646      4.279626   \n",
        "std                   56.480330                 58.710100      1.153393   \n",
        "min                    0.000000                  0.000000      1.000000   \n",
        "25%                    0.000000                  0.000000      4.000000   \n",
        "50%                    1.000000                  2.000000      5.000000   \n",
        "75%                    5.000000                  6.000000      5.000000   \n",
        "max                 2646.000000               2692.000000      5.000000   \n",
        "\n",
        "       Review_Timestamp  \n",
        "count      4.021800e+04  \n",
        "mean       1.217392e+09  \n",
        "std        8.897855e+07  \n",
        "min        9.311328e+08  \n",
        "25%        1.165104e+09  \n",
        "50%        1.210291e+09  \n",
        "75%        1.291421e+09  \n",
        "max        1.362182e+09  \n",
        "\n",
        "[8 rows x 4 columns]"
       ]
      }
     ],
     "prompt_number": 55
    },
    {
     "cell_type": "code",
     "collapsed": false,
     "input": [
      "df = df.sort(columns=[\"Product_ID\", \"Review_Timestamp\"])"
     ],
     "language": "python",
     "metadata": {},
     "outputs": [],
     "prompt_number": 57
    },
    {
     "cell_type": "code",
     "collapsed": false,
     "input": [
      "df[\"PR_Prescedence\"] = 0\n",
      "start = 0\n",
      "for key in df.Product_ID.unique():\n",
      "    group = df[df.Product_ID == key]\n",
      "    g_idx = len(group)\n",
      "    df[start:(start + g_idx)][\"PR_Prescedence\"] = range(0, g_idx)\n",
      "    start += g_idx"
     ],
     "language": "python",
     "metadata": {},
     "outputs": [],
     "prompt_number": 69
    },
    {
     "cell_type": "code",
     "collapsed": false,
     "input": [
      "plt.hist(df.PR_Prescedence[(df.PR_Prescedence != 0) & (df.PR_Prescedence <= 300)].values, bins=300)"
     ],
     "language": "python",
     "metadata": {},
     "outputs": [
      {
       "metadata": {},
       "output_type": "pyout",
       "prompt_number": 79,
       "text": [
        "(array([ 1699.,  1699.,  1699.,  1697.,  1697.,  1694.,  1689.,  1666.,\n",
        "        1593.,  1419.,  1249.,  1126.,  1016.,   908.,   823.,   748.,\n",
        "         667.,   575.,   538.,   497.,   473.,   449.,   423.,   387.,\n",
        "         361.,   336.,   317.,   302.,   292.,   275.,   257.,   249.,\n",
        "         243.,   234.,   226.,   222.,   209.,   196.,   187.,   179.,\n",
        "         170.,   159.,   150.,   145.,   136.,   129.,   119.,   115.,\n",
        "         106.,   105.,    96.,    96.,    96.,    90.,    86.,    84.,\n",
        "          74.,    70.,    68.,    66.,    66.,    64.,    64.,    64.,\n",
        "          62.,    60.,    54.,    51.,    51.,    51.,    51.,    50.,\n",
        "          50.,    48.,    43.,    43.,    41.,    41.,    41.,    41.,\n",
        "          41.,    40.,    40.,    39.,    37.,    37.,    36.,    36.,\n",
        "          36.,    34.,    32.,    31.,    31.,    31.,    30.,    29.,\n",
        "          29.,    29.,    29.,    29.,    28.,    27.,    27.,    27.,\n",
        "          26.,    26.,    25.,    25.,    24.,    23.,    23.,    23.,\n",
        "          22.,    22.,    22.,    22.,    22.,    21.,    21.,    21.,\n",
        "          21.,    21.,    21.,    21.,    21.,    21.,    21.,    21.,\n",
        "          21.,    21.,    21.,    21.,    21.,    21.,    21.,    21.,\n",
        "          21.,    21.,    21.,    21.,    21.,    21.,    21.,    21.,\n",
        "          21.,    21.,    21.,    21.,    21.,    21.,    20.,    15.,\n",
        "          15.,    15.,    14.,    14.,    14.,    14.,    14.,    14.,\n",
        "          14.,    14.,    14.,    14.,    14.,    14.,    14.,    14.,\n",
        "          14.,    14.,    14.,    14.,    14.,    14.,    14.,    14.,\n",
        "          14.,    14.,    14.,    14.,    14.,    14.,    14.,    14.,\n",
        "          14.,    14.,    14.,    14.,    14.,    14.,    14.,    14.,\n",
        "          14.,    14.,    14.,    14.,    14.,    14.,    14.,    13.,\n",
        "          13.,    13.,    13.,    13.,    13.,    13.,    13.,    13.,\n",
        "          13.,    13.,    13.,    12.,    12.,    12.,    12.,    12.,\n",
        "          12.,    12.,    12.,    12.,    12.,    12.,    12.,    12.,\n",
        "          12.,    12.,    12.,    12.,    12.,    12.,    12.,    12.,\n",
        "          12.,    12.,    12.,    12.,    12.,    12.,    12.,    12.,\n",
        "          12.,    12.,    12.,    12.,    12.,    12.,    12.,    12.,\n",
        "          12.,    12.,    12.,    12.,    12.,    12.,    12.,    12.,\n",
        "          12.,    12.,    12.,    12.,    12.,    12.,    12.,    12.,\n",
        "          12.,    12.,    12.,    12.,    12.,    12.,    12.,    12.,\n",
        "          12.,    12.,    12.,    12.,    12.,    12.,    12.,    12.,\n",
        "          12.,    12.,    12.,    12.,    12.,    12.,    12.,    12.,\n",
        "          12.,    12.,    12.,    12.,     8.,     8.,     8.,     8.,\n",
        "           8.,     8.,     8.,     8.]),\n",
        " array([   1.        ,    1.99666667,    2.99333333,    3.99      ,\n",
        "          4.98666667,    5.98333333,    6.98      ,    7.97666667,\n",
        "          8.97333333,    9.97      ,   10.96666667,   11.96333333,\n",
        "         12.96      ,   13.95666667,   14.95333333,   15.95      ,\n",
        "         16.94666667,   17.94333333,   18.94      ,   19.93666667,\n",
        "         20.93333333,   21.93      ,   22.92666667,   23.92333333,\n",
        "         24.92      ,   25.91666667,   26.91333333,   27.91      ,\n",
        "         28.90666667,   29.90333333,   30.9       ,   31.89666667,\n",
        "         32.89333333,   33.89      ,   34.88666667,   35.88333333,\n",
        "         36.88      ,   37.87666667,   38.87333333,   39.87      ,\n",
        "         40.86666667,   41.86333333,   42.86      ,   43.85666667,\n",
        "         44.85333333,   45.85      ,   46.84666667,   47.84333333,\n",
        "         48.84      ,   49.83666667,   50.83333333,   51.83      ,\n",
        "         52.82666667,   53.82333333,   54.82      ,   55.81666667,\n",
        "         56.81333333,   57.81      ,   58.80666667,   59.80333333,\n",
        "         60.8       ,   61.79666667,   62.79333333,   63.79      ,\n",
        "         64.78666667,   65.78333333,   66.78      ,   67.77666667,\n",
        "         68.77333333,   69.77      ,   70.76666667,   71.76333333,\n",
        "         72.76      ,   73.75666667,   74.75333333,   75.75      ,\n",
        "         76.74666667,   77.74333333,   78.74      ,   79.73666667,\n",
        "         80.73333333,   81.73      ,   82.72666667,   83.72333333,\n",
        "         84.72      ,   85.71666667,   86.71333333,   87.71      ,\n",
        "         88.70666667,   89.70333333,   90.7       ,   91.69666667,\n",
        "         92.69333333,   93.69      ,   94.68666667,   95.68333333,\n",
        "         96.68      ,   97.67666667,   98.67333333,   99.67      ,\n",
        "        100.66666667,  101.66333333,  102.66      ,  103.65666667,\n",
        "        104.65333333,  105.65      ,  106.64666667,  107.64333333,\n",
        "        108.64      ,  109.63666667,  110.63333333,  111.63      ,\n",
        "        112.62666667,  113.62333333,  114.62      ,  115.61666667,\n",
        "        116.61333333,  117.61      ,  118.60666667,  119.60333333,\n",
        "        120.6       ,  121.59666667,  122.59333333,  123.59      ,\n",
        "        124.58666667,  125.58333333,  126.58      ,  127.57666667,\n",
        "        128.57333333,  129.57      ,  130.56666667,  131.56333333,\n",
        "        132.56      ,  133.55666667,  134.55333333,  135.55      ,\n",
        "        136.54666667,  137.54333333,  138.54      ,  139.53666667,\n",
        "        140.53333333,  141.53      ,  142.52666667,  143.52333333,\n",
        "        144.52      ,  145.51666667,  146.51333333,  147.51      ,\n",
        "        148.50666667,  149.50333333,  150.5       ,  151.49666667,\n",
        "        152.49333333,  153.49      ,  154.48666667,  155.48333333,\n",
        "        156.48      ,  157.47666667,  158.47333333,  159.47      ,\n",
        "        160.46666667,  161.46333333,  162.46      ,  163.45666667,\n",
        "        164.45333333,  165.45      ,  166.44666667,  167.44333333,\n",
        "        168.44      ,  169.43666667,  170.43333333,  171.43      ,\n",
        "        172.42666667,  173.42333333,  174.42      ,  175.41666667,\n",
        "        176.41333333,  177.41      ,  178.40666667,  179.40333333,\n",
        "        180.4       ,  181.39666667,  182.39333333,  183.39      ,\n",
        "        184.38666667,  185.38333333,  186.38      ,  187.37666667,\n",
        "        188.37333333,  189.37      ,  190.36666667,  191.36333333,\n",
        "        192.36      ,  193.35666667,  194.35333333,  195.35      ,\n",
        "        196.34666667,  197.34333333,  198.34      ,  199.33666667,\n",
        "        200.33333333,  201.33      ,  202.32666667,  203.32333333,\n",
        "        204.32      ,  205.31666667,  206.31333333,  207.31      ,\n",
        "        208.30666667,  209.30333333,  210.3       ,  211.29666667,\n",
        "        212.29333333,  213.29      ,  214.28666667,  215.28333333,\n",
        "        216.28      ,  217.27666667,  218.27333333,  219.27      ,\n",
        "        220.26666667,  221.26333333,  222.26      ,  223.25666667,\n",
        "        224.25333333,  225.25      ,  226.24666667,  227.24333333,\n",
        "        228.24      ,  229.23666667,  230.23333333,  231.23      ,\n",
        "        232.22666667,  233.22333333,  234.22      ,  235.21666667,\n",
        "        236.21333333,  237.21      ,  238.20666667,  239.20333333,\n",
        "        240.2       ,  241.19666667,  242.19333333,  243.19      ,\n",
        "        244.18666667,  245.18333333,  246.18      ,  247.17666667,\n",
        "        248.17333333,  249.17      ,  250.16666667,  251.16333333,\n",
        "        252.16      ,  253.15666667,  254.15333333,  255.15      ,\n",
        "        256.14666667,  257.14333333,  258.14      ,  259.13666667,\n",
        "        260.13333333,  261.13      ,  262.12666667,  263.12333333,\n",
        "        264.12      ,  265.11666667,  266.11333333,  267.11      ,\n",
        "        268.10666667,  269.10333333,  270.1       ,  271.09666667,\n",
        "        272.09333333,  273.09      ,  274.08666667,  275.08333333,\n",
        "        276.08      ,  277.07666667,  278.07333333,  279.07      ,\n",
        "        280.06666667,  281.06333333,  282.06      ,  283.05666667,\n",
        "        284.05333333,  285.05      ,  286.04666667,  287.04333333,\n",
        "        288.04      ,  289.03666667,  290.03333333,  291.03      ,\n",
        "        292.02666667,  293.02333333,  294.02      ,  295.01666667,\n",
        "        296.01333333,  297.01      ,  298.00666667,  299.00333333,  300.        ]),\n",
        " <a list of 300 Patch objects>)"
       ]
      },
      {
       "metadata": {},
       "output_type": "display_data",
       "png": "[encoded data removed]",
       "text": [
        "<matplotlib.figure.Figure at 0xade13b0c>"
       ]
      }
     ],
     "prompt_number": 79
    },
    {
     "cell_type": "heading",
     "level": 2,
     "metadata": {},
     "source": [
      "Remove all unused prodcts"
     ]
    },
    {
     "cell_type": "code",
     "collapsed": false,
     "input": [
      "product_max = df.groupby(\"Product_ID\")[\"PR_Prescedence\"].max()\n",
      "good_products = product_max[product_max > 50].index\n",
      "good_products"
     ],
     "language": "python",
     "metadata": {},
     "outputs": [
      {
       "metadata": {},
       "output_type": "pyout",
       "prompt_number": 111,
       "text": [
        "Index([u'B00001P4ZH', u'B00004SB92', u'B00004WCIC', u'B00004ZCAU', u'B000053HH5', u'B00005ARK3', u'B00005LEN4', u'B00005NIMJ', u'B000065BP9', u'B00006B7DA', u'B00006HYKM', u'B00006I53S', u'B00006JN3G', u'B00007E7JU', u'B00007EDZG', u'B00007KDVI', u'B00007LA0P', u'B00007LA0Q', u'B00007M1TZ', u'B000089GN3', u'B00008SCFL', u'B00009R6TA', u'B00009R6WT', u'B00009UTCR', u'B00009XVCZ', u'B0000AIS1K', u'B0000AIS1M', u'B0000BZL0T', u'B0000BZL1U', u'B0000BZL68', u'B0000BZLCJ', u'B0000BZLCL', u'B00017LRI6', u'B00017LRLS', u'B00017LSF8', u'B00017LSPI', u'B0001FTVEK', u'B0001GJCFC', u'B000204SWE', u'B0002344CK', u'B000247480', u'B00024748A', u'B0002CPBWS', u'B0002EMY9Y', u'B0002IWC9C', u'B0002JFN38', u'B0002JFN3S', u'B0002JFN42', u'B0002JFN4W', u'B0002JFN7E', u'B0002L5R78', u'B0002O73EK', u'B0002SQ2P2', u'B00077AA5Q', u'B0007MXZB2', u'B0007QKN22', u'B0007QKN6S', u'B0007U00XK', u'B0008G2GU8', u'B00093IIRA', u'B0009CELS6', u'B000A3WS16', u'B000A6PPOK', u'B000AZ57M6', u'B000BKJZ9Q', u'B000BQR2EA', u'B000BTL0OA', u'B000CS7U1C', u'B000E99YRM', u'B000EMWBV0', u'B000EOMXM0', u'B000EP4TWQ', u'B000GTSFPM', u'B000H0QDCC', u'B000HCRVUS', u'B000HCT12O', u'B000HDJT4S', u'B000HGGVQE', u'B000HGIWN4', u'B000HPZ954', u'B000I1ZWRW', u'B000I7TV3W', u'B000J44346', u'B000JMJWV2', u'B000JO1IPI', u'B000KJQ1DG', u'B000LIFB7S', u'B000LRMS66', u'B000M2GYF6', u'B000MVF1LA', u'B000NK8EWI', u'B000NP3DJW', u'B000NWS3SG', u'B000OFXKFI', u'B000PENFQW', u'B000RZQZM0'], dtype='object')"
       ]
      }
     ],
     "prompt_number": 111
    },
    {
     "cell_type": "heading",
     "level": 2,
     "metadata": {},
     "source": [
      "Review Score Over Time"
     ]
    },
    {
     "cell_type": "code",
     "collapsed": false,
     "input": [
      "# Bin the data frame by \"a\" with 10 bins...\n",
      "outlier_removed = df[df.PR_Prescedence <= 400]\n",
      "outlier_removed = outlier_removed[outlier_removed.Product_ID.isin(good_products)]\n",
      "bins = np.linspace(0, 400, 40)\n",
      "groups = outlier_removed.groupby(np.digitize(outlier_removed.PR_Prescedence, bins))\n",
      "\n",
      "# Get the mean of each bin:\n",
      "group = pd.DataFrame(groups[\"Review_Score\"].aggregate([\"mean\", \"std\", \"count\"]))# Also could do \"groups.aggregate(np.mean)\""
     ],
     "language": "python",
     "metadata": {},
     "outputs": [],
     "prompt_number": 116
    },
    {
     "cell_type": "code",
     "collapsed": false,
     "input": [
      "plt.plot(group[\"mean\"])"
     ],
     "language": "python",
     "metadata": {},
     "outputs": [
      {
       "metadata": {},
       "output_type": "pyout",
       "prompt_number": 117,
       "text": [
        "[<matplotlib.lines.Line2D at 0xae14084c>]"
       ]
      },
      {
       "metadata": {},
       "output_type": "display_data",
       "png": "[encoded data removed]",
       "text": [
        "<matplotlib.figure.Figure at 0xac95616c>"
       ]
      }
     ],
     "prompt_number": 117
    },
    {
     "cell_type": "code",
     "collapsed": false,
     "input": [],
     "language": "python",
     "metadata": {},
     "outputs": [],
     "prompt_number": 103
    },
    {
     "cell_type": "code",
     "collapsed": false,
     "input": [],
     "language": "python",
     "metadata": {},
     "outputs": []
    }
   ],
   "metadata": {}
  }
 ]
}