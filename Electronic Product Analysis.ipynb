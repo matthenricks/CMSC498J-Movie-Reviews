{
 "metadata": {
  "name": ""
 },
 "nbformat": 3,
 "nbformat_minor": 0,
 "worksheets": [
  {
   "cells": [
    {
     "cell_type": "code",
     "collapsed": false,
     "input": [
      "import numpy as np\n",
      "import pandas as pd\n",
      "import matplotlib.pyplot as plt\n",
      "%matplotlib inline"
     ],
     "language": "python",
     "metadata": {},
     "outputs": [],
     "prompt_number": 1
    },
    {
     "cell_type": "heading",
     "level": 1,
     "metadata": {},
     "source": [
      "Data Cleansing"
     ]
    },
    {
     "cell_type": "code",
     "collapsed": false,
     "input": [
      "raw_electronics = pd.DataFrame.from_csv(\"Data/RAW_Electronics_Review_Data.csv\")\n",
      "print \"electronics:\", raw_electronics.keys()"
     ],
     "language": "python",
     "metadata": {},
     "outputs": [
      {
       "output_type": "stream",
       "stream": "stdout",
       "text": [
        "electronics: Index([u'Product_ID', u'Product_Title', u'Product_Price', u'Review_UserID', u'Review_ProfileName', u'Review_Helpfulness_Score', u'Review_Helpfulness_Total', u'Review_Score', u'Review_Timestamp'], dtype='object')\n"
       ]
      }
     ],
     "prompt_number": 30
    },
    {
     "cell_type": "code",
     "collapsed": false,
     "input": [
      "# Remove all unknown users\n",
      "raw_electronics = raw_electronics[raw_electronics[\"Review_UserID\"] != \"unknown\"]\n",
      "raw_electronics[raw_electronics[\"Review_UserID\"] == \"unknown\"]"
     ],
     "language": "python",
     "metadata": {},
     "outputs": [
      {
       "html": [
        "<div style=\"max-height:1000px;max-width:1500px;overflow:auto;\">\n",
        "<table border=\"1\" class=\"dataframe\">\n",
        "  <tbody>\n",
        "    <tr>\n",
        "      <td>Int64Index([], dtype='int64')</td>\n",
        "      <td>Empty DataFrame</td>\n",
        "    </tr>\n",
        "  </tbody>\n",
        "</table>\n",
        "<p>0 rows \u00d7 9 columns</p>\n",
        "</div>"
       ],
       "metadata": {},
       "output_type": "pyout",
       "prompt_number": 31,
       "text": [
        "Empty DataFrame\n",
        "Columns: [Product_ID, Product_Title, Product_Price, Review_UserID, Review_ProfileName, Review_Helpfulness_Score, Review_Helpfulness_Total, Review_Score, Review_Timestamp]\n",
        "Index: []\n",
        "\n",
        "[0 rows x 9 columns]"
       ]
      }
     ],
     "prompt_number": 31
    },
    {
     "cell_type": "code",
     "collapsed": false,
     "input": [
      "# Attempt to remove all bots (users with more than 3 reviews on the same productRe"
     ],
     "language": "python",
     "metadata": {},
     "outputs": []
    },
    {
     "cell_type": "code",
     "collapsed": false,
     "input": [
      "bot_group = raw_electronics.groupby([\"Product_ID\", \"Review_UserID\"])#, \"Review_Timestamp\"])\n",
      "bots = bot_group.count()\n",
      "bots.head(5)"
     ],
     "language": "python",
     "metadata": {},
     "outputs": [
      {
       "html": [
        "<div style=\"max-height:1000px;max-width:1500px;overflow:auto;\">\n",
        "<table border=\"1\" class=\"dataframe\">\n",
        "  <thead>\n",
        "    <tr style=\"text-align: right;\">\n",
        "      <th></th>\n",
        "      <th></th>\n",
        "      <th>Product_ID</th>\n",
        "      <th>Product_Title</th>\n",
        "      <th>Product_Price</th>\n",
        "      <th>Review_UserID</th>\n",
        "      <th>Review_ProfileName</th>\n",
        "      <th>Review_Helpfulness_Score</th>\n",
        "      <th>Review_Helpfulness_Total</th>\n",
        "      <th>Review_Score</th>\n",
        "      <th>Review_Timestamp</th>\n",
        "    </tr>\n",
        "    <tr>\n",
        "      <th>Product_ID</th>\n",
        "      <th>Review_UserID</th>\n",
        "      <th></th>\n",
        "      <th></th>\n",
        "      <th></th>\n",
        "      <th></th>\n",
        "      <th></th>\n",
        "      <th></th>\n",
        "      <th></th>\n",
        "      <th></th>\n",
        "      <th></th>\n",
        "    </tr>\n",
        "  </thead>\n",
        "  <tbody>\n",
        "    <tr>\n",
        "      <th rowspan=\"2\" valign=\"top\">0072513780</th>\n",
        "      <th>A23XA4Q6UMA166</th>\n",
        "      <td> 1</td>\n",
        "      <td> 1</td>\n",
        "      <td> 1</td>\n",
        "      <td> 1</td>\n",
        "      <td> 1</td>\n",
        "      <td> 1</td>\n",
        "      <td> 1</td>\n",
        "      <td> 1</td>\n",
        "      <td> 1</td>\n",
        "    </tr>\n",
        "    <tr>\n",
        "      <th>A3KHDNUGAR6S5K</th>\n",
        "      <td> 1</td>\n",
        "      <td> 1</td>\n",
        "      <td> 1</td>\n",
        "      <td> 1</td>\n",
        "      <td> 1</td>\n",
        "      <td> 1</td>\n",
        "      <td> 1</td>\n",
        "      <td> 1</td>\n",
        "      <td> 1</td>\n",
        "    </tr>\n",
        "    <tr>\n",
        "      <th rowspan=\"3\" valign=\"top\">015600206X</th>\n",
        "      <th>A12X2J7AVZ04IQ</th>\n",
        "      <td> 1</td>\n",
        "      <td> 1</td>\n",
        "      <td> 1</td>\n",
        "      <td> 1</td>\n",
        "      <td> 1</td>\n",
        "      <td> 1</td>\n",
        "      <td> 1</td>\n",
        "      <td> 1</td>\n",
        "      <td> 1</td>\n",
        "    </tr>\n",
        "    <tr>\n",
        "      <th>A139ZF7CJVVTJU</th>\n",
        "      <td> 1</td>\n",
        "      <td> 1</td>\n",
        "      <td> 1</td>\n",
        "      <td> 1</td>\n",
        "      <td> 1</td>\n",
        "      <td> 1</td>\n",
        "      <td> 1</td>\n",
        "      <td> 1</td>\n",
        "      <td> 1</td>\n",
        "    </tr>\n",
        "    <tr>\n",
        "      <th>A13RNV0F30OVP</th>\n",
        "      <td> 1</td>\n",
        "      <td> 1</td>\n",
        "      <td> 1</td>\n",
        "      <td> 1</td>\n",
        "      <td> 1</td>\n",
        "      <td> 1</td>\n",
        "      <td> 1</td>\n",
        "      <td> 1</td>\n",
        "      <td> 1</td>\n",
        "    </tr>\n",
        "  </tbody>\n",
        "</table>\n",
        "<p>5 rows \u00d7 9 columns</p>\n",
        "</div>"
       ],
       "metadata": {},
       "output_type": "pyout",
       "prompt_number": 101,
       "text": [
        "                           Product_ID  Product_Title  Product_Price  \\\n",
        "Product_ID Review_UserID                                              \n",
        "0072513780 A23XA4Q6UMA166           1              1              1   \n",
        "           A3KHDNUGAR6S5K           1              1              1   \n",
        "015600206X A12X2J7AVZ04IQ           1              1              1   \n",
        "           A139ZF7CJVVTJU           1              1              1   \n",
        "           A13RNV0F30OVP            1              1              1   \n",
        "\n",
        "                           Review_UserID  Review_ProfileName  \\\n",
        "Product_ID Review_UserID                                       \n",
        "0072513780 A23XA4Q6UMA166              1                   1   \n",
        "           A3KHDNUGAR6S5K              1                   1   \n",
        "015600206X A12X2J7AVZ04IQ              1                   1   \n",
        "           A139ZF7CJVVTJU              1                   1   \n",
        "           A13RNV0F30OVP               1                   1   \n",
        "\n",
        "                           Review_Helpfulness_Score  Review_Helpfulness_Total  \\\n",
        "Product_ID Review_UserID                                                        \n",
        "0072513780 A23XA4Q6UMA166                         1                         1   \n",
        "           A3KHDNUGAR6S5K                         1                         1   \n",
        "015600206X A12X2J7AVZ04IQ                         1                         1   \n",
        "           A139ZF7CJVVTJU                         1                         1   \n",
        "           A13RNV0F30OVP                          1                         1   \n",
        "\n",
        "                           Review_Score  Review_Timestamp  \n",
        "Product_ID Review_UserID                                   \n",
        "0072513780 A23XA4Q6UMA166             1                 1  \n",
        "           A3KHDNUGAR6S5K             1                 1  \n",
        "015600206X A12X2J7AVZ04IQ             1                 1  \n",
        "           A139ZF7CJVVTJU             1                 1  \n",
        "           A13RNV0F30OVP              1                 1  \n",
        "\n",
        "[5 rows x 9 columns]"
       ]
      }
     ],
     "prompt_number": 101
    },
    {
     "cell_type": "code",
     "collapsed": false,
     "input": [
      "bots = bots[\"Review_Score\"].reset_index(level=0).reset_index(level=0).reset_index(level=0)\n",
      "bots.head(2)"
     ],
     "language": "python",
     "metadata": {},
     "outputs": [
      {
       "html": [
        "<div style=\"max-height:1000px;max-width:1500px;overflow:auto;\">\n",
        "<table border=\"1\" class=\"dataframe\">\n",
        "  <thead>\n",
        "    <tr style=\"text-align: right;\">\n",
        "      <th></th>\n",
        "      <th>index</th>\n",
        "      <th>Review_UserID</th>\n",
        "      <th>Product_ID</th>\n",
        "      <th>Review_Score</th>\n",
        "    </tr>\n",
        "  </thead>\n",
        "  <tbody>\n",
        "    <tr>\n",
        "      <th>0</th>\n",
        "      <td> 0</td>\n",
        "      <td> A23XA4Q6UMA166</td>\n",
        "      <td> 0072513780</td>\n",
        "      <td> 1</td>\n",
        "    </tr>\n",
        "    <tr>\n",
        "      <th>1</th>\n",
        "      <td> 1</td>\n",
        "      <td> A3KHDNUGAR6S5K</td>\n",
        "      <td> 0072513780</td>\n",
        "      <td> 1</td>\n",
        "    </tr>\n",
        "  </tbody>\n",
        "</table>\n",
        "<p>2 rows \u00d7 4 columns</p>\n",
        "</div>"
       ],
       "metadata": {},
       "output_type": "pyout",
       "prompt_number": 102,
       "text": [
        "   index   Review_UserID  Product_ID  Review_Score\n",
        "0      0  A23XA4Q6UMA166  0072513780             1\n",
        "1      1  A3KHDNUGAR6S5K  0072513780             1\n",
        "\n",
        "[2 rows x 4 columns]"
       ]
      }
     ],
     "prompt_number": 102
    },
    {
     "cell_type": "code",
     "collapsed": false,
     "input": [
      "print len(bots[(bots[\"Review_Score\"]==2)])\n",
      "print len(bots[bots[\"Review_Score\"]==3])\n",
      "print len(bots[bots[\"Review_Score\"]==4])"
     ],
     "language": "python",
     "metadata": {},
     "outputs": [
      {
       "output_type": "stream",
       "stream": "stdout",
       "text": [
        "4439\n",
        "310\n",
        "71\n"
       ]
      }
     ],
     "prompt_number": 103
    },
    {
     "cell_type": "code",
     "collapsed": false,
     "input": [
      "bots[bots[\"Review_Score\"]>=3].to_csv(\"Data/Bots_2_Review.csv\")"
     ],
     "language": "python",
     "metadata": {},
     "outputs": [],
     "prompt_number": 104
    },
    {
     "cell_type": "code",
     "collapsed": false,
     "input": [
      "cut_users = bots[bots[\"Review_Score\"]>=3]\n",
      "cut_users = cut_users[\"Review_UserID\"]\n",
      "print len(raw_electronics[~raw_electronics.Review_UserID.isin(cut_users)])\n",
      "print len(raw_electronics[raw_electronics.Review_UserID.isin(cut_users)])\n",
      "bad_users = raw_electronics[raw_electronics.Review_UserID.isin(cut_users)][\"Review_UserID\"]\n",
      "raw_electronics = raw_electronics[~raw_electronics.Review_UserID.isin(cut_users)]"
     ],
     "language": "python",
     "metadata": {},
     "outputs": [
      {
       "output_type": "stream",
       "stream": "stdout",
       "text": [
        "1183982\n",
        "5569"
       ]
      },
      {
       "output_type": "stream",
       "stream": "stdout",
       "text": [
        "\n"
       ]
      }
     ],
     "prompt_number": 128
    },
    {
     "cell_type": "code",
     "collapsed": false,
     "input": [
      "bad_users = bad_users.unique()\n",
      "print len(bad_users)\n",
      "\"AYA4HL04UH8JT\" in bad_users"
     ],
     "language": "python",
     "metadata": {},
     "outputs": [
      {
       "output_type": "stream",
       "stream": "stdout",
       "text": [
        "325\n"
       ]
      },
      {
       "metadata": {},
       "output_type": "pyout",
       "prompt_number": 129,
       "text": [
        "True"
       ]
      }
     ],
     "prompt_number": 129
    },
    {
     "cell_type": "code",
     "collapsed": false,
     "input": [
      "pd.DataFrame(bad_users, columns=[\"User_ID\"]).to_csv(\"Data/Bad_Users.csv\")"
     ],
     "language": "python",
     "metadata": {},
     "outputs": [],
     "prompt_number": 131
    },
    {
     "cell_type": "code",
     "collapsed": false,
     "input": [
      "cut_users = pd.DataFrame.from_csv(\"Data/Bad_Users.csv\")\n",
      "raw_electronics = raw_electronics[~raw_electronics.Review_UserID.isin(cut_users[\"User_ID\"])]"
     ],
     "language": "python",
     "metadata": {},
     "outputs": [],
     "prompt_number": 38
    },
    {
     "cell_type": "code",
     "collapsed": false,
     "input": [
      "raw_electronics[raw_electronics.Review_UserID == \"AYA4HL04UH8JT\"]"
     ],
     "language": "python",
     "metadata": {},
     "outputs": [
      {
       "html": [
        "<div style=\"max-height:1000px;max-width:1500px;overflow:auto;\">\n",
        "<table border=\"1\" class=\"dataframe\">\n",
        "  <tbody>\n",
        "    <tr>\n",
        "      <td>Int64Index([], dtype='int64')</td>\n",
        "      <td>Empty DataFrame</td>\n",
        "    </tr>\n",
        "  </tbody>\n",
        "</table>\n",
        "<p>0 rows \u00d7 9 columns</p>\n",
        "</div>"
       ],
       "metadata": {},
       "output_type": "pyout",
       "prompt_number": 39,
       "text": [
        "Empty DataFrame\n",
        "Columns: [Product_ID, Product_Title, Product_Price, Review_UserID, Review_ProfileName, Review_Helpfulness_Score, Review_Helpfulness_Total, Review_Score, Review_Timestamp]\n",
        "Index: []\n",
        "\n",
        "[0 rows x 9 columns]"
       ]
      }
     ],
     "prompt_number": 39
    },
    {
     "cell_type": "heading",
     "level": 3,
     "metadata": {},
     "source": [
      "Remove non-caring users"
     ]
    },
    {
     "cell_type": "code",
     "collapsed": false,
     "input": [
      "# Remove all users based on review count\n",
      "good_users = raw_electronics.groupby(\"Review_UserID\")\n",
      "good_users = good_users.count()[\"Review_UserID\"]"
     ],
     "language": "python",
     "metadata": {},
     "outputs": [],
     "prompt_number": 8
    },
    {
     "cell_type": "code",
     "collapsed": false,
     "input": [
      "good_users.to_csv(\"Data/No_Bot_User_Review_Counts.csv\")"
     ],
     "language": "python",
     "metadata": {},
     "outputs": []
    },
    {
     "cell_type": "code",
     "collapsed": false,
     "input": [
      "good_users = pd.DataFrame.from_csv(\"Data/No_Bot_User_Review_Counts.csv\", index_col=None, header=None)"
     ],
     "language": "python",
     "metadata": {},
     "outputs": [],
     "prompt_number": 7
    },
    {
     "cell_type": "code",
     "collapsed": false,
     "input": [
      "plt.hist(good_users[1][good_users[1] < 100], bins=100, log=True)\n",
      "# It appears like 10 is a good number :)"
     ],
     "language": "python",
     "metadata": {},
     "outputs": [
      {
       "metadata": {},
       "output_type": "pyout",
       "prompt_number": 12,
       "text": [
        "(array([  6.31996000e+05,   1.08948000e+05,   3.30090000e+04,\n",
        "         1.49570000e+04,   7.65200000e+03,   4.41000000e+03,\n",
        "         2.67100000e+03,   1.95400000e+03,   1.24100000e+03,\n",
        "         8.46000000e+02,   6.09000000e+02,   4.72000000e+02,\n",
        "         3.81000000e+02,   2.79000000e+02,   2.41000000e+02,\n",
        "         1.85000000e+02,   1.53000000e+02,   1.26000000e+02,\n",
        "         1.04000000e+02,   9.20000000e+01,   6.60000000e+01,\n",
        "         5.90000000e+01,   4.90000000e+01,   4.60000000e+01,\n",
        "         4.40000000e+01,   3.90000000e+01,   4.20000000e+01,\n",
        "         3.70000000e+01,   2.00000000e+01,   2.30000000e+01,\n",
        "         1.30000000e+01,   1.60000000e+01,   2.00000000e+01,\n",
        "         1.50000000e+01,   1.40000000e+01,   1.00000000e+01,\n",
        "         1.60000000e+01,   1.10000000e+01,   1.00000000e+01,\n",
        "         5.00000000e+00,   8.00000000e+00,   9.00000000e+00,\n",
        "         1.00000000e+01,   1.10000000e+01,   6.00000000e+00,\n",
        "         4.00000000e+00,   4.00000000e+00,   7.00000000e+00,\n",
        "         3.00000000e+00,   0.00000000e+00,   4.00000000e+00,\n",
        "         4.00000000e+00,   3.00000000e+00,   5.00000000e+00,\n",
        "         4.00000000e+00,   2.00000000e+00,   3.00000000e+00,\n",
        "         3.00000000e+00,   2.00000000e+00,   1.00000000e+00,\n",
        "         0.00000000e+00,   1.00000000e+00,   2.00000000e+00,\n",
        "         2.00000000e+00,   3.00000000e+00,   4.00000000e+00,\n",
        "         2.00000000e+00,   3.00000000e+00,   0.00000000e+00,\n",
        "         2.00000000e+00,   0.00000000e+00,   1.00000000e+00,\n",
        "         2.00000000e+00,   0.00000000e+00,   3.00000000e+00,\n",
        "         0.00000000e+00,   0.00000000e+00,   1.00000000e+00,\n",
        "         2.00000000e+00,   1.00000000e+00,   3.00000000e+00,\n",
        "         1.00000000e+00,   2.00000000e+00,   0.00000000e+00,\n",
        "         0.00000000e+00,   0.00000000e+00,   1.00000000e+00,\n",
        "         0.00000000e+00,   0.00000000e+00,   0.00000000e+00,\n",
        "         1.00000000e+00,   0.00000000e+00,   2.00000000e+00,\n",
        "         0.00000000e+00,   0.00000000e+00,   1.00000000e+00,\n",
        "         1.00000000e+00,   0.00000000e+00,   0.00000000e+00,\n",
        "         1.00000000e+00]),\n",
        " array([  1.  ,   1.98,   2.96,   3.94,   4.92,   5.9 ,   6.88,   7.86,\n",
        "         8.84,   9.82,  10.8 ,  11.78,  12.76,  13.74,  14.72,  15.7 ,\n",
        "        16.68,  17.66,  18.64,  19.62,  20.6 ,  21.58,  22.56,  23.54,\n",
        "        24.52,  25.5 ,  26.48,  27.46,  28.44,  29.42,  30.4 ,  31.38,\n",
        "        32.36,  33.34,  34.32,  35.3 ,  36.28,  37.26,  38.24,  39.22,\n",
        "        40.2 ,  41.18,  42.16,  43.14,  44.12,  45.1 ,  46.08,  47.06,\n",
        "        48.04,  49.02,  50.  ,  50.98,  51.96,  52.94,  53.92,  54.9 ,\n",
        "        55.88,  56.86,  57.84,  58.82,  59.8 ,  60.78,  61.76,  62.74,\n",
        "        63.72,  64.7 ,  65.68,  66.66,  67.64,  68.62,  69.6 ,  70.58,\n",
        "        71.56,  72.54,  73.52,  74.5 ,  75.48,  76.46,  77.44,  78.42,\n",
        "        79.4 ,  80.38,  81.36,  82.34,  83.32,  84.3 ,  85.28,  86.26,\n",
        "        87.24,  88.22,  89.2 ,  90.18,  91.16,  92.14,  93.12,  94.1 ,\n",
        "        95.08,  96.06,  97.04,  98.02,  99.  ]),\n",
        " <a list of 100 Patch objects>)"
       ]
      },
      {
       "metadata": {},
       "output_type": "display_data",
       "png": "[encoded data removed]",
       "text": [
        "<matplotlib.figure.Figure at 0xae0c520c>"
       ]
      }
     ],
     "prompt_number": 12
    },
    {
     "cell_type": "code",
     "collapsed": false,
     "input": [
      "cut_users = good_users[good_users < 8]\n",
      "cut_users = cut_users.index\n",
      "print \"Records\", len(cut_users)\n",
      "cut_users = cut_users.unique()\n",
      "print \"Users\", len(cut_users)"
     ],
     "language": "python",
     "metadata": {},
     "outputs": [
      {
       "output_type": "stream",
       "stream": "stdout",
       "text": [
        "Records 803643\n",
        "Users"
       ]
      },
      {
       "output_type": "stream",
       "stream": "stdout",
       "text": [
        " 803643\n"
       ]
      }
     ],
     "prompt_number": 10
    },
    {
     "cell_type": "markdown",
     "metadata": {},
     "source": [
      "Import Good Attempt"
     ]
    },
    {
     "cell_type": "code",
     "collapsed": false,
     "input": [
      "good_users = pd.read_csv(\"Data/No_Bot_User_Review_Counts.csv\", header=None)\n",
      "good_users[1].head(5)"
     ],
     "language": "python",
     "metadata": {},
     "outputs": [
      {
       "metadata": {},
       "output_type": "pyout",
       "prompt_number": 71,
       "text": [
        "0    1\n",
        "1    1\n",
        "2    2\n",
        "3    1\n",
        "4    2\n",
        "Name: 1, dtype: int64"
       ]
      }
     ],
     "prompt_number": 71
    },
    {
     "cell_type": "code",
     "collapsed": false,
     "input": [
      "print len(good_users)\n",
      "cut_users = good_users[good_users[1] < 8]\n",
      "cut_users = cut_users[0]\n",
      "print \"Records\", len(cut_users)\n",
      "cut_users = cut_users.unique()\n",
      "print \"Users\", len(cut_users)\n",
      "cut_users[1:5]"
     ],
     "language": "python",
     "metadata": {},
     "outputs": [
      {
       "output_type": "stream",
       "stream": "stdout",
       "text": [
        "811033\n",
        "Records"
       ]
      },
      {
       "output_type": "stream",
       "stream": "stdout",
       "text": [
        " 803643\n",
        "Users"
       ]
      },
      {
       "output_type": "stream",
       "stream": "stdout",
       "text": [
        " 803643\n"
       ]
      },
      {
       "metadata": {},
       "output_type": "pyout",
       "prompt_number": 75,
       "text": [
        "array(['A0004478EF5NFPHLGCWG', 'A00259703ZH4D3R0DO09',\n",
        "       'A00267003MU1A1IDE5IV4', 'A00279861HQYOQ4LIJ55F'], dtype=object)"
       ]
      }
     ],
     "prompt_number": 75
    },
    {
     "cell_type": "markdown",
     "metadata": {},
     "source": [
      "Actually cut it"
     ]
    },
    {
     "cell_type": "code",
     "collapsed": false,
     "input": [
      "print len(raw_electronics[raw_electronics.Review_UserID.isin(cut_users)])\n",
      "print len(raw_electronics[~raw_electronics.Review_UserID.isin(cut_users)])\n",
      "raw_electronics = raw_electronics[~raw_electronics.Review_UserID.isin(cut_users)]"
     ],
     "language": "python",
     "metadata": {},
     "outputs": [
      {
       "output_type": "stream",
       "stream": "stdout",
       "text": [
        "1091416\n",
        "92566"
       ]
      },
      {
       "output_type": "stream",
       "stream": "stdout",
       "text": [
        "\n"
       ]
      }
     ],
     "prompt_number": 76
    },
    {
     "cell_type": "heading",
     "level": 4,
     "metadata": {},
     "source": [
      "Remove dead products"
     ]
    },
    {
     "cell_type": "code",
     "collapsed": false,
     "input": [
      "good_products = raw_electronics.groupby(\"Product_ID\")\n",
      "good_products = good_products.count()[\"Product_ID\"]"
     ],
     "language": "python",
     "metadata": {},
     "outputs": [],
     "prompt_number": 13
    },
    {
     "cell_type": "code",
     "collapsed": false,
     "input": [
      "good_products.to_csv(\"Data/No_Bot_User_Product_Review_Counts.csv\")"
     ],
     "language": "python",
     "metadata": {},
     "outputs": []
    },
    {
     "cell_type": "code",
     "collapsed": false,
     "input": [
      "plt.hist(good_products[(good_products < 200)], bins=100, log=True)"
     ],
     "language": "python",
     "metadata": {},
     "outputs": [
      {
       "metadata": {},
       "output_type": "pyout",
       "prompt_number": 14,
       "text": [
        "(array([  2.07340000e+04,   3.75500000e+03,   9.07000000e+02,\n",
        "         1.06200000e+03,   3.51000000e+02,   4.40000000e+02,\n",
        "         3.13000000e+02,   1.15000000e+02,   1.93000000e+02,\n",
        "         7.10000000e+01,   1.95000000e+02,   3.80000000e+01,\n",
        "         8.20000000e+01,   4.90000000e+01,   3.90000000e+01,\n",
        "         5.90000000e+01,   1.60000000e+01,   2.80000000e+01,\n",
        "         2.30000000e+01,   1.70000000e+01,   1.70000000e+01,\n",
        "         1.10000000e+01,   1.20000000e+01,   9.00000000e+00,\n",
        "         2.00000000e+01,   1.80000000e+01,   1.70000000e+01,\n",
        "         9.00000000e+00,   5.00000000e+00,   7.00000000e+00,\n",
        "         5.00000000e+00,   8.00000000e+00,   8.00000000e+00,\n",
        "         3.00000000e+00,   7.00000000e+00,   5.00000000e+00,\n",
        "         1.00000000e+01,   7.00000000e+00,   2.00000000e+00,\n",
        "         3.00000000e+00,   0.00000000e+00,   3.00000000e+00,\n",
        "         6.00000000e+00,   1.00000000e+00,   6.00000000e+00,\n",
        "         4.00000000e+00,   1.30000000e+01,   2.00000000e+00,\n",
        "         2.00000000e+00,   0.00000000e+00,   3.00000000e+00,\n",
        "         2.00000000e+00,   0.00000000e+00,   0.00000000e+00,\n",
        "         0.00000000e+00,   1.00000000e+00,   3.00000000e+00,\n",
        "         3.00000000e+00,   1.00000000e+00,   1.00000000e+00,\n",
        "         1.00000000e+00,   0.00000000e+00,   0.00000000e+00,\n",
        "         2.00000000e+00,   0.00000000e+00,   0.00000000e+00,\n",
        "         1.00000000e+00,   0.00000000e+00,   1.00000000e+00,\n",
        "         1.00000000e+00,   2.00000000e+00,   1.00000000e+00,\n",
        "         1.00000000e+00,   0.00000000e+00,   1.00000000e+00,\n",
        "         0.00000000e+00,   0.00000000e+00,   0.00000000e+00,\n",
        "         0.00000000e+00,   0.00000000e+00,   0.00000000e+00,\n",
        "         0.00000000e+00,   0.00000000e+00,   0.00000000e+00,\n",
        "         0.00000000e+00,   0.00000000e+00,   0.00000000e+00,\n",
        "         0.00000000e+00,   0.00000000e+00,   0.00000000e+00,\n",
        "         0.00000000e+00,   0.00000000e+00,   0.00000000e+00,\n",
        "         0.00000000e+00,   0.00000000e+00,   0.00000000e+00,\n",
        "         0.00000000e+00,   5.00000000e+00,   1.00000000e+00,\n",
        "         1.00000000e+00]),\n",
        " array([   1.  ,    2.58,    4.16,    5.74,    7.32,    8.9 ,   10.48,\n",
        "         12.06,   13.64,   15.22,   16.8 ,   18.38,   19.96,   21.54,\n",
        "         23.12,   24.7 ,   26.28,   27.86,   29.44,   31.02,   32.6 ,\n",
        "         34.18,   35.76,   37.34,   38.92,   40.5 ,   42.08,   43.66,\n",
        "         45.24,   46.82,   48.4 ,   49.98,   51.56,   53.14,   54.72,\n",
        "         56.3 ,   57.88,   59.46,   61.04,   62.62,   64.2 ,   65.78,\n",
        "         67.36,   68.94,   70.52,   72.1 ,   73.68,   75.26,   76.84,\n",
        "         78.42,   80.  ,   81.58,   83.16,   84.74,   86.32,   87.9 ,\n",
        "         89.48,   91.06,   92.64,   94.22,   95.8 ,   97.38,   98.96,\n",
        "        100.54,  102.12,  103.7 ,  105.28,  106.86,  108.44,  110.02,\n",
        "        111.6 ,  113.18,  114.76,  116.34,  117.92,  119.5 ,  121.08,\n",
        "        122.66,  124.24,  125.82,  127.4 ,  128.98,  130.56,  132.14,\n",
        "        133.72,  135.3 ,  136.88,  138.46,  140.04,  141.62,  143.2 ,\n",
        "        144.78,  146.36,  147.94,  149.52,  151.1 ,  152.68,  154.26,\n",
        "        155.84,  157.42,  159.  ]),\n",
        " <a list of 100 Patch objects>)"
       ]
      },
      {
       "metadata": {},
       "output_type": "display_data",
       "png": "[encoded data removed]",
       "text": [
        "<matplotlib.figure.Figure at 0xa403b5cc>"
       ]
      }
     ],
     "prompt_number": 14
    },
    {
     "cell_type": "code",
     "collapsed": false,
     "input": [
      "cut_products = good_products[good_products < 10]\n",
      "cut_products = cut_products.index\n",
      "print \"Records\", len(cut_products)\n",
      "cut_products = cut_products.unique()\n",
      "print \"Products\", len(cut_products)"
     ],
     "language": "python",
     "metadata": {},
     "outputs": [
      {
       "output_type": "stream",
       "stream": "stdout",
       "text": [
        "Records 27053\n",
        "Products 27053\n"
       ]
      }
     ],
     "prompt_number": 15
    },
    {
     "cell_type": "code",
     "collapsed": false,
     "input": [
      "print \"Good\", len(raw_electronics[~raw_electronics.Product_ID.isin(cut_products)])\n",
      "print \"Bad\", len(raw_electronics[raw_electronics.Product_ID.isin(cut_products)])"
     ],
     "language": "python",
     "metadata": {},
     "outputs": [
      {
       "output_type": "stream",
       "stream": "stdout",
       "text": [
        "Good 42503\n",
        "Bad "
       ]
      },
      {
       "output_type": "stream",
       "stream": "stdout",
       "text": [
        "54884\n"
       ]
      }
     ],
     "prompt_number": 16
    },
    {
     "cell_type": "markdown",
     "metadata": {},
     "source": [
      "Import it instead"
     ]
    },
    {
     "cell_type": "code",
     "collapsed": false,
     "input": [
      "good_products = pd.read_csv(\"Data/No_Bot_User_Product_Review_Counts.csv\", header=None)\n",
      "good_products[1].head(5)"
     ],
     "language": "python",
     "metadata": {},
     "outputs": [
      {
       "metadata": {},
       "output_type": "pyout",
       "prompt_number": 79,
       "text": [
        "0    1\n",
        "1    1\n",
        "2    1\n",
        "3    1\n",
        "4    1\n",
        "Name: 1, dtype: int64"
       ]
      }
     ],
     "prompt_number": 79
    },
    {
     "cell_type": "code",
     "collapsed": false,
     "input": [
      "print len(good_products)\n",
      "cut_products = good_products[good_products[1] < 10]\n",
      "cut_products = cut_products[0]\n",
      "print \"Records\", len(cut_products)\n",
      "cut_products = cut_products.unique()\n",
      "print \"Users\", len(cut_products)\n",
      "cut_products[1:5]"
     ],
     "language": "python",
     "metadata": {},
     "outputs": [
      {
       "output_type": "stream",
       "stream": "stdout",
       "text": [
        "28753\n",
        "Records 27053\n",
        "Users 27053\n"
       ]
      },
      {
       "metadata": {},
       "output_type": "pyout",
       "prompt_number": 80,
       "text": [
        "array(['0312321074', '0312331363', '0312993064', '0373250460'], dtype=object)"
       ]
      }
     ],
     "prompt_number": 80
    },
    {
     "cell_type": "code",
     "collapsed": false,
     "input": [
      "print len(raw_electronics[raw_electronics.Product_ID.isin(cut_products)])\n",
      "print len(raw_electronics[~raw_electronics.Product_ID.isin(cut_products)])\n",
      "raw_electronics = raw_electronics[~raw_electronics.Product_ID.isin(cut_products)]"
     ],
     "language": "python",
     "metadata": {},
     "outputs": [
      {
       "output_type": "stream",
       "stream": "stdout",
       "text": [
        "52348\n",
        "40218"
       ]
      },
      {
       "output_type": "stream",
       "stream": "stdout",
       "text": [
        "\n"
       ]
      }
     ],
     "prompt_number": 81
    },
    {
     "cell_type": "heading",
     "level": 4,
     "metadata": {},
     "source": [
      "Save the Filtered Data"
     ]
    },
    {
     "cell_type": "code",
     "collapsed": false,
     "input": [
      "print \"overall length: \", len(raw_electronics)\n",
      "print \"products: \", len(raw_electronics[\"Product_ID\"].unique())\n",
      "print \"users: \", len(raw_electronics[\"Review_UserID\"].unique())"
     ],
     "language": "python",
     "metadata": {},
     "outputs": [
      {
       "output_type": "stream",
       "stream": "stdout",
       "text": [
        "overall length:  40218\n",
        "products:  1699\n",
        "users:  6911\n"
       ]
      }
     ],
     "prompt_number": 82
    },
    {
     "cell_type": "code",
     "collapsed": false,
     "input": [
      "raw_electronics.to_csv(\"Data/Matt_Filtered_Electronics_Review_Data.csv\")"
     ],
     "language": "python",
     "metadata": {},
     "outputs": [],
     "prompt_number": 83
    },
    {
     "cell_type": "code",
     "collapsed": false,
     "input": [
      "raw_electronics[raw_electronics[\"Review_UserID\"] == \"AYA4HL04UH8JT\"]"
     ],
     "language": "python",
     "metadata": {},
     "outputs": [
      {
       "html": [
        "<div style=\"max-height:1000px;max-width:1500px;overflow:auto;\">\n",
        "<table border=\"1\" class=\"dataframe\">\n",
        "  <tbody>\n",
        "    <tr>\n",
        "      <td>Int64Index([], dtype='int64')</td>\n",
        "      <td>Empty DataFrame</td>\n",
        "    </tr>\n",
        "  </tbody>\n",
        "</table>\n",
        "<p>0 rows \u00d7 9 columns</p>\n",
        "</div>"
       ],
       "metadata": {},
       "output_type": "pyout",
       "prompt_number": 86,
       "text": [
        "Empty DataFrame\n",
        "Columns: [Product_ID, Product_Title, Product_Price, Review_UserID, Review_ProfileName, Review_Helpfulness_Score, Review_Helpfulness_Total, Review_Score, Review_Timestamp]\n",
        "Index: []\n",
        "\n",
        "[0 rows x 9 columns]"
       ]
      }
     ],
     "prompt_number": 86
    },
    {
     "cell_type": "heading",
     "level": 1,
     "metadata": {},
     "source": [
      "Push Into SQL"
     ]
    },
    {
     "cell_type": "code",
     "collapsed": false,
     "input": [
      "filtered_reviews = pd.DataFrame.from_csv(\"Data/Matt_Filtered_Electronics_Review_Data.csv\")\n",
      "print \"review length: \" + str(len(filtered_reviews))\n",
      "#filtered_reviews.drop_duplicates(cols=[\"Product_ID\", \"Review_UserID\", ]"
     ],
     "language": "python",
     "metadata": {},
     "outputs": [
      {
       "output_type": "stream",
       "stream": "stdout",
       "text": [
        "review length: 40218\n"
       ]
      }
     ],
     "prompt_number": 5
    },
    {
     "cell_type": "code",
     "collapsed": false,
     "input": [
      "bots = pd.DataFrame.from_csv(\"Data/Bad_Users.csv\")\n",
      "bots[bots['User_ID'] == \"AYA4HL04UH8JT\"]"
     ],
     "language": "python",
     "metadata": {},
     "outputs": [
      {
       "html": [
        "<div style=\"max-height:1000px;max-width:1500px;overflow:auto;\">\n",
        "<table border=\"1\" class=\"dataframe\">\n",
        "  <thead>\n",
        "    <tr style=\"text-align: right;\">\n",
        "      <th></th>\n",
        "      <th>User_ID</th>\n",
        "    </tr>\n",
        "  </thead>\n",
        "  <tbody>\n",
        "    <tr>\n",
        "      <th>105</th>\n",
        "      <td> AYA4HL04UH8JT</td>\n",
        "    </tr>\n",
        "  </tbody>\n",
        "</table>\n",
        "<p>1 rows \u00d7 1 columns</p>\n",
        "</div>"
       ],
       "metadata": {},
       "output_type": "pyout",
       "prompt_number": 99,
       "text": [
        "           User_ID\n",
        "105  AYA4HL04UH8JT\n",
        "\n",
        "[1 rows x 1 columns]"
       ]
      }
     ],
     "prompt_number": 99
    },
    {
     "cell_type": "heading",
     "level": 1,
     "metadata": {},
     "source": [
      "Analyze with NetworkX"
     ]
    },
    {
     "cell_type": "code",
     "collapsed": false,
     "input": [
      "import networkx as nx\n",
      "from networkx.algorithms import bipartite"
     ],
     "language": "python",
     "metadata": {},
     "outputs": [
      {
       "output_type": "stream",
       "stream": "stdout",
       "text": [
        "Couldn't import dot_parser, loading of dot files will not be possible.\n"
       ]
      }
     ],
     "prompt_number": 14
    },
    {
     "cell_type": "code",
     "collapsed": false,
     "input": [
      "frames = 5\n",
      "minimum = filtered_reviews.Review_Timestamp.min()\n",
      "step = (filtered_reviews.Review_Timestamp.max() - minimum)/frames"
     ],
     "language": "python",
     "metadata": {},
     "outputs": [],
     "prompt_number": 15
    },
    {
     "cell_type": "code",
     "collapsed": false,
     "input": [
      "i = 3\n",
      "sector_reviews = filtered_reviews[(filtered_reviews.Review_Timestamp >= minimum + ((i-1)*step)) & (filtered_reviews.Review_Timestamp <= minimum + (i*step))]\n",
      "#sector_reviews = filtered_reviews\n",
      "users = sector_reviews.Review_UserID.unique()\n",
      "products = sector_reviews.Product_ID.unique()\n",
      "print len(users)\n",
      "print len(products)"
     ],
     "language": "python",
     "metadata": {},
     "outputs": [
      {
       "output_type": "stream",
       "stream": "stdout",
       "text": [
        "3723\n",
        "1442\n"
       ]
      }
     ],
     "prompt_number": 21
    },
    {
     "cell_type": "code",
     "collapsed": false,
     "input": [
      "e_bipart = nx.Graph()\n",
      "user_score = []\n",
      "product_score = []\n",
      "\n",
      "for i in range(1, frames + 1):\n",
      "    sector_reviews = filtered_reviews[(filtered_reviews.Review_Timestamp >= minimum + ((i-1)*step)) & (filtered_reviews.Review_Timestamp <= minimum + (i*step))]\n",
      "    sector_reviews = sector_reviews[sector_reviews.Review_UserID.isin(users)]\n",
      "    sector_reviews = sector_reviews[sector_reviews.Product_ID.isin(products)]\n",
      "    for ix, row in sector_reviews.iterrows():\n",
      "        e_bipart.add_edge(row[\"Product_ID\"], row[\"Review_UserID\"])\n",
      "    print \"Done adding edges for \", i, \": Edges added - \", len(sector_reviews)\n",
      "    \n",
      "    b_cluster = pd.DataFrame(bipartite.clustering(e_bipart), index=[\"CC\"]).T\n",
      "    user_cluster = b_cluster[b_cluster.index.isin(users)]\n",
      "    product_cluster = b_cluster[b_cluster.index.isin(products)]\n",
      "    user_score.append(user_cluster)\n",
      "    product_score.append(product_cluster)\n",
      "    "
     ],
     "language": "python",
     "metadata": {},
     "outputs": [
      {
       "output_type": "stream",
       "stream": "stdout",
       "text": [
        "Done adding edges for  1 : Edges added -  162\n",
        "Done adding edges for "
       ]
      },
      {
       "output_type": "stream",
       "stream": "stdout",
       "text": [
        " 2 : Edges added -  1487\n",
        "Done adding edges for "
       ]
      },
      {
       "output_type": "stream",
       "stream": "stdout",
       "text": [
        " 3 : Edges added -  11670\n",
        "Done adding edges for "
       ]
      },
      {
       "output_type": "stream",
       "stream": "stdout",
       "text": [
        " 4 : Edges added -  5474\n",
        "Done adding edges for "
       ]
      },
      {
       "output_type": "stream",
       "stream": "stdout",
       "text": [
        " 5 : Edges added -  1513\n"
       ]
      }
     ],
     "prompt_number": 22
    },
    {
     "cell_type": "code",
     "collapsed": false,
     "input": [
      "for i in range(0, frames):\n",
      "    u_s = user_score[i]\n",
      "    u_s[\"Frame\"] = i\n",
      "    p_s = product_score[i]\n",
      "    p_s[\"Frame\"] = i\n",
      "\n",
      "user_score = pd.concat(user_score)\n",
      "product_score = pd.concat(product_score)"
     ],
     "language": "python",
     "metadata": {},
     "outputs": [],
     "prompt_number": 23
    },
    {
     "cell_type": "code",
     "collapsed": false,
     "input": [
      "grouped_score = user_score.groupby(\"Frame\")\n",
      "grouped_score.aggregate([\"mean\", \"std\", \"count\"])"
     ],
     "language": "python",
     "metadata": {},
     "outputs": [
      {
       "html": [
        "<div style=\"max-height:1000px;max-width:1500px;overflow:auto;\">\n",
        "<table border=\"1\" class=\"dataframe\">\n",
        "  <thead>\n",
        "    <tr>\n",
        "      <th></th>\n",
        "      <th colspan=\"3\" halign=\"left\">CC</th>\n",
        "    </tr>\n",
        "    <tr>\n",
        "      <th></th>\n",
        "      <th>mean</th>\n",
        "      <th>std</th>\n",
        "      <th>count</th>\n",
        "    </tr>\n",
        "    <tr>\n",
        "      <th>Frame</th>\n",
        "      <th></th>\n",
        "      <th></th>\n",
        "      <th></th>\n",
        "    </tr>\n",
        "  </thead>\n",
        "  <tbody>\n",
        "    <tr>\n",
        "      <th>0</th>\n",
        "      <td> 0.595524</td>\n",
        "      <td> 0.309672</td>\n",
        "      <td>  101</td>\n",
        "    </tr>\n",
        "    <tr>\n",
        "      <th>1</th>\n",
        "      <td> 0.409132</td>\n",
        "      <td> 0.220620</td>\n",
        "      <td>  763</td>\n",
        "    </tr>\n",
        "    <tr>\n",
        "      <th>2</th>\n",
        "      <td> 0.223928</td>\n",
        "      <td> 0.122901</td>\n",
        "      <td> 3723</td>\n",
        "    </tr>\n",
        "    <tr>\n",
        "      <th>3</th>\n",
        "      <td> 0.146629</td>\n",
        "      <td> 0.081913</td>\n",
        "      <td> 3723</td>\n",
        "    </tr>\n",
        "    <tr>\n",
        "      <th>4</th>\n",
        "      <td> 0.136692</td>\n",
        "      <td> 0.077376</td>\n",
        "      <td> 3723</td>\n",
        "    </tr>\n",
        "  </tbody>\n",
        "</table>\n",
        "<p>5 rows \u00d7 3 columns</p>\n",
        "</div>"
       ],
       "metadata": {},
       "output_type": "pyout",
       "prompt_number": 24,
       "text": [
        "             CC                 \n",
        "           mean       std  count\n",
        "Frame                           \n",
        "0      0.595524  0.309672    101\n",
        "1      0.409132  0.220620    763\n",
        "2      0.223928  0.122901   3723\n",
        "3      0.146629  0.081913   3723\n",
        "4      0.136692  0.077376   3723\n",
        "\n",
        "[5 rows x 3 columns]"
       ]
      }
     ],
     "prompt_number": 24
    },
    {
     "cell_type": "code",
     "collapsed": false,
     "input": [
      "grouped_score = product_score.groupby(\"Frame\")\n",
      "grouped_score.aggregate([\"mean\", \"std\", \"count\"])"
     ],
     "language": "python",
     "metadata": {},
     "outputs": [
      {
       "html": [
        "<div style=\"max-height:1000px;max-width:1500px;overflow:auto;\">\n",
        "<table border=\"1\" class=\"dataframe\">\n",
        "  <thead>\n",
        "    <tr>\n",
        "      <th></th>\n",
        "      <th colspan=\"3\" halign=\"left\">CC</th>\n",
        "    </tr>\n",
        "    <tr>\n",
        "      <th></th>\n",
        "      <th>mean</th>\n",
        "      <th>std</th>\n",
        "      <th>count</th>\n",
        "    </tr>\n",
        "    <tr>\n",
        "      <th>Frame</th>\n",
        "      <th></th>\n",
        "      <th></th>\n",
        "      <th></th>\n",
        "    </tr>\n",
        "  </thead>\n",
        "  <tbody>\n",
        "    <tr>\n",
        "      <th>0</th>\n",
        "      <td> 0.276321</td>\n",
        "      <td> 0.279834</td>\n",
        "      <td>   61</td>\n",
        "    </tr>\n",
        "    <tr>\n",
        "      <th>1</th>\n",
        "      <td> 0.225696</td>\n",
        "      <td> 0.241811</td>\n",
        "      <td>  389</td>\n",
        "    </tr>\n",
        "    <tr>\n",
        "      <th>2</th>\n",
        "      <td> 0.158144</td>\n",
        "      <td> 0.264445</td>\n",
        "      <td> 1442</td>\n",
        "    </tr>\n",
        "    <tr>\n",
        "      <th>3</th>\n",
        "      <td> 0.112253</td>\n",
        "      <td> 0.207444</td>\n",
        "      <td> 1442</td>\n",
        "    </tr>\n",
        "    <tr>\n",
        "      <th>4</th>\n",
        "      <td> 0.100549</td>\n",
        "      <td> 0.190633</td>\n",
        "      <td> 1442</td>\n",
        "    </tr>\n",
        "  </tbody>\n",
        "</table>\n",
        "<p>5 rows \u00d7 3 columns</p>\n",
        "</div>"
       ],
       "metadata": {},
       "output_type": "pyout",
       "prompt_number": 25,
       "text": [
        "             CC                 \n",
        "           mean       std  count\n",
        "Frame                           \n",
        "0      0.276321  0.279834     61\n",
        "1      0.225696  0.241811    389\n",
        "2      0.158144  0.264445   1442\n",
        "3      0.112253  0.207444   1442\n",
        "4      0.100549  0.190633   1442\n",
        "\n",
        "[5 rows x 3 columns]"
       ]
      }
     ],
     "prompt_number": 25
    },
    {
     "cell_type": "code",
     "collapsed": false,
     "input": [
      "from scipy.stats import gaussian_kde\n",
      "\n",
      "# Generate fake data\n",
      "x = user_score[\"Frame\"]\n",
      "y = user_score[\"CC\"]\n",
      "\n",
      "# Calculate the point density\n",
      "xy = np.vstack([x,y])\n",
      "z = gaussian_kde(xy)(xy)\n",
      "\n",
      "fig, ax = plt.subplots()\n",
      "ax.scatter(x, y, c=z, s=100, edgecolor='')\n",
      "plt.show()"
     ],
     "language": "python",
     "metadata": {},
     "outputs": [
      {
       "metadata": {},
       "output_type": "display_data",
       "png": "[encoded data removed]",
       "text": [
        "<matplotlib.figure.Figure at 0xad91ed0c>"
       ]
      }
     ],
     "prompt_number": 20
    },
    {
     "cell_type": "code",
     "collapsed": false,
     "input": [
      "fig, ax = plt.subplots()\n",
      "ax.hist(filtered_reviews.Review_Timestamp.tolist(), bins=100, label=\"Total Reviews By Time\n",
      "fig."
     ],
     "language": "python",
     "metadata": {},
     "outputs": [
      {
       "metadata": {},
       "output_type": "pyout",
       "prompt_number": 10,
       "text": [
        "(array([  1.00000000e+00,   1.00000000e+00,   1.00000000e+00,\n",
        "         1.10000000e+01,   6.00000000e+00,   1.70000000e+01,\n",
        "         5.70000000e+01,   4.00000000e+01,   4.40000000e+01,\n",
        "         5.40000000e+01,   5.80000000e+01,   6.90000000e+01,\n",
        "         4.60000000e+01,   4.80000000e+01,   8.70000000e+01,\n",
        "         7.90000000e+01,   5.90000000e+01,   9.20000000e+01,\n",
        "         8.30000000e+01,   6.40000000e+01,   7.80000000e+01,\n",
        "         8.60000000e+01,   6.90000000e+01,   9.20000000e+01,\n",
        "         1.06000000e+02,   1.58000000e+02,   1.29000000e+02,\n",
        "         1.05000000e+02,   1.37000000e+02,   1.28000000e+02,\n",
        "         1.46000000e+02,   1.53000000e+02,   1.68000000e+02,\n",
        "         1.75000000e+02,   1.71000000e+02,   1.49000000e+02,\n",
        "         1.48000000e+02,   1.66000000e+02,   2.63000000e+02,\n",
        "         2.96000000e+02,   4.02000000e+02,   3.54000000e+02,\n",
        "         2.34000000e+02,   3.23000000e+02,   4.05000000e+02,\n",
        "         4.11000000e+02,   3.90000000e+02,   5.26000000e+02,\n",
        "         5.48000000e+02,   4.47000000e+02,   3.68000000e+02,\n",
        "         5.62000000e+02,   5.03000000e+02,   5.60000000e+02,\n",
        "         8.58000000e+02,   1.01600000e+03,   1.03600000e+03,\n",
        "         9.34000000e+02,   8.91000000e+02,   9.02000000e+02,\n",
        "         8.94000000e+02,   9.61000000e+02,   1.17800000e+03,\n",
        "         8.82000000e+02,   9.21000000e+02,   8.30000000e+02,\n",
        "         6.67000000e+02,   6.06000000e+02,   5.95000000e+02,\n",
        "         6.90000000e+02,   6.13000000e+02,   5.12000000e+02,\n",
        "         4.91000000e+02,   4.18000000e+02,   4.92000000e+02,\n",
        "         4.53000000e+02,   5.90000000e+02,   4.71000000e+02,\n",
        "         5.73000000e+02,   4.01000000e+02,   3.89000000e+02,\n",
        "         3.48000000e+02,   4.50000000e+02,   4.22000000e+02,\n",
        "         5.22000000e+02,   4.18000000e+02,   5.11000000e+02,\n",
        "         4.34000000e+02,   4.97000000e+02,   4.85000000e+02,\n",
        "         4.95000000e+02,   7.03000000e+02,   6.47000000e+02,\n",
        "         4.93000000e+02,   4.71000000e+02,   5.21000000e+02,\n",
        "         5.13000000e+02,   5.27000000e+02,   1.46700000e+03,\n",
        "         1.15700000e+03]),\n",
        " array([  9.31132800e+08,   9.35443296e+08,   9.39753792e+08,\n",
        "         9.44064288e+08,   9.48374784e+08,   9.52685280e+08,\n",
        "         9.56995776e+08,   9.61306272e+08,   9.65616768e+08,\n",
        "         9.69927264e+08,   9.74237760e+08,   9.78548256e+08,\n",
        "         9.82858752e+08,   9.87169248e+08,   9.91479744e+08,\n",
        "         9.95790240e+08,   1.00010074e+09,   1.00441123e+09,\n",
        "         1.00872173e+09,   1.01303222e+09,   1.01734272e+09,\n",
        "         1.02165322e+09,   1.02596371e+09,   1.03027421e+09,\n",
        "         1.03458470e+09,   1.03889520e+09,   1.04320570e+09,\n",
        "         1.04751619e+09,   1.05182669e+09,   1.05613718e+09,\n",
        "         1.06044768e+09,   1.06475818e+09,   1.06906867e+09,\n",
        "         1.07337917e+09,   1.07768966e+09,   1.08200016e+09,\n",
        "         1.08631066e+09,   1.09062115e+09,   1.09493165e+09,\n",
        "         1.09924214e+09,   1.10355264e+09,   1.10786314e+09,\n",
        "         1.11217363e+09,   1.11648413e+09,   1.12079462e+09,\n",
        "         1.12510512e+09,   1.12941562e+09,   1.13372611e+09,\n",
        "         1.13803661e+09,   1.14234710e+09,   1.14665760e+09,\n",
        "         1.15096810e+09,   1.15527859e+09,   1.15958909e+09,\n",
        "         1.16389958e+09,   1.16821008e+09,   1.17252058e+09,\n",
        "         1.17683107e+09,   1.18114157e+09,   1.18545206e+09,\n",
        "         1.18976256e+09,   1.19407306e+09,   1.19838355e+09,\n",
        "         1.20269405e+09,   1.20700454e+09,   1.21131504e+09,\n",
        "         1.21562554e+09,   1.21993603e+09,   1.22424653e+09,\n",
        "         1.22855702e+09,   1.23286752e+09,   1.23717802e+09,\n",
        "         1.24148851e+09,   1.24579901e+09,   1.25010950e+09,\n",
        "         1.25442000e+09,   1.25873050e+09,   1.26304099e+09,\n",
        "         1.26735149e+09,   1.27166198e+09,   1.27597248e+09,\n",
        "         1.28028298e+09,   1.28459347e+09,   1.28890397e+09,\n",
        "         1.29321446e+09,   1.29752496e+09,   1.30183546e+09,\n",
        "         1.30614595e+09,   1.31045645e+09,   1.31476694e+09,\n",
        "         1.31907744e+09,   1.32338794e+09,   1.32769843e+09,\n",
        "         1.33200893e+09,   1.33631942e+09,   1.34062992e+09,\n",
        "         1.34494042e+09,   1.34925091e+09,   1.35356141e+09,\n",
        "         1.35787190e+09,   1.36218240e+09]),\n",
        " <a list of 100 Patch objects>)"
       ]
      },
      {
       "metadata": {},
       "output_type": "display_data",
       "png": "[encoded data removed]",
       "text": [
        "<matplotlib.figure.Figure at 0xae23b3ec>"
       ]
      }
     ],
     "prompt_number": 10
    },
    {
     "cell_type": "code",
     "collapsed": false,
     "input": [],
     "language": "python",
     "metadata": {},
     "outputs": []
    }
   ],
   "metadata": {}
  }
 ]
}