{
 "metadata": {
  "name": ""
 },
 "nbformat": 3,
 "nbformat_minor": 0,
 "worksheets": [
  {
   "cells": [
    {
     "cell_type": "code",
     "collapsed": false,
     "input": [
      "import numpy as np\n",
      "import pandas as pd\n",
      "import matplotlib.pyplot as plt\n",
      "%matplotlib inline"
     ],
     "language": "python",
     "metadata": {},
     "outputs": [],
     "prompt_number": 1
    },
    {
     "cell_type": "code",
     "collapsed": false,
     "input": [
      "raw_electronics = pd.DataFrame.from_csv(\"Data/RAW_Electronics_Review_Data.csv\")\n",
      "print \"electronics:\", raw_electronics.keys()"
     ],
     "language": "python",
     "metadata": {},
     "outputs": [
      {
       "output_type": "stream",
       "stream": "stdout",
       "text": [
        "electronics: Index([u'Product_ID', u'Product_Title', u'Product_Price', u'Review_UserID', u'Review_ProfileName', u'Review_Helpfulness_Score', u'Review_Helpfulness_Total', u'Review_Score', u'Review_Timestamp'], dtype='object')\n"
       ]
      }
     ],
     "prompt_number": 3
    },
    {
     "cell_type": "code",
     "collapsed": false,
     "input": [
      "filt = raw_electronics[[\"Product_ID\", \"Review_UserID\", \"Review_Helpfulness_Score\", \"Review_Score\", \"Review_Timestamp\"]]\n",
      "filt.head(5)"
     ],
     "language": "python",
     "metadata": {},
     "outputs": [
      {
       "html": [
        "<div style=\"max-height:1000px;max-width:1500px;overflow:auto;\">\n",
        "<table border=\"1\" class=\"dataframe\">\n",
        "  <thead>\n",
        "    <tr style=\"text-align: right;\">\n",
        "      <th></th>\n",
        "      <th>Product_ID</th>\n",
        "      <th>Review_UserID</th>\n",
        "      <th>Review_Helpfulness_Score</th>\n",
        "      <th>Review_Score</th>\n",
        "      <th>Review_Timestamp</th>\n",
        "    </tr>\n",
        "    <tr>\n",
        "      <th>Key_ID</th>\n",
        "      <th></th>\n",
        "      <th></th>\n",
        "      <th></th>\n",
        "      <th></th>\n",
        "      <th></th>\n",
        "    </tr>\n",
        "  </thead>\n",
        "  <tbody>\n",
        "    <tr>\n",
        "      <th>1</th>\n",
        "      <td> B0000630MQ</td>\n",
        "      <td> A2F6FARSB1VL6Q</td>\n",
        "      <td> 2</td>\n",
        "      <td> 5</td>\n",
        "      <td> 1072915200</td>\n",
        "    </tr>\n",
        "    <tr>\n",
        "      <th>2</th>\n",
        "      <td> B0000630MQ</td>\n",
        "      <td>        unknown</td>\n",
        "      <td> 2</td>\n",
        "      <td> 5</td>\n",
        "      <td> 1058745600</td>\n",
        "    </tr>\n",
        "    <tr>\n",
        "      <th>3</th>\n",
        "      <td> B0000630MQ</td>\n",
        "      <td> A3P56Q3XEGTBNY</td>\n",
        "      <td> 1</td>\n",
        "      <td> 2</td>\n",
        "      <td> 1127088000</td>\n",
        "    </tr>\n",
        "    <tr>\n",
        "      <th>4</th>\n",
        "      <td> B0000630MQ</td>\n",
        "      <td>        unknown</td>\n",
        "      <td> 3</td>\n",
        "      <td> 5</td>\n",
        "      <td> 1068768000</td>\n",
        "    </tr>\n",
        "    <tr>\n",
        "      <th>5</th>\n",
        "      <td> B0000630MQ</td>\n",
        "      <td>  AZIM9ZTGB8Q12</td>\n",
        "      <td> 0</td>\n",
        "      <td> 5</td>\n",
        "      <td> 1274313600</td>\n",
        "    </tr>\n",
        "  </tbody>\n",
        "</table>\n",
        "<p>5 rows \u00d7 5 columns</p>\n",
        "</div>"
       ],
       "metadata": {},
       "output_type": "pyout",
       "prompt_number": 6,
       "text": [
        "        Product_ID   Review_UserID  Review_Helpfulness_Score  Review_Score  \\\n",
        "Key_ID                                                                       \n",
        "1       B0000630MQ  A2F6FARSB1VL6Q                         2             5   \n",
        "2       B0000630MQ         unknown                         2             5   \n",
        "3       B0000630MQ  A3P56Q3XEGTBNY                         1             2   \n",
        "4       B0000630MQ         unknown                         3             5   \n",
        "5       B0000630MQ   AZIM9ZTGB8Q12                         0             5   \n",
        "\n",
        "        Review_Timestamp  \n",
        "Key_ID                    \n",
        "1             1072915200  \n",
        "2             1058745600  \n",
        "3             1127088000  \n",
        "4             1068768000  \n",
        "5             1274313600  \n",
        "\n",
        "[5 rows x 5 columns]"
       ]
      }
     ],
     "prompt_number": 6
    },
    {
     "cell_type": "code",
     "collapsed": false,
     "input": [],
     "language": "python",
     "metadata": {},
     "outputs": []
    }
   ],
   "metadata": {}
  }
 ]
}