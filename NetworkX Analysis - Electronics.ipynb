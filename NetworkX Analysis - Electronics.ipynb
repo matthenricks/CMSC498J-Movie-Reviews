{
 "metadata": {
  "name": ""
 },
 "nbformat": 3,
 "nbformat_minor": 0,
 "worksheets": [
  {
   "cells": [
    {
     "cell_type": "code",
     "collapsed": false,
     "input": [
      "import numpy as np\n",
      "import pandas as pd\n",
      "import matplotlib.pyplot as plt\n",
      "import networkx as nx\n",
      "from networkx.algorithms import bipartite\n",
      "%matplotlib inline"
     ],
     "language": "python",
     "metadata": {},
     "outputs": [
      {
       "output_type": "stream",
       "stream": "stdout",
       "text": [
        "Couldn't import dot_parser, loading of dot files will not be possible.\n"
       ]
      }
     ],
     "prompt_number": 1
    },
    {
     "cell_type": "code",
     "collapsed": false,
     "input": [
      "raw_electronics = pd.DataFrame.from_csv(\"Data/RAW_Electronics_Review_Data.csv\")\n",
      "print \"electronics:\", raw_electronics.keys()"
     ],
     "language": "python",
     "metadata": {},
     "outputs": [
      {
       "output_type": "stream",
       "stream": "stdout",
       "text": [
        "electronics: Index([u'Product_ID', u'Product_Title', u'Product_Price', u'Review_UserID', u'Review_ProfileName', u'Review_Helpfulness_Score', u'Review_Helpfulness_Total', u'Review_Score', u'Review_Timestamp'], dtype='object')\n"
       ]
      }
     ],
     "prompt_number": 2
    },
    {
     "cell_type": "code",
     "collapsed": false,
     "input": [
      "raw_electronics = raw_electronics[[\"Product_ID\", \"Review_UserID\", \"Review_Timestamp\"]]\n",
      "raw_electronics = raw_electronics[raw_electronics[\"Review_UserID\"] != \"unknown\"]"
     ],
     "language": "python",
     "metadata": {},
     "outputs": [],
     "prompt_number": 3
    },
    {
     "cell_type": "code",
     "collapsed": false,
     "input": [
      "# Remove all products without 50 reviews\n",
      "# Remove all users without 10 reviews\n",
      "good_products = raw_electronics.groupby(\"Product_ID\")\n",
      "good_users = raw_electronics.groupby(\"Review_UserID\")\n",
      "good_products = good_products.count()[\"Product_ID\"]\n",
      "good_users = good_users.count()[\"Review_UserID\"]"
     ],
     "language": "python",
     "metadata": {},
     "outputs": [
      {
       "output_type": "stream",
       "stream": "stdout",
       "text": [
        "Product_ID\n",
        "0072513780     2\n",
        "015600206X    18\n",
        "0226534650     2\n",
        "0306474298     1\n",
        "0312282982    36\n",
        "Name: Product_ID, dtype: int64\n",
        "Review_UserID\n",
        "A00037441I8XOQJSUWCAG    1\n",
        "A0004478EF5NFPHLGCWG     1\n",
        "A00259703ZH4D3R0DO09     2\n",
        "A00267003MU1A1IDE5IV4    1\n",
        "A00279861HQYOQ4LIJ55F    2\n",
        "Name: Review_UserID, dtype: int64\n"
       ]
      }
     ],
     "prompt_number": 8
    },
    {
     "cell_type": "code",
     "collapsed": false,
     "input": [
      "combined = raw_electronics.join(good_products, on=\"Product_ID\", how=\"left\")\n",
      "combined.head(5)"
     ],
     "language": "python",
     "metadata": {},
     "outputs": [
      {
       "ename": "ValueError",
       "evalue": "columns overlap but no suffix specified: Index([u'Product_ID'], dtype='object')",
       "output_type": "pyerr",
       "traceback": [
        "\u001b[0;31m---------------------------------------------------------------------------\u001b[0m\n\u001b[0;31mValueError\u001b[0m                                Traceback (most recent call last)",
        "\u001b[0;32m<ipython-input-11-05eaa65a2311>\u001b[0m in \u001b[0;36m<module>\u001b[0;34m()\u001b[0m\n\u001b[0;32m----> 1\u001b[0;31m \u001b[0mcombined\u001b[0m \u001b[0;34m=\u001b[0m \u001b[0mraw_electronics\u001b[0m\u001b[0;34m.\u001b[0m\u001b[0mjoin\u001b[0m\u001b[0;34m(\u001b[0m\u001b[0mgood_products\u001b[0m\u001b[0;34m,\u001b[0m \u001b[0mon\u001b[0m\u001b[0;34m=\u001b[0m\u001b[0;34m\"Product_ID\"\u001b[0m\u001b[0;34m,\u001b[0m \u001b[0mhow\u001b[0m\u001b[0;34m=\u001b[0m\u001b[0;34m\"left\"\u001b[0m\u001b[0;34m)\u001b[0m\u001b[0;34m\u001b[0m\u001b[0m\n\u001b[0m\u001b[1;32m      2\u001b[0m \u001b[0mcombined\u001b[0m\u001b[0;34m.\u001b[0m\u001b[0mhead\u001b[0m\u001b[0;34m(\u001b[0m\u001b[0;36m5\u001b[0m\u001b[0;34m)\u001b[0m\u001b[0;34m\u001b[0m\u001b[0m\n",
        "\u001b[0;32m/usr/lib/python2.7/dist-packages/pandas/core/frame.pyc\u001b[0m in \u001b[0;36mjoin\u001b[0;34m(self, other, on, how, lsuffix, rsuffix, sort)\u001b[0m\n\u001b[1;32m   3578\u001b[0m         \u001b[0;31m# For SparseDataFrame's benefit\u001b[0m\u001b[0;34m\u001b[0m\u001b[0;34m\u001b[0m\u001b[0m\n\u001b[1;32m   3579\u001b[0m         return self._join_compat(other, on=on, how=how, lsuffix=lsuffix,\n\u001b[0;32m-> 3580\u001b[0;31m                                  rsuffix=rsuffix, sort=sort)\n\u001b[0m\u001b[1;32m   3581\u001b[0m \u001b[0;34m\u001b[0m\u001b[0m\n\u001b[1;32m   3582\u001b[0m     def _join_compat(self, other, on=None, how='left', lsuffix='', rsuffix='',\n",
        "\u001b[0;32m/usr/lib/python2.7/dist-packages/pandas/core/frame.pyc\u001b[0m in \u001b[0;36m_join_compat\u001b[0;34m(self, other, on, how, lsuffix, rsuffix, sort)\u001b[0m\n\u001b[1;32m   3592\u001b[0m             return merge(self, other, left_on=on, how=how,\n\u001b[1;32m   3593\u001b[0m                          \u001b[0mleft_index\u001b[0m\u001b[0;34m=\u001b[0m\u001b[0mon\u001b[0m \u001b[0;32mis\u001b[0m \u001b[0mNone\u001b[0m\u001b[0;34m,\u001b[0m \u001b[0mright_index\u001b[0m\u001b[0;34m=\u001b[0m\u001b[0mTrue\u001b[0m\u001b[0;34m,\u001b[0m\u001b[0;34m\u001b[0m\u001b[0m\n\u001b[0;32m-> 3594\u001b[0;31m                          suffixes=(lsuffix, rsuffix), sort=sort)\n\u001b[0m\u001b[1;32m   3595\u001b[0m         \u001b[0;32melse\u001b[0m\u001b[0;34m:\u001b[0m\u001b[0;34m\u001b[0m\u001b[0m\n\u001b[1;32m   3596\u001b[0m             \u001b[0;32mif\u001b[0m \u001b[0mon\u001b[0m \u001b[0;32mis\u001b[0m \u001b[0;32mnot\u001b[0m \u001b[0mNone\u001b[0m\u001b[0;34m:\u001b[0m\u001b[0;34m\u001b[0m\u001b[0m\n",
        "\u001b[0;32m/usr/lib/python2.7/dist-packages/pandas/tools/merge.pyc\u001b[0m in \u001b[0;36mmerge\u001b[0;34m(left, right, how, on, left_on, right_on, left_index, right_index, sort, suffixes, copy)\u001b[0m\n\u001b[1;32m     38\u001b[0m                          \u001b[0mright_index\u001b[0m\u001b[0;34m=\u001b[0m\u001b[0mright_index\u001b[0m\u001b[0;34m,\u001b[0m \u001b[0msort\u001b[0m\u001b[0;34m=\u001b[0m\u001b[0msort\u001b[0m\u001b[0;34m,\u001b[0m \u001b[0msuffixes\u001b[0m\u001b[0;34m=\u001b[0m\u001b[0msuffixes\u001b[0m\u001b[0;34m,\u001b[0m\u001b[0;34m\u001b[0m\u001b[0m\n\u001b[1;32m     39\u001b[0m                          copy=copy)\n\u001b[0;32m---> 40\u001b[0;31m     \u001b[0;32mreturn\u001b[0m \u001b[0mop\u001b[0m\u001b[0;34m.\u001b[0m\u001b[0mget_result\u001b[0m\u001b[0;34m(\u001b[0m\u001b[0;34m)\u001b[0m\u001b[0;34m\u001b[0m\u001b[0m\n\u001b[0m\u001b[1;32m     41\u001b[0m \u001b[0;32mif\u001b[0m \u001b[0m__debug__\u001b[0m\u001b[0;34m:\u001b[0m\u001b[0;34m\u001b[0m\u001b[0m\n\u001b[1;32m     42\u001b[0m     \u001b[0mmerge\u001b[0m\u001b[0;34m.\u001b[0m\u001b[0m__doc__\u001b[0m \u001b[0;34m=\u001b[0m \u001b[0m_merge_doc\u001b[0m \u001b[0;34m%\u001b[0m \u001b[0;34m'\\nleft : DataFrame'\u001b[0m\u001b[0;34m\u001b[0m\u001b[0m\n",
        "\u001b[0;32m/usr/lib/python2.7/dist-packages/pandas/tools/merge.pyc\u001b[0m in \u001b[0;36mget_result\u001b[0;34m(self)\u001b[0m\n\u001b[1;32m    187\u001b[0m \u001b[0;34m\u001b[0m\u001b[0m\n\u001b[1;32m    188\u001b[0m         \u001b[0;31m# this is a bit kludgy\u001b[0m\u001b[0;34m\u001b[0m\u001b[0;34m\u001b[0m\u001b[0m\n\u001b[0;32m--> 189\u001b[0;31m         \u001b[0mldata\u001b[0m\u001b[0;34m,\u001b[0m \u001b[0mrdata\u001b[0m \u001b[0;34m=\u001b[0m \u001b[0mself\u001b[0m\u001b[0;34m.\u001b[0m\u001b[0m_get_merge_data\u001b[0m\u001b[0;34m(\u001b[0m\u001b[0;34m)\u001b[0m\u001b[0;34m\u001b[0m\u001b[0m\n\u001b[0m\u001b[1;32m    190\u001b[0m \u001b[0;34m\u001b[0m\u001b[0m\n\u001b[1;32m    191\u001b[0m         \u001b[0;31m# TODO: more efficiently handle group keys to avoid extra\u001b[0m\u001b[0;34m\u001b[0m\u001b[0;34m\u001b[0m\u001b[0m\n",
        "\u001b[0;32m/usr/lib/python2.7/dist-packages/pandas/tools/merge.pyc\u001b[0m in \u001b[0;36m_get_merge_data\u001b[0;34m(self)\u001b[0m\n\u001b[1;32m    282\u001b[0m         \u001b[0mlsuf\u001b[0m\u001b[0;34m,\u001b[0m \u001b[0mrsuf\u001b[0m \u001b[0;34m=\u001b[0m \u001b[0mself\u001b[0m\u001b[0;34m.\u001b[0m\u001b[0msuffixes\u001b[0m\u001b[0;34m\u001b[0m\u001b[0m\n\u001b[1;32m    283\u001b[0m         ldata, rdata = ldata._maybe_rename_join(rdata, lsuf, rsuf,\n\u001b[0;32m--> 284\u001b[0;31m                                                 copydata=False)\n\u001b[0m\u001b[1;32m    285\u001b[0m         \u001b[0;32mreturn\u001b[0m \u001b[0mldata\u001b[0m\u001b[0;34m,\u001b[0m \u001b[0mrdata\u001b[0m\u001b[0;34m\u001b[0m\u001b[0m\n\u001b[1;32m    286\u001b[0m \u001b[0;34m\u001b[0m\u001b[0m\n",
        "\u001b[0;32m/usr/lib/python2.7/dist-packages/pandas/core/internals.pyc\u001b[0m in \u001b[0;36m_maybe_rename_join\u001b[0;34m(self, other, lsuffix, rsuffix, copydata)\u001b[0m\n\u001b[1;32m   3442\u001b[0m             \u001b[0;32mif\u001b[0m \u001b[0;32mnot\u001b[0m \u001b[0mlsuffix\u001b[0m \u001b[0;32mand\u001b[0m \u001b[0;32mnot\u001b[0m \u001b[0mrsuffix\u001b[0m\u001b[0;34m:\u001b[0m\u001b[0;34m\u001b[0m\u001b[0m\n\u001b[1;32m   3443\u001b[0m                 raise ValueError('columns overlap but no suffix specified: %s'\n\u001b[0;32m-> 3444\u001b[0;31m                                  % to_rename)\n\u001b[0m\u001b[1;32m   3445\u001b[0m \u001b[0;34m\u001b[0m\u001b[0m\n\u001b[1;32m   3446\u001b[0m             \u001b[0;32mdef\u001b[0m \u001b[0mlrenamer\u001b[0m\u001b[0;34m(\u001b[0m\u001b[0mx\u001b[0m\u001b[0;34m)\u001b[0m\u001b[0;34m:\u001b[0m\u001b[0;34m\u001b[0m\u001b[0m\n",
        "\u001b[0;31mValueError\u001b[0m: columns overlap but no suffix specified: Index([u'Product_ID'], dtype='object')"
       ]
      }
     ],
     "prompt_number": 11
    },
    {
     "cell_type": "code",
     "collapsed": false,
     "input": [
      "# Chop the graph up into time slices!\n",
      "# Lets do the first example between time slices :)\n",
      "\n",
      "## UNDONE\n",
      "# The second example could be overall, up to a specific time.\n",
      "# Bin the data frame by \"a\" with 50 bins...\n",
      "time_segments = pd.cut(raw_electronics[\"Review_Timestamp\"], 150)\n",
      "grouped_electronic = raw_electronics.groupby(time_segments)"
     ],
     "language": "python",
     "metadata": {},
     "outputs": [],
     "prompt_number": 10
    },
    {
     "cell_type": "code",
     "collapsed": false,
     "input": [
      "len(grouped_electronic.indices.keys())"
     ],
     "language": "python",
     "metadata": {},
     "outputs": [
      {
       "metadata": {},
       "output_type": "pyout",
       "prompt_number": 11,
       "text": [
        "56"
       ]
      }
     ],
     "prompt_number": 11
    },
    {
     "cell_type": "code",
     "collapsed": false,
     "input": [
      "import re\n",
      "def compare_bins(x, y):\n",
      "    x_num = re.match('^\\((-*\\d+)', x).groups()[0]\n",
      "    y_num = re.match('^\\((-*\\d+)', y).groups()[0]\n",
      "    return int(x_num) - int(y_num)"
     ],
     "language": "python",
     "metadata": {},
     "outputs": [],
     "prompt_number": 12
    },
    {
     "cell_type": "code",
     "collapsed": false,
     "input": [
      "group_keys = grouped_electronic.groups.keys()\n",
      "group_keys.sort(compare_bins)\n",
      "print group_keys"
     ],
     "language": "python",
     "metadata": {},
     "outputs": [
      {
       "output_type": "stream",
       "stream": "stdout",
       "text": [
        "['(-1362269.801, 9081791.00667]', '(844606655.62, 853688447.627]', '(871852031.64, 880933823.647]', '(880933823.647, 890015615.653]', '(890015615.653, 899097407.66]', '(899097407.66, 908179199.667]', '(908179199.667, 917260991.673]', '(917260991.673, 926342783.68]', '(926342783.68, 935424575.687]', '(935424575.687, 944506367.693]', '(944506367.693, 953588159.7]', '(953588159.7, 962669951.707]', '(962669951.707, 971751743.713]', '(971751743.713, 980833535.72]', '(980833535.72, 989915327.727]', '(989915327.727, 998997119.733]', '(998997119.733, 1008078911.74]', '(1008078911.74, 1017160703.747]', '(1017160703.747, 1026242495.753]', '(1026242495.753, 1035324287.76]', '(1035324287.76, 1044406079.767]', '(1044406079.767, 1053487871.773]', '(1053487871.773, 1062569663.78]', '(1062569663.78, 1071651455.787]', '(1071651455.787, 1080733247.793]', '(1080733247.793, 1089815039.8]', '(1089815039.8, 1098896831.807]', '(1098896831.807, 1107978623.813]', '(1107978623.813, 1117060415.82]', '(1117060415.82, 1126142207.827]', '(1126142207.827, 1135223999.833]', '(1135223999.833, 1144305791.84]', '(1144305791.84, 1153387583.847]', '(1153387583.847, 1162469375.853]', '(1162469375.853, 1171551167.86]', '(1171551167.86, 1180632959.867]', '(1180632959.867, 1189714751.873]', '(1189714751.873, 1198796543.88]', '(1198796543.88, 1207878335.887]', '(1207878335.887, 1216960127.893]', '(1216960127.893, 1226041919.9]', '(1226041919.9, 1235123711.907]', '(1235123711.907, 1244205503.913]', '(1244205503.913, 1253287295.92]', '(1253287295.92, 1262369087.927]', '(1262369087.927, 1271450879.933]', '(1271450879.933, 1280532671.94]', '(1280532671.94, 1289614463.947]', '(1289614463.947, 1298696255.953]', '(1298696255.953, 1307778047.96]', '(1307778047.96, 1316859839.967]', '(1316859839.967, 1325941631.973]', '(1325941631.973, 1335023423.98]', '(1335023423.98, 1344105215.987]', '(1344105215.987, 1353187007.993]', '(1353187007.993, 1362268800]']\n"
       ]
      }
     ],
     "prompt_number": 16
    },
    {
     "cell_type": "code",
     "collapsed": false,
     "input": [
      "c_coef = []"
     ],
     "language": "python",
     "metadata": {},
     "outputs": [],
     "prompt_number": 17
    },
    {
     "cell_type": "code",
     "collapsed": false,
     "input": [
      "e_bipart = nx.Graph()\n",
      "for key in group_keys:\n",
      "    group = grouped_electronic.get_group(key)\n",
      "    for ix, row in group.iterrows():\n",
      "    #    print row[\"Product_ID\"], row[\"Review_UserID\"]\n",
      "        e_bipart.add_edge(row[\"Product_ID\"], row[\"Review_UserID\"])\n",
      "    c_coef.append(bipartite.average_clustering(e_bipart))"
     ],
     "language": "python",
     "metadata": {},
     "outputs": [],
     "prompt_number": 15
    },
    {
     "cell_type": "code",
     "collapsed": false,
     "input": [
      "e_bipart.number_of_edges()"
     ],
     "language": "python",
     "metadata": {},
     "outputs": [
      {
       "metadata": {},
       "output_type": "pyout",
       "prompt_number": 21,
       "text": [
        "1183622"
       ]
      }
     ],
     "prompt_number": 21
    },
    {
     "cell_type": "code",
     "collapsed": false,
     "input": [
      "print c_coef\n",
      "plt.plot(c_coef)"
     ],
     "language": "python",
     "metadata": {},
     "outputs": [
      {
       "output_type": "stream",
       "stream": "stdout",
       "text": [
        "[]\n"
       ]
      },
      {
       "metadata": {},
       "output_type": "pyout",
       "prompt_number": 19,
       "text": [
        "[<matplotlib.lines.Line2D at 0xa5aff24c>]"
       ]
      },
      {
       "metadata": {},
       "output_type": "display_data",
       "png": "[encoded data removed]",
       "text": [
        "<matplotlib.figure.Figure at 0x860da92c>"
       ]
      }
     ],
     "prompt_number": 19
    },
    {
     "cell_type": "code",
     "collapsed": false,
     "input": [
      "# THE ABOVE DOESN'T REALLY WORK, DOES IT?"
     ],
     "language": "python",
     "metadata": {},
     "outputs": []
    },
    {
     "cell_type": "code",
     "collapsed": false,
     "input": [
      "raw_cut = raw_electronics[[\"Product_ID\", \"Review_UserID\"]]\n",
      "raw_cut = raw_cut[raw_cut[\"Review_UserID\"] != \"unknown\"]\n",
      "group_review = raw_cut.groupby(\"Review_UserID\").count()[\"Review_UserID\"]\n",
      "group_review.head(1)"
     ],
     "language": "python",
     "metadata": {},
     "outputs": []
    }
   ],
   "metadata": {}
  }
 ]
}