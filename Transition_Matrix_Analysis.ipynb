{
 "metadata": {
  "name": ""
 },
 "nbformat": 3,
 "nbformat_minor": 0,
 "worksheets": [
  {
   "cells": [
    {
     "cell_type": "code",
     "collapsed": false,
     "input": [
      "import numpy as np\n",
      "import pandas as pd\n",
      "import matplotlib.pyplot as plt\n",
      "%matplotlib inline"
     ],
     "language": "python",
     "metadata": {},
     "outputs": [],
     "prompt_number": 4
    },
    {
     "cell_type": "heading",
     "level": 1,
     "metadata": {},
     "source": [
      "Data Cleansing"
     ]
    },
    {
     "cell_type": "code",
     "collapsed": false,
     "input": [
      "raw_electronics = pd.DataFrame.from_csv(\"Data/RAW_Electronics_Review_Data.csv\")\n",
      "print \"electronics:\", raw_electronics.keys()"
     ],
     "language": "python",
     "metadata": {},
     "outputs": [
      {
       "output_type": "stream",
       "stream": "stdout",
       "text": [
        "electronics: Index([u'Product_ID', u'Product_Title', u'Product_Price', u'Review_UserID', u'Review_ProfileName', u'Review_Helpfulness_Score', u'Review_Helpfulness_Total', u'Review_Score', u'Review_Timestamp'], dtype='object')\n"
       ]
      }
     ],
     "prompt_number": 30
    },
    {
     "cell_type": "code",
     "collapsed": false,
     "input": [
      "# Remove all unknown users\n",
      "raw_electronics = raw_electronics[raw_electronics[\"Review_UserID\"] != \"unknown\"]\n",
      "raw_electronics[raw_electronics[\"Review_UserID\"] == \"unknown\"]"
     ],
     "language": "python",
     "metadata": {},
     "outputs": [
      {
       "html": [
        "<div style=\"max-height:1000px;max-width:1500px;overflow:auto;\">\n",
        "<table border=\"1\" class=\"dataframe\">\n",
        "  <tbody>\n",
        "    <tr>\n",
        "      <td>Int64Index([], dtype='int64')</td>\n",
        "      <td>Empty DataFrame</td>\n",
        "    </tr>\n",
        "  </tbody>\n",
        "</table>\n",
        "<p>0 rows \u00d7 9 columns</p>\n",
        "</div>"
       ],
       "metadata": {},
       "output_type": "pyout",
       "prompt_number": 31,
       "text": [
        "Empty DataFrame\n",
        "Columns: [Product_ID, Product_Title, Product_Price, Review_UserID, Review_ProfileName, Review_Helpfulness_Score, Review_Helpfulness_Total, Review_Score, Review_Timestamp]\n",
        "Index: []\n",
        "\n",
        "[0 rows x 9 columns]"
       ]
      }
     ],
     "prompt_number": 31
    },
    {
     "cell_type": "code",
     "collapsed": false,
     "input": [
      "# Attempt to remove all bots (users with more than 3 reviews on the same productRe"
     ],
     "language": "python",
     "metadata": {},
     "outputs": []
    },
    {
     "cell_type": "code",
     "collapsed": false,
     "input": [
      "bot_group = raw_electronics.groupby([\"Product_ID\", \"Review_UserID\"])#, \"Review_Timestamp\"])\n",
      "bots = bot_group.count()\n",
      "bots.head(5)"
     ],
     "language": "python",
     "metadata": {},
     "outputs": [
      {
       "html": [
        "<div style=\"max-height:1000px;max-width:1500px;overflow:auto;\">\n",
        "<table border=\"1\" class=\"dataframe\">\n",
        "  <thead>\n",
        "    <tr style=\"text-align: right;\">\n",
        "      <th></th>\n",
        "      <th></th>\n",
        "      <th>Product_ID</th>\n",
        "      <th>Product_Title</th>\n",
        "      <th>Product_Price</th>\n",
        "      <th>Review_UserID</th>\n",
        "      <th>Review_ProfileName</th>\n",
        "      <th>Review_Helpfulness_Score</th>\n",
        "      <th>Review_Helpfulness_Total</th>\n",
        "      <th>Review_Score</th>\n",
        "      <th>Review_Timestamp</th>\n",
        "    </tr>\n",
        "    <tr>\n",
        "      <th>Product_ID</th>\n",
        "      <th>Review_UserID</th>\n",
        "      <th></th>\n",
        "      <th></th>\n",
        "      <th></th>\n",
        "      <th></th>\n",
        "      <th></th>\n",
        "      <th></th>\n",
        "      <th></th>\n",
        "      <th></th>\n",
        "      <th></th>\n",
        "    </tr>\n",
        "  </thead>\n",
        "  <tbody>\n",
        "    <tr>\n",
        "      <th rowspan=\"2\" valign=\"top\">0072513780</th>\n",
        "      <th>A23XA4Q6UMA166</th>\n",
        "      <td> 1</td>\n",
        "      <td> 1</td>\n",
        "      <td> 1</td>\n",
        "      <td> 1</td>\n",
        "      <td> 1</td>\n",
        "      <td> 1</td>\n",
        "      <td> 1</td>\n",
        "      <td> 1</td>\n",
        "      <td> 1</td>\n",
        "    </tr>\n",
        "    <tr>\n",
        "      <th>A3KHDNUGAR6S5K</th>\n",
        "      <td> 1</td>\n",
        "      <td> 1</td>\n",
        "      <td> 1</td>\n",
        "      <td> 1</td>\n",
        "      <td> 1</td>\n",
        "      <td> 1</td>\n",
        "      <td> 1</td>\n",
        "      <td> 1</td>\n",
        "      <td> 1</td>\n",
        "    </tr>\n",
        "    <tr>\n",
        "      <th rowspan=\"3\" valign=\"top\">015600206X</th>\n",
        "      <th>A12X2J7AVZ04IQ</th>\n",
        "      <td> 1</td>\n",
        "      <td> 1</td>\n",
        "      <td> 1</td>\n",
        "      <td> 1</td>\n",
        "      <td> 1</td>\n",
        "      <td> 1</td>\n",
        "      <td> 1</td>\n",
        "      <td> 1</td>\n",
        "      <td> 1</td>\n",
        "    </tr>\n",
        "    <tr>\n",
        "      <th>A139ZF7CJVVTJU</th>\n",
        "      <td> 1</td>\n",
        "      <td> 1</td>\n",
        "      <td> 1</td>\n",
        "      <td> 1</td>\n",
        "      <td> 1</td>\n",
        "      <td> 1</td>\n",
        "      <td> 1</td>\n",
        "      <td> 1</td>\n",
        "      <td> 1</td>\n",
        "    </tr>\n",
        "    <tr>\n",
        "      <th>A13RNV0F30OVP</th>\n",
        "      <td> 1</td>\n",
        "      <td> 1</td>\n",
        "      <td> 1</td>\n",
        "      <td> 1</td>\n",
        "      <td> 1</td>\n",
        "      <td> 1</td>\n",
        "      <td> 1</td>\n",
        "      <td> 1</td>\n",
        "      <td> 1</td>\n",
        "    </tr>\n",
        "  </tbody>\n",
        "</table>\n",
        "<p>5 rows \u00d7 9 columns</p>\n",
        "</div>"
       ],
       "metadata": {},
       "output_type": "pyout",
       "prompt_number": 101,
       "text": [
        "                           Product_ID  Product_Title  Product_Price  \\\n",
        "Product_ID Review_UserID                                              \n",
        "0072513780 A23XA4Q6UMA166           1              1              1   \n",
        "           A3KHDNUGAR6S5K           1              1              1   \n",
        "015600206X A12X2J7AVZ04IQ           1              1              1   \n",
        "           A139ZF7CJVVTJU           1              1              1   \n",
        "           A13RNV0F30OVP            1              1              1   \n",
        "\n",
        "                           Review_UserID  Review_ProfileName  \\\n",
        "Product_ID Review_UserID                                       \n",
        "0072513780 A23XA4Q6UMA166              1                   1   \n",
        "           A3KHDNUGAR6S5K              1                   1   \n",
        "015600206X A12X2J7AVZ04IQ              1                   1   \n",
        "           A139ZF7CJVVTJU              1                   1   \n",
        "           A13RNV0F30OVP               1                   1   \n",
        "\n",
        "                           Review_Helpfulness_Score  Review_Helpfulness_Total  \\\n",
        "Product_ID Review_UserID                                                        \n",
        "0072513780 A23XA4Q6UMA166                         1                         1   \n",
        "           A3KHDNUGAR6S5K                         1                         1   \n",
        "015600206X A12X2J7AVZ04IQ                         1                         1   \n",
        "           A139ZF7CJVVTJU                         1                         1   \n",
        "           A13RNV0F30OVP                          1                         1   \n",
        "\n",
        "                           Review_Score  Review_Timestamp  \n",
        "Product_ID Review_UserID                                   \n",
        "0072513780 A23XA4Q6UMA166             1                 1  \n",
        "           A3KHDNUGAR6S5K             1                 1  \n",
        "015600206X A12X2J7AVZ04IQ             1                 1  \n",
        "           A139ZF7CJVVTJU             1                 1  \n",
        "           A13RNV0F30OVP              1                 1  \n",
        "\n",
        "[5 rows x 9 columns]"
       ]
      }
     ],
     "prompt_number": 101
    },
    {
     "cell_type": "code",
     "collapsed": false,
     "input": [
      "bots = bots[\"Review_Score\"].reset_index(level=0).reset_index(level=0).reset_index(level=0)\n",
      "bots.head(2)"
     ],
     "language": "python",
     "metadata": {},
     "outputs": [
      {
       "html": [
        "<div style=\"max-height:1000px;max-width:1500px;overflow:auto;\">\n",
        "<table border=\"1\" class=\"dataframe\">\n",
        "  <thead>\n",
        "    <tr style=\"text-align: right;\">\n",
        "      <th></th>\n",
        "      <th>index</th>\n",
        "      <th>Review_UserID</th>\n",
        "      <th>Product_ID</th>\n",
        "      <th>Review_Score</th>\n",
        "    </tr>\n",
        "  </thead>\n",
        "  <tbody>\n",
        "    <tr>\n",
        "      <th>0</th>\n",
        "      <td> 0</td>\n",
        "      <td> A23XA4Q6UMA166</td>\n",
        "      <td> 0072513780</td>\n",
        "      <td> 1</td>\n",
        "    </tr>\n",
        "    <tr>\n",
        "      <th>1</th>\n",
        "      <td> 1</td>\n",
        "      <td> A3KHDNUGAR6S5K</td>\n",
        "      <td> 0072513780</td>\n",
        "      <td> 1</td>\n",
        "    </tr>\n",
        "  </tbody>\n",
        "</table>\n",
        "<p>2 rows \u00d7 4 columns</p>\n",
        "</div>"
       ],
       "metadata": {},
       "output_type": "pyout",
       "prompt_number": 102,
       "text": [
        "   index   Review_UserID  Product_ID  Review_Score\n",
        "0      0  A23XA4Q6UMA166  0072513780             1\n",
        "1      1  A3KHDNUGAR6S5K  0072513780             1\n",
        "\n",
        "[2 rows x 4 columns]"
       ]
      }
     ],
     "prompt_number": 102
    },
    {
     "cell_type": "code",
     "collapsed": false,
     "input": [
      "print len(bots[(bots[\"Review_Score\"]==2)])\n",
      "print len(bots[bots[\"Review_Score\"]==3])\n",
      "print len(bots[bots[\"Review_Score\"]==4])"
     ],
     "language": "python",
     "metadata": {},
     "outputs": [
      {
       "output_type": "stream",
       "stream": "stdout",
       "text": [
        "4439\n",
        "310\n",
        "71\n"
       ]
      }
     ],
     "prompt_number": 103
    },
    {
     "cell_type": "code",
     "collapsed": false,
     "input": [
      "bots[bots[\"Review_Score\"]>=3].to_csv(\"Data/Bots_2_Review.csv\")"
     ],
     "language": "python",
     "metadata": {},
     "outputs": [],
     "prompt_number": 104
    },
    {
     "cell_type": "code",
     "collapsed": false,
     "input": [
      "cut_users = bots[bots[\"Review_Score\"]>=3]\n",
      "cut_users = cut_users[\"Review_UserID\"]\n",
      "print len(raw_electronics[~raw_electronics.Review_UserID.isin(cut_users)])\n",
      "print len(raw_electronics[raw_electronics.Review_UserID.isin(cut_users)])\n",
      "bad_users = raw_electronics[raw_electronics.Review_UserID.isin(cut_users)][\"Review_UserID\"]\n",
      "raw_electronics = raw_electronics[~raw_electronics.Review_UserID.isin(cut_users)]"
     ],
     "language": "python",
     "metadata": {},
     "outputs": [
      {
       "output_type": "stream",
       "stream": "stdout",
       "text": [
        "1183982\n",
        "5569"
       ]
      },
      {
       "output_type": "stream",
       "stream": "stdout",
       "text": [
        "\n"
       ]
      }
     ],
     "prompt_number": 128
    },
    {
     "cell_type": "code",
     "collapsed": false,
     "input": [
      "bad_users = bad_users.unique()\n",
      "print len(bad_users)\n",
      "\"AYA4HL04UH8JT\" in bad_users"
     ],
     "language": "python",
     "metadata": {},
     "outputs": [
      {
       "output_type": "stream",
       "stream": "stdout",
       "text": [
        "325\n"
       ]
      },
      {
       "metadata": {},
       "output_type": "pyout",
       "prompt_number": 129,
       "text": [
        "True"
       ]
      }
     ],
     "prompt_number": 129
    },
    {
     "cell_type": "code",
     "collapsed": false,
     "input": [
      "pd.DataFrame(bad_users, columns=[\"User_ID\"]).to_csv(\"Data/Bad_Users.csv\")"
     ],
     "language": "python",
     "metadata": {},
     "outputs": [],
     "prompt_number": 131
    },
    {
     "cell_type": "code",
     "collapsed": false,
     "input": [
      "cut_users = pd.DataFrame.from_csv(\"Data/Bad_Users.csv\")\n",
      "raw_electronics = raw_electronics[~raw_electronics.Review_UserID.isin(cut_users[\"User_ID\"])]"
     ],
     "language": "python",
     "metadata": {},
     "outputs": [],
     "prompt_number": 38
    },
    {
     "cell_type": "code",
     "collapsed": false,
     "input": [
      "raw_electronics[raw_electronics.Review_UserID == \"AYA4HL04UH8JT\"]"
     ],
     "language": "python",
     "metadata": {},
     "outputs": [
      {
       "html": [
        "<div style=\"max-height:1000px;max-width:1500px;overflow:auto;\">\n",
        "<table border=\"1\" class=\"dataframe\">\n",
        "  <tbody>\n",
        "    <tr>\n",
        "      <td>Int64Index([], dtype='int64')</td>\n",
        "      <td>Empty DataFrame</td>\n",
        "    </tr>\n",
        "  </tbody>\n",
        "</table>\n",
        "<p>0 rows \u00d7 9 columns</p>\n",
        "</div>"
       ],
       "metadata": {},
       "output_type": "pyout",
       "prompt_number": 39,
       "text": [
        "Empty DataFrame\n",
        "Columns: [Product_ID, Product_Title, Product_Price, Review_UserID, Review_ProfileName, Review_Helpfulness_Score, Review_Helpfulness_Total, Review_Score, Review_Timestamp]\n",
        "Index: []\n",
        "\n",
        "[0 rows x 9 columns]"
       ]
      }
     ],
     "prompt_number": 39
    },
    {
     "cell_type": "heading",
     "level": 3,
     "metadata": {},
     "source": [
      "Remove non-caring users"
     ]
    },
    {
     "cell_type": "code",
     "collapsed": false,
     "input": [
      "# Remove all users based on review count\n",
      "good_users = raw_electronics.groupby(\"Review_UserID\")\n",
      "good_users = good_users.count()[\"Review_UserID\"]"
     ],
     "language": "python",
     "metadata": {},
     "outputs": [],
     "prompt_number": 8
    },
    {
     "cell_type": "code",
     "collapsed": false,
     "input": [
      "good_users.to_csv(\"Data/No_Bot_User_Review_Counts.csv\")"
     ],
     "language": "python",
     "metadata": {},
     "outputs": []
    },
    {
     "cell_type": "code",
     "collapsed": false,
     "input": [
      "plt.hist(good_users[good_users < 100], bins=100, log=True)\n",
      "# It appears like 10 is a good number :)"
     ],
     "language": "python",
     "metadata": {},
     "outputs": [
      {
       "ename": "KeyError",
       "evalue": "u'no item named 0'",
       "output_type": "pyerr",
       "traceback": [
        "\u001b[0;31m---------------------------------------------------------------------------\u001b[0m\n\u001b[0;31mKeyError\u001b[0m                                  Traceback (most recent call last)",
        "\u001b[0;32m<ipython-input-63-e2b236a22f22>\u001b[0m in \u001b[0;36m<module>\u001b[0;34m()\u001b[0m\n\u001b[0;32m----> 1\u001b[0;31m \u001b[0mplt\u001b[0m\u001b[0;34m.\u001b[0m\u001b[0mhist\u001b[0m\u001b[0;34m(\u001b[0m\u001b[0mgood_users\u001b[0m\u001b[0;34m[\u001b[0m\u001b[0mgood_users\u001b[0m \u001b[0;34m<\u001b[0m \u001b[0;36m100\u001b[0m\u001b[0;34m]\u001b[0m\u001b[0;34m,\u001b[0m \u001b[0mbins\u001b[0m\u001b[0;34m=\u001b[0m\u001b[0;36m100\u001b[0m\u001b[0;34m,\u001b[0m \u001b[0mlog\u001b[0m\u001b[0;34m=\u001b[0m\u001b[0mTrue\u001b[0m\u001b[0;34m)\u001b[0m\u001b[0;34m\u001b[0m\u001b[0m\n\u001b[0m\u001b[1;32m      2\u001b[0m \u001b[0;31m# It appears like 10 is a good number :)\u001b[0m\u001b[0;34m\u001b[0m\u001b[0;34m\u001b[0m\u001b[0m\n",
        "\u001b[0;32m/usr/lib/pymodules/python2.7/matplotlib/pyplot.pyc\u001b[0m in \u001b[0;36mhist\u001b[0;34m(x, bins, range, normed, weights, cumulative, bottom, histtype, align, orientation, rwidth, log, color, label, stacked, hold, **kwargs)\u001b[0m\n\u001b[1;32m   2825\u001b[0m                       \u001b[0mhisttype\u001b[0m\u001b[0;34m=\u001b[0m\u001b[0mhisttype\u001b[0m\u001b[0;34m,\u001b[0m \u001b[0malign\u001b[0m\u001b[0;34m=\u001b[0m\u001b[0malign\u001b[0m\u001b[0;34m,\u001b[0m \u001b[0morientation\u001b[0m\u001b[0;34m=\u001b[0m\u001b[0morientation\u001b[0m\u001b[0;34m,\u001b[0m\u001b[0;34m\u001b[0m\u001b[0m\n\u001b[1;32m   2826\u001b[0m                       \u001b[0mrwidth\u001b[0m\u001b[0;34m=\u001b[0m\u001b[0mrwidth\u001b[0m\u001b[0;34m,\u001b[0m \u001b[0mlog\u001b[0m\u001b[0;34m=\u001b[0m\u001b[0mlog\u001b[0m\u001b[0;34m,\u001b[0m \u001b[0mcolor\u001b[0m\u001b[0;34m=\u001b[0m\u001b[0mcolor\u001b[0m\u001b[0;34m,\u001b[0m \u001b[0mlabel\u001b[0m\u001b[0;34m=\u001b[0m\u001b[0mlabel\u001b[0m\u001b[0;34m,\u001b[0m\u001b[0;34m\u001b[0m\u001b[0m\n\u001b[0;32m-> 2827\u001b[0;31m                       stacked=stacked, **kwargs)\n\u001b[0m\u001b[1;32m   2828\u001b[0m         \u001b[0mdraw_if_interactive\u001b[0m\u001b[0;34m(\u001b[0m\u001b[0;34m)\u001b[0m\u001b[0;34m\u001b[0m\u001b[0m\n\u001b[1;32m   2829\u001b[0m     \u001b[0;32mfinally\u001b[0m\u001b[0;34m:\u001b[0m\u001b[0;34m\u001b[0m\u001b[0m\n",
        "\u001b[0;32m/usr/lib/pymodules/python2.7/matplotlib/axes.pyc\u001b[0m in \u001b[0;36mhist\u001b[0;34m(self, x, bins, range, normed, weights, cumulative, bottom, histtype, align, orientation, rwidth, log, color, label, stacked, **kwargs)\u001b[0m\n\u001b[1;32m   8247\u001b[0m         \u001b[0;31m# Massage 'x' for processing.\u001b[0m\u001b[0;34m\u001b[0m\u001b[0;34m\u001b[0m\u001b[0m\n\u001b[1;32m   8248\u001b[0m         \u001b[0;31m# NOTE: Be sure any changes here is also done below to 'weights'\u001b[0m\u001b[0;34m\u001b[0m\u001b[0;34m\u001b[0m\u001b[0m\n\u001b[0;32m-> 8249\u001b[0;31m         \u001b[0;32mif\u001b[0m \u001b[0misinstance\u001b[0m\u001b[0;34m(\u001b[0m\u001b[0mx\u001b[0m\u001b[0;34m,\u001b[0m \u001b[0mnp\u001b[0m\u001b[0;34m.\u001b[0m\u001b[0mndarray\u001b[0m\u001b[0;34m)\u001b[0m \u001b[0;32mor\u001b[0m \u001b[0;32mnot\u001b[0m \u001b[0miterable\u001b[0m\u001b[0;34m(\u001b[0m\u001b[0mx\u001b[0m\u001b[0;34m[\u001b[0m\u001b[0;36m0\u001b[0m\u001b[0;34m]\u001b[0m\u001b[0;34m)\u001b[0m\u001b[0;34m:\u001b[0m\u001b[0;34m\u001b[0m\u001b[0m\n\u001b[0m\u001b[1;32m   8250\u001b[0m             \u001b[0;31m# TODO: support masked arrays;\u001b[0m\u001b[0;34m\u001b[0m\u001b[0;34m\u001b[0m\u001b[0m\n\u001b[1;32m   8251\u001b[0m             \u001b[0mx\u001b[0m \u001b[0;34m=\u001b[0m \u001b[0mnp\u001b[0m\u001b[0;34m.\u001b[0m\u001b[0masarray\u001b[0m\u001b[0;34m(\u001b[0m\u001b[0mx\u001b[0m\u001b[0;34m)\u001b[0m\u001b[0;34m\u001b[0m\u001b[0m\n",
        "\u001b[0;32m/usr/lib/python2.7/dist-packages/pandas/core/frame.pyc\u001b[0m in \u001b[0;36m__getitem__\u001b[0;34m(self, key)\u001b[0m\n\u001b[1;32m   1656\u001b[0m             \u001b[0;32mreturn\u001b[0m \u001b[0mself\u001b[0m\u001b[0;34m.\u001b[0m\u001b[0m_getitem_multilevel\u001b[0m\u001b[0;34m(\u001b[0m\u001b[0mkey\u001b[0m\u001b[0;34m)\u001b[0m\u001b[0;34m\u001b[0m\u001b[0m\n\u001b[1;32m   1657\u001b[0m         \u001b[0;32melse\u001b[0m\u001b[0;34m:\u001b[0m\u001b[0;34m\u001b[0m\u001b[0m\n\u001b[0;32m-> 1658\u001b[0;31m             \u001b[0;32mreturn\u001b[0m \u001b[0mself\u001b[0m\u001b[0;34m.\u001b[0m\u001b[0m_getitem_column\u001b[0m\u001b[0;34m(\u001b[0m\u001b[0mkey\u001b[0m\u001b[0;34m)\u001b[0m\u001b[0;34m\u001b[0m\u001b[0m\n\u001b[0m\u001b[1;32m   1659\u001b[0m \u001b[0;34m\u001b[0m\u001b[0m\n\u001b[1;32m   1660\u001b[0m     \u001b[0;32mdef\u001b[0m \u001b[0m_getitem_column\u001b[0m\u001b[0;34m(\u001b[0m\u001b[0mself\u001b[0m\u001b[0;34m,\u001b[0m \u001b[0mkey\u001b[0m\u001b[0;34m)\u001b[0m\u001b[0;34m:\u001b[0m\u001b[0;34m\u001b[0m\u001b[0m\n",
        "\u001b[0;32m/usr/lib/python2.7/dist-packages/pandas/core/frame.pyc\u001b[0m in \u001b[0;36m_getitem_column\u001b[0;34m(self, key)\u001b[0m\n\u001b[1;32m   1663\u001b[0m         \u001b[0;31m# get column\u001b[0m\u001b[0;34m\u001b[0m\u001b[0;34m\u001b[0m\u001b[0m\n\u001b[1;32m   1664\u001b[0m         \u001b[0;32mif\u001b[0m \u001b[0mself\u001b[0m\u001b[0;34m.\u001b[0m\u001b[0mcolumns\u001b[0m\u001b[0;34m.\u001b[0m\u001b[0mis_unique\u001b[0m\u001b[0;34m:\u001b[0m\u001b[0;34m\u001b[0m\u001b[0m\n\u001b[0;32m-> 1665\u001b[0;31m             \u001b[0;32mreturn\u001b[0m \u001b[0mself\u001b[0m\u001b[0;34m.\u001b[0m\u001b[0m_get_item_cache\u001b[0m\u001b[0;34m(\u001b[0m\u001b[0mkey\u001b[0m\u001b[0;34m)\u001b[0m\u001b[0;34m\u001b[0m\u001b[0m\n\u001b[0m\u001b[1;32m   1666\u001b[0m \u001b[0;34m\u001b[0m\u001b[0m\n\u001b[1;32m   1667\u001b[0m         \u001b[0;31m# duplicate columns & possible reduce dimensionaility\u001b[0m\u001b[0;34m\u001b[0m\u001b[0;34m\u001b[0m\u001b[0m\n",
        "\u001b[0;32m/usr/lib/python2.7/dist-packages/pandas/core/generic.pyc\u001b[0m in \u001b[0;36m_get_item_cache\u001b[0;34m(self, item)\u001b[0m\n\u001b[1;32m   1003\u001b[0m         \u001b[0mres\u001b[0m \u001b[0;34m=\u001b[0m \u001b[0mcache\u001b[0m\u001b[0;34m.\u001b[0m\u001b[0mget\u001b[0m\u001b[0;34m(\u001b[0m\u001b[0mitem\u001b[0m\u001b[0;34m)\u001b[0m\u001b[0;34m\u001b[0m\u001b[0m\n\u001b[1;32m   1004\u001b[0m         \u001b[0;32mif\u001b[0m \u001b[0mres\u001b[0m \u001b[0;32mis\u001b[0m \u001b[0mNone\u001b[0m\u001b[0;34m:\u001b[0m\u001b[0;34m\u001b[0m\u001b[0m\n\u001b[0;32m-> 1005\u001b[0;31m             \u001b[0mvalues\u001b[0m \u001b[0;34m=\u001b[0m \u001b[0mself\u001b[0m\u001b[0;34m.\u001b[0m\u001b[0m_data\u001b[0m\u001b[0;34m.\u001b[0m\u001b[0mget\u001b[0m\u001b[0;34m(\u001b[0m\u001b[0mitem\u001b[0m\u001b[0;34m)\u001b[0m\u001b[0;34m\u001b[0m\u001b[0m\n\u001b[0m\u001b[1;32m   1006\u001b[0m             \u001b[0mres\u001b[0m \u001b[0;34m=\u001b[0m \u001b[0mself\u001b[0m\u001b[0;34m.\u001b[0m\u001b[0m_box_item_values\u001b[0m\u001b[0;34m(\u001b[0m\u001b[0mitem\u001b[0m\u001b[0;34m,\u001b[0m \u001b[0mvalues\u001b[0m\u001b[0;34m)\u001b[0m\u001b[0;34m\u001b[0m\u001b[0m\n\u001b[1;32m   1007\u001b[0m             \u001b[0mcache\u001b[0m\u001b[0;34m[\u001b[0m\u001b[0mitem\u001b[0m\u001b[0;34m]\u001b[0m \u001b[0;34m=\u001b[0m \u001b[0mres\u001b[0m\u001b[0;34m\u001b[0m\u001b[0m\n",
        "\u001b[0;32m/usr/lib/python2.7/dist-packages/pandas/core/internals.pyc\u001b[0m in \u001b[0;36mget\u001b[0;34m(self, item)\u001b[0m\n\u001b[1;32m   2872\u001b[0m                 \u001b[0;32mreturn\u001b[0m \u001b[0mself\u001b[0m\u001b[0;34m.\u001b[0m\u001b[0mget_for_nan_indexer\u001b[0m\u001b[0;34m(\u001b[0m\u001b[0mindexer\u001b[0m\u001b[0;34m)\u001b[0m\u001b[0;34m\u001b[0m\u001b[0m\n\u001b[1;32m   2873\u001b[0m \u001b[0;34m\u001b[0m\u001b[0m\n\u001b[0;32m-> 2874\u001b[0;31m             \u001b[0m_\u001b[0m\u001b[0;34m,\u001b[0m \u001b[0mblock\u001b[0m \u001b[0;34m=\u001b[0m \u001b[0mself\u001b[0m\u001b[0;34m.\u001b[0m\u001b[0m_find_block\u001b[0m\u001b[0;34m(\u001b[0m\u001b[0mitem\u001b[0m\u001b[0;34m)\u001b[0m\u001b[0;34m\u001b[0m\u001b[0m\n\u001b[0m\u001b[1;32m   2875\u001b[0m             \u001b[0;32mreturn\u001b[0m \u001b[0mblock\u001b[0m\u001b[0;34m.\u001b[0m\u001b[0mget\u001b[0m\u001b[0;34m(\u001b[0m\u001b[0mitem\u001b[0m\u001b[0;34m)\u001b[0m\u001b[0;34m\u001b[0m\u001b[0m\n\u001b[1;32m   2876\u001b[0m         \u001b[0;32melse\u001b[0m\u001b[0;34m:\u001b[0m\u001b[0;34m\u001b[0m\u001b[0m\n",
        "\u001b[0;32m/usr/lib/python2.7/dist-packages/pandas/core/internals.pyc\u001b[0m in \u001b[0;36m_find_block\u001b[0;34m(self, item)\u001b[0m\n\u001b[1;32m   3184\u001b[0m \u001b[0;34m\u001b[0m\u001b[0m\n\u001b[1;32m   3185\u001b[0m     \u001b[0;32mdef\u001b[0m \u001b[0m_find_block\u001b[0m\u001b[0;34m(\u001b[0m\u001b[0mself\u001b[0m\u001b[0;34m,\u001b[0m \u001b[0mitem\u001b[0m\u001b[0;34m)\u001b[0m\u001b[0;34m:\u001b[0m\u001b[0;34m\u001b[0m\u001b[0m\n\u001b[0;32m-> 3186\u001b[0;31m         \u001b[0mself\u001b[0m\u001b[0;34m.\u001b[0m\u001b[0m_check_have\u001b[0m\u001b[0;34m(\u001b[0m\u001b[0mitem\u001b[0m\u001b[0;34m)\u001b[0m\u001b[0;34m\u001b[0m\u001b[0m\n\u001b[0m\u001b[1;32m   3187\u001b[0m         \u001b[0;32mfor\u001b[0m \u001b[0mi\u001b[0m\u001b[0;34m,\u001b[0m \u001b[0mblock\u001b[0m \u001b[0;32min\u001b[0m \u001b[0menumerate\u001b[0m\u001b[0;34m(\u001b[0m\u001b[0mself\u001b[0m\u001b[0;34m.\u001b[0m\u001b[0mblocks\u001b[0m\u001b[0;34m)\u001b[0m\u001b[0;34m:\u001b[0m\u001b[0;34m\u001b[0m\u001b[0m\n\u001b[1;32m   3188\u001b[0m             \u001b[0;32mif\u001b[0m \u001b[0mitem\u001b[0m \u001b[0;32min\u001b[0m \u001b[0mblock\u001b[0m\u001b[0;34m:\u001b[0m\u001b[0;34m\u001b[0m\u001b[0m\n",
        "\u001b[0;32m/usr/lib/python2.7/dist-packages/pandas/core/internals.pyc\u001b[0m in \u001b[0;36m_check_have\u001b[0;34m(self, item)\u001b[0m\n\u001b[1;32m   3191\u001b[0m     \u001b[0;32mdef\u001b[0m \u001b[0m_check_have\u001b[0m\u001b[0;34m(\u001b[0m\u001b[0mself\u001b[0m\u001b[0;34m,\u001b[0m \u001b[0mitem\u001b[0m\u001b[0;34m)\u001b[0m\u001b[0;34m:\u001b[0m\u001b[0;34m\u001b[0m\u001b[0m\n\u001b[1;32m   3192\u001b[0m         \u001b[0;32mif\u001b[0m \u001b[0mitem\u001b[0m \u001b[0;32mnot\u001b[0m \u001b[0;32min\u001b[0m \u001b[0mself\u001b[0m\u001b[0;34m.\u001b[0m\u001b[0mitems\u001b[0m\u001b[0;34m:\u001b[0m\u001b[0;34m\u001b[0m\u001b[0m\n\u001b[0;32m-> 3193\u001b[0;31m             \u001b[0;32mraise\u001b[0m \u001b[0mKeyError\u001b[0m\u001b[0;34m(\u001b[0m\u001b[0;34m'no item named %s'\u001b[0m \u001b[0;34m%\u001b[0m \u001b[0mcom\u001b[0m\u001b[0;34m.\u001b[0m\u001b[0mpprint_thing\u001b[0m\u001b[0;34m(\u001b[0m\u001b[0mitem\u001b[0m\u001b[0;34m)\u001b[0m\u001b[0;34m)\u001b[0m\u001b[0;34m\u001b[0m\u001b[0m\n\u001b[0m\u001b[1;32m   3194\u001b[0m \u001b[0;34m\u001b[0m\u001b[0m\n\u001b[1;32m   3195\u001b[0m     def reindex_axis(self, new_axis, indexer=None, method=None, axis=0,\n",
        "\u001b[0;31mKeyError\u001b[0m: u'no item named 0'"
       ]
      },
      {
       "metadata": {},
       "output_type": "display_data",
       "png": "[encoded data removed]",
       "text": [
        "<matplotlib.figure.Figure at 0x8073b50c>"
       ]
      }
     ],
     "prompt_number": 63
    },
    {
     "cell_type": "code",
     "collapsed": false,
     "input": [
      "cut_users = good_users[good_users < 8]\n",
      "cut_users = cut_users.index\n",
      "print \"Records\", len(cut_users)\n",
      "cut_users = cut_users.unique()\n",
      "print \"Users\", len(cut_users)"
     ],
     "language": "python",
     "metadata": {},
     "outputs": [
      {
       "output_type": "stream",
       "stream": "stdout",
       "text": [
        "Records 803643\n",
        "Users"
       ]
      },
      {
       "output_type": "stream",
       "stream": "stdout",
       "text": [
        " 803643\n"
       ]
      }
     ],
     "prompt_number": 10
    },
    {
     "cell_type": "markdown",
     "metadata": {},
     "source": [
      "Import Good Attempt"
     ]
    },
    {
     "cell_type": "code",
     "collapsed": false,
     "input": [
      "good_users = pd.read_csv(\"Data/No_Bot_User_Review_Counts.csv\", header=None)\n",
      "good_users[1].head(5)"
     ],
     "language": "python",
     "metadata": {},
     "outputs": [
      {
       "metadata": {},
       "output_type": "pyout",
       "prompt_number": 71,
       "text": [
        "0    1\n",
        "1    1\n",
        "2    2\n",
        "3    1\n",
        "4    2\n",
        "Name: 1, dtype: int64"
       ]
      }
     ],
     "prompt_number": 71
    },
    {
     "cell_type": "code",
     "collapsed": false,
     "input": [
      "print len(good_users)\n",
      "cut_users = good_users[good_users[1] < 8]\n",
      "cut_users = cut_users[0]\n",
      "print \"Records\", len(cut_users)\n",
      "cut_users = cut_users.unique()\n",
      "print \"Users\", len(cut_users)\n",
      "cut_users[1:5]"
     ],
     "language": "python",
     "metadata": {},
     "outputs": [
      {
       "output_type": "stream",
       "stream": "stdout",
       "text": [
        "811033\n",
        "Records"
       ]
      },
      {
       "output_type": "stream",
       "stream": "stdout",
       "text": [
        " 803643\n",
        "Users"
       ]
      },
      {
       "output_type": "stream",
       "stream": "stdout",
       "text": [
        " 803643\n"
       ]
      },
      {
       "metadata": {},
       "output_type": "pyout",
       "prompt_number": 75,
       "text": [
        "array(['A0004478EF5NFPHLGCWG', 'A00259703ZH4D3R0DO09',\n",
        "       'A00267003MU1A1IDE5IV4', 'A00279861HQYOQ4LIJ55F'], dtype=object)"
       ]
      }
     ],
     "prompt_number": 75
    },
    {
     "cell_type": "markdown",
     "metadata": {},
     "source": [
      "Actually cut it"
     ]
    },
    {
     "cell_type": "code",
     "collapsed": false,
     "input": [
      "print len(raw_electronics[raw_electronics.Review_UserID.isin(cut_users)])\n",
      "print len(raw_electronics[~raw_electronics.Review_UserID.isin(cut_users)])\n",
      "raw_electronics = raw_electronics[~raw_electronics.Review_UserID.isin(cut_users)]"
     ],
     "language": "python",
     "metadata": {},
     "outputs": [
      {
       "output_type": "stream",
       "stream": "stdout",
       "text": [
        "1091416\n",
        "92566"
       ]
      },
      {
       "output_type": "stream",
       "stream": "stdout",
       "text": [
        "\n"
       ]
      }
     ],
     "prompt_number": 76
    },
    {
     "cell_type": "heading",
     "level": 4,
     "metadata": {},
     "source": [
      "Remove dead products"
     ]
    },
    {
     "cell_type": "code",
     "collapsed": false,
     "input": [
      "good_products = raw_electronics.groupby(\"Product_ID\")\n",
      "good_products = good_products.count()[\"Product_ID\"]"
     ],
     "language": "python",
     "metadata": {},
     "outputs": [],
     "prompt_number": 13
    },
    {
     "cell_type": "code",
     "collapsed": false,
     "input": [
      "good_products.to_csv(\"Data/No_Bot_User_Product_Review_Counts.csv\")"
     ],
     "language": "python",
     "metadata": {},
     "outputs": []
    },
    {
     "cell_type": "code",
     "collapsed": false,
     "input": [
      "plt.hist(good_products[(good_products < 200)], bins=100, log=True)"
     ],
     "language": "python",
     "metadata": {},
     "outputs": [
      {
       "metadata": {},
       "output_type": "pyout",
       "prompt_number": 14,
       "text": [
        "(array([  2.07340000e+04,   3.75500000e+03,   9.07000000e+02,\n",
        "         1.06200000e+03,   3.51000000e+02,   4.40000000e+02,\n",
        "         3.13000000e+02,   1.15000000e+02,   1.93000000e+02,\n",
        "         7.10000000e+01,   1.95000000e+02,   3.80000000e+01,\n",
        "         8.20000000e+01,   4.90000000e+01,   3.90000000e+01,\n",
        "         5.90000000e+01,   1.60000000e+01,   2.80000000e+01,\n",
        "         2.30000000e+01,   1.70000000e+01,   1.70000000e+01,\n",
        "         1.10000000e+01,   1.20000000e+01,   9.00000000e+00,\n",
        "         2.00000000e+01,   1.80000000e+01,   1.70000000e+01,\n",
        "         9.00000000e+00,   5.00000000e+00,   7.00000000e+00,\n",
        "         5.00000000e+00,   8.00000000e+00,   8.00000000e+00,\n",
        "         3.00000000e+00,   7.00000000e+00,   5.00000000e+00,\n",
        "         1.00000000e+01,   7.00000000e+00,   2.00000000e+00,\n",
        "         3.00000000e+00,   0.00000000e+00,   3.00000000e+00,\n",
        "         6.00000000e+00,   1.00000000e+00,   6.00000000e+00,\n",
        "         4.00000000e+00,   1.30000000e+01,   2.00000000e+00,\n",
        "         2.00000000e+00,   0.00000000e+00,   3.00000000e+00,\n",
        "         2.00000000e+00,   0.00000000e+00,   0.00000000e+00,\n",
        "         0.00000000e+00,   1.00000000e+00,   3.00000000e+00,\n",
        "         3.00000000e+00,   1.00000000e+00,   1.00000000e+00,\n",
        "         1.00000000e+00,   0.00000000e+00,   0.00000000e+00,\n",
        "         2.00000000e+00,   0.00000000e+00,   0.00000000e+00,\n",
        "         1.00000000e+00,   0.00000000e+00,   1.00000000e+00,\n",
        "         1.00000000e+00,   2.00000000e+00,   1.00000000e+00,\n",
        "         1.00000000e+00,   0.00000000e+00,   1.00000000e+00,\n",
        "         0.00000000e+00,   0.00000000e+00,   0.00000000e+00,\n",
        "         0.00000000e+00,   0.00000000e+00,   0.00000000e+00,\n",
        "         0.00000000e+00,   0.00000000e+00,   0.00000000e+00,\n",
        "         0.00000000e+00,   0.00000000e+00,   0.00000000e+00,\n",
        "         0.00000000e+00,   0.00000000e+00,   0.00000000e+00,\n",
        "         0.00000000e+00,   0.00000000e+00,   0.00000000e+00,\n",
        "         0.00000000e+00,   0.00000000e+00,   0.00000000e+00,\n",
        "         0.00000000e+00,   5.00000000e+00,   1.00000000e+00,\n",
        "         1.00000000e+00]),\n",
        " array([   1.  ,    2.58,    4.16,    5.74,    7.32,    8.9 ,   10.48,\n",
        "         12.06,   13.64,   15.22,   16.8 ,   18.38,   19.96,   21.54,\n",
        "         23.12,   24.7 ,   26.28,   27.86,   29.44,   31.02,   32.6 ,\n",
        "         34.18,   35.76,   37.34,   38.92,   40.5 ,   42.08,   43.66,\n",
        "         45.24,   46.82,   48.4 ,   49.98,   51.56,   53.14,   54.72,\n",
        "         56.3 ,   57.88,   59.46,   61.04,   62.62,   64.2 ,   65.78,\n",
        "         67.36,   68.94,   70.52,   72.1 ,   73.68,   75.26,   76.84,\n",
        "         78.42,   80.  ,   81.58,   83.16,   84.74,   86.32,   87.9 ,\n",
        "         89.48,   91.06,   92.64,   94.22,   95.8 ,   97.38,   98.96,\n",
        "        100.54,  102.12,  103.7 ,  105.28,  106.86,  108.44,  110.02,\n",
        "        111.6 ,  113.18,  114.76,  116.34,  117.92,  119.5 ,  121.08,\n",
        "        122.66,  124.24,  125.82,  127.4 ,  128.98,  130.56,  132.14,\n",
        "        133.72,  135.3 ,  136.88,  138.46,  140.04,  141.62,  143.2 ,\n",
        "        144.78,  146.36,  147.94,  149.52,  151.1 ,  152.68,  154.26,\n",
        "        155.84,  157.42,  159.  ]),\n",
        " <a list of 100 Patch objects>)"
       ]
      },
      {
       "metadata": {},
       "output_type": "display_data",
       "png": "[encoded data removed]",
       "text": [
        "<matplotlib.figure.Figure at 0xa403b5cc>"
       ]
      }
     ],
     "prompt_number": 14
    },
    {
     "cell_type": "code",
     "collapsed": false,
     "input": [
      "cut_products = good_products[good_products < 10]\n",
      "cut_products = cut_products.index\n",
      "print \"Records\", len(cut_products)\n",
      "cut_products = cut_products.unique()\n",
      "print \"Products\", len(cut_products)"
     ],
     "language": "python",
     "metadata": {},
     "outputs": [
      {
       "output_type": "stream",
       "stream": "stdout",
       "text": [
        "Records 27053\n",
        "Products 27053\n"
       ]
      }
     ],
     "prompt_number": 15
    },
    {
     "cell_type": "code",
     "collapsed": false,
     "input": [
      "print \"Good\", len(raw_electronics[~raw_electronics.Product_ID.isin(cut_products)])\n",
      "print \"Bad\", len(raw_electronics[raw_electronics.Product_ID.isin(cut_products)])"
     ],
     "language": "python",
     "metadata": {},
     "outputs": [
      {
       "output_type": "stream",
       "stream": "stdout",
       "text": [
        "Good 42503\n",
        "Bad "
       ]
      },
      {
       "output_type": "stream",
       "stream": "stdout",
       "text": [
        "54884\n"
       ]
      }
     ],
     "prompt_number": 16
    },
    {
     "cell_type": "markdown",
     "metadata": {},
     "source": [
      "Import it instead"
     ]
    },
    {
     "cell_type": "code",
     "collapsed": false,
     "input": [
      "good_products = pd.read_csv(\"Data/No_Bot_User_Product_Review_Counts.csv\", header=None)\n",
      "good_products[1].head(5)"
     ],
     "language": "python",
     "metadata": {},
     "outputs": [
      {
       "metadata": {},
       "output_type": "pyout",
       "prompt_number": 79,
       "text": [
        "0    1\n",
        "1    1\n",
        "2    1\n",
        "3    1\n",
        "4    1\n",
        "Name: 1, dtype: int64"
       ]
      }
     ],
     "prompt_number": 79
    },
    {
     "cell_type": "code",
     "collapsed": false,
     "input": [
      "print len(good_products)\n",
      "cut_products = good_products[good_products[1] < 10]\n",
      "cut_products = cut_products[0]\n",
      "print \"Records\", len(cut_products)\n",
      "cut_products = cut_products.unique()\n",
      "print \"Users\", len(cut_products)\n",
      "cut_products[1:5]"
     ],
     "language": "python",
     "metadata": {},
     "outputs": [
      {
       "output_type": "stream",
       "stream": "stdout",
       "text": [
        "28753\n",
        "Records 27053\n",
        "Users 27053\n"
       ]
      },
      {
       "metadata": {},
       "output_type": "pyout",
       "prompt_number": 80,
       "text": [
        "array(['0312321074', '0312331363', '0312993064', '0373250460'], dtype=object)"
       ]
      }
     ],
     "prompt_number": 80
    },
    {
     "cell_type": "code",
     "collapsed": false,
     "input": [
      "print len(raw_electronics[raw_electronics.Product_ID.isin(cut_products)])\n",
      "print len(raw_electronics[~raw_electronics.Product_ID.isin(cut_products)])\n",
      "raw_electronics = raw_electronics[~raw_electronics.Product_ID.isin(cut_products)]"
     ],
     "language": "python",
     "metadata": {},
     "outputs": [
      {
       "output_type": "stream",
       "stream": "stdout",
       "text": [
        "52348\n",
        "40218"
       ]
      },
      {
       "output_type": "stream",
       "stream": "stdout",
       "text": [
        "\n"
       ]
      }
     ],
     "prompt_number": 81
    },
    {
     "cell_type": "heading",
     "level": 4,
     "metadata": {},
     "source": [
      "Save the Filtered Data"
     ]
    },
    {
     "cell_type": "code",
     "collapsed": false,
     "input": [
      "print \"overall length: \", len(raw_electronics)\n",
      "print \"products: \", len(raw_electronics[\"Product_ID\"].unique())\n",
      "print \"users: \", len(raw_electronics[\"Review_UserID\"].unique())"
     ],
     "language": "python",
     "metadata": {},
     "outputs": [
      {
       "output_type": "stream",
       "stream": "stdout",
       "text": [
        "overall length:  40218\n",
        "products:  1699\n",
        "users:  6911\n"
       ]
      }
     ],
     "prompt_number": 82
    },
    {
     "cell_type": "code",
     "collapsed": false,
     "input": [
      "raw_electronics.to_csv(\"Data/Matt_Filtered_Electronics_Review_Data.csv\")"
     ],
     "language": "python",
     "metadata": {},
     "outputs": [],
     "prompt_number": 83
    },
    {
     "cell_type": "code",
     "collapsed": false,
     "input": [
      "raw_electronics[raw_electronics[\"Review_UserID\"] == \"AYA4HL04UH8JT\"]"
     ],
     "language": "python",
     "metadata": {},
     "outputs": [
      {
       "html": [
        "<div style=\"max-height:1000px;max-width:1500px;overflow:auto;\">\n",
        "<table border=\"1\" class=\"dataframe\">\n",
        "  <tbody>\n",
        "    <tr>\n",
        "      <td>Int64Index([], dtype='int64')</td>\n",
        "      <td>Empty DataFrame</td>\n",
        "    </tr>\n",
        "  </tbody>\n",
        "</table>\n",
        "<p>0 rows \u00d7 9 columns</p>\n",
        "</div>"
       ],
       "metadata": {},
       "output_type": "pyout",
       "prompt_number": 86,
       "text": [
        "Empty DataFrame\n",
        "Columns: [Product_ID, Product_Title, Product_Price, Review_UserID, Review_ProfileName, Review_Helpfulness_Score, Review_Helpfulness_Total, Review_Score, Review_Timestamp]\n",
        "Index: []\n",
        "\n",
        "[0 rows x 9 columns]"
       ]
      }
     ],
     "prompt_number": 86
    },
    {
     "cell_type": "heading",
     "level": 1,
     "metadata": {},
     "source": [
      "Push Into SQL"
     ]
    },
    {
     "cell_type": "code",
     "collapsed": false,
     "input": [
      "import sqlite3\n",
      "conn = sqlite3.connect('/home/matthenricks/workspace/CMSC498J-Movie-Reviews/filtered_reviews.db')"
     ],
     "language": "python",
     "metadata": {},
     "outputs": [],
     "prompt_number": 5
    },
    {
     "cell_type": "code",
     "collapsed": false,
     "input": [
      "filtered_reviews = pd.DataFrame.from_csv(\"Data/Matt_Filtered_Electronics_Review_Data.csv\")\n",
      "print \"review length: \" + str(len(filtered_reviews))\n",
      "#filtered_reviews.drop_duplicates(cols=[\"Product_ID\", \"Review_UserID\", ]"
     ],
     "language": "python",
     "metadata": {},
     "outputs": [
      {
       "output_type": "stream",
       "stream": "stdout",
       "text": [
        "review length: 40218\n"
       ]
      }
     ],
     "prompt_number": 6
    },
    {
     "cell_type": "code",
     "collapsed": false,
     "input": [
      "bots = pd.DataFrame.from_csv(\"Data/Bad_Users.csv\")\n",
      "bots[bots['User_ID'] == \"AYA4HL04UH8JT\"]"
     ],
     "language": "python",
     "metadata": {},
     "outputs": [
      {
       "html": [
        "<div style=\"max-height:1000px;max-width:1500px;overflow:auto;\">\n",
        "<table border=\"1\" class=\"dataframe\">\n",
        "  <thead>\n",
        "    <tr style=\"text-align: right;\">\n",
        "      <th></th>\n",
        "      <th>User_ID</th>\n",
        "    </tr>\n",
        "  </thead>\n",
        "  <tbody>\n",
        "    <tr>\n",
        "      <th>105</th>\n",
        "      <td> AYA4HL04UH8JT</td>\n",
        "    </tr>\n",
        "  </tbody>\n",
        "</table>\n",
        "<p>1 rows \u00d7 1 columns</p>\n",
        "</div>"
       ],
       "metadata": {},
       "output_type": "pyout",
       "prompt_number": 99,
       "text": [
        "           User_ID\n",
        "105  AYA4HL04UH8JT\n",
        "\n",
        "[1 rows x 1 columns]"
       ]
      }
     ],
     "prompt_number": 99
    },
    {
     "cell_type": "code",
     "collapsed": false,
     "input": [
      "conn.execute('''DROP TABLE review_bots''')\n",
      "conn.commit()\n",
      "bots.to_sql(name='review_bots', con=conn)\n",
      "print \"bots length: \" + str(len(bots))"
     ],
     "language": "python",
     "metadata": {},
     "outputs": [
      {
       "output_type": "stream",
       "stream": "stdout",
       "text": [
        "bots length: 325\n"
       ]
      }
     ],
     "prompt_number": 100
    },
    {
     "cell_type": "code",
     "collapsed": false,
     "input": [
      "conn.execute('''DROP TABLE filtered_reviews''')\n",
      "conn.commit()\n",
      "filtered_reviews.to_sql(name='filtered_reviews', con=conn)"
     ],
     "language": "python",
     "metadata": {},
     "outputs": [],
     "prompt_number": 101
    },
    {
     "cell_type": "code",
     "collapsed": false,
     "input": [
      "res = conn.execute('''SELECT COUNT(*) FROM filtered_reviews''')\n",
      "for row in res:\n",
      "    print row"
     ],
     "language": "python",
     "metadata": {},
     "outputs": [
      {
       "output_type": "stream",
       "stream": "stdout",
       "text": [
        "(40218,)\n"
       ]
      }
     ],
     "prompt_number": 102
    },
    {
     "cell_type": "code",
     "collapsed": false,
     "input": [
      "res = conn.execute('''SELECT COUNT(*)\n",
      "FROM (SELECT Product_ID, Review_UserID FROM filtered_reviews)\n",
      "WHERE Review_UserID NOT IN (SELECT User_ID FROM review_bots)''')\n",
      "for row in res:\n",
      "    print row"
     ],
     "language": "python",
     "metadata": {},
     "outputs": [
      {
       "output_type": "stream",
       "stream": "stdout",
       "text": [
        "(40218,)\n"
       ]
      }
     ],
     "prompt_number": 103
    },
    {
     "cell_type": "markdown",
     "metadata": {},
     "source": [
      "If the above are the same, all the bots were remove in preprocessing!"
     ]
    },
    {
     "cell_type": "heading",
     "level": 1,
     "metadata": {},
     "source": [
      "Load The Cleansed Data"
     ]
    },
    {
     "cell_type": "code",
     "collapsed": false,
     "input": [
      "a = \"(\"\n",
      "for k in filtered_reviews.keys()[:-1]:\n",
      "    a += k + \",\"\n",
      "a += filtered_reviews.keys()[-1] + \")\"\n",
      "print a"
     ],
     "language": "python",
     "metadata": {},
     "outputs": [
      {
       "output_type": "stream",
       "stream": "stdout",
       "text": [
        "(Product_ID,Product_Title,Product_Price,Review_UserID,Review_ProfileName,Review_Helpfulness_Score,Review_Helpfulness_Total,Review_Score,Review_Timestamp)\n"
       ]
      }
     ],
     "prompt_number": 104
    },
    {
     "cell_type": "code",
     "collapsed": false,
     "input": [
      "conn.execute('''DROP TABLE joined_reviews''')\n",
      "conn.execute('''CREATE TABLE joined_reviews (\n",
      "    Product_ID TEXT,\n",
      "    Review_UserID1 TEXT,\n",
      "    Review_UserID2 TEXT,\n",
      "    Review_Timestamp INT)''')\n",
      "conn.commit()"
     ],
     "language": "python",
     "metadata": {},
     "outputs": [],
     "prompt_number": 105
    },
    {
     "cell_type": "code",
     "collapsed": false,
     "input": [
      "conn.execute('''INSERT INTO joined_reviews(Product_ID, Review_UserID1, Review_UserID2, Review_Timestamp)\n",
      "SELECT a.Product_ID, a.Review_UserID, b.Review_UserID, max(a.Review_Timestamp, b.Review_Timestamp)\n",
      "FROM filtered_reviews a INNER JOIN filtered_reviews b ON a.Product_ID == b.Product_ID\n",
      "WHERE a.Review_UserID < b.Review_UserID''')\n",
      "conn.commit()"
     ],
     "language": "python",
     "metadata": {},
     "outputs": [],
     "prompt_number": 106
    },
    {
     "cell_type": "code",
     "collapsed": false,
     "input": [
      "res = conn.execute('''SELECT COUNT(*) FROM joined_reviews''')\n",
      "for row in res:\n",
      "    print row"
     ],
     "language": "python",
     "metadata": {},
     "outputs": [
      {
       "output_type": "stream",
       "stream": "stdout",
       "text": [
        "(1591917,)\n"
       ]
      }
     ],
     "prompt_number": 107
    },
    {
     "cell_type": "code",
     "collapsed": false,
     "input": [
      "res = conn.execute('''SELECT Review_Timestamp, COUNT(*) \n",
      "FROM joined_reviews\n",
      "GROUP BY Review_Timestamp''')\n",
      "values = res.fetchall()"
     ],
     "language": "python",
     "metadata": {},
     "outputs": [],
     "prompt_number": 108
    },
    {
     "cell_type": "code",
     "collapsed": false,
     "input": [
      "counts = pd.DataFrame(values, columns=[\"Time\", \"Count\"])\n",
      "counts.head(5)"
     ],
     "language": "python",
     "metadata": {},
     "outputs": [
      {
       "html": [
        "<div style=\"max-height:1000px;max-width:1500px;overflow:auto;\">\n",
        "<table border=\"1\" class=\"dataframe\">\n",
        "  <thead>\n",
        "    <tr style=\"text-align: right;\">\n",
        "      <th></th>\n",
        "      <th>Time</th>\n",
        "      <th>Count</th>\n",
        "    </tr>\n",
        "  </thead>\n",
        "  <tbody>\n",
        "    <tr>\n",
        "      <th>0</th>\n",
        "      <td> 939600000</td>\n",
        "      <td> 1</td>\n",
        "    </tr>\n",
        "    <tr>\n",
        "      <th>1</th>\n",
        "      <td> 944611200</td>\n",
        "      <td> 2</td>\n",
        "    </tr>\n",
        "    <tr>\n",
        "      <th>2</th>\n",
        "      <td> 945820800</td>\n",
        "      <td> 3</td>\n",
        "    </tr>\n",
        "    <tr>\n",
        "      <th>3</th>\n",
        "      <td> 946598400</td>\n",
        "      <td> 4</td>\n",
        "    </tr>\n",
        "    <tr>\n",
        "      <th>4</th>\n",
        "      <td> 947116800</td>\n",
        "      <td> 5</td>\n",
        "    </tr>\n",
        "  </tbody>\n",
        "</table>\n",
        "<p>5 rows \u00d7 2 columns</p>\n",
        "</div>"
       ],
       "metadata": {},
       "output_type": "pyout",
       "prompt_number": 109,
       "text": [
        "        Time  Count\n",
        "0  939600000      1\n",
        "1  944611200      2\n",
        "2  945820800      3\n",
        "3  946598400      4\n",
        "4  947116800      5\n",
        "\n",
        "[5 rows x 2 columns]"
       ]
      }
     ],
     "prompt_number": 109
    },
    {
     "cell_type": "markdown",
     "metadata": {},
     "source": [
      "Interesting enough, the plot of when the maintained reviews happen is skewed right. This is probably due to how the final time is decided."
     ]
    },
    {
     "cell_type": "code",
     "collapsed": false,
     "input": [
      "plt.plot(counts[\"Time\"], counts[\"Count\"])"
     ],
     "language": "python",
     "metadata": {},
     "outputs": [
      {
       "metadata": {},
       "output_type": "pyout",
       "prompt_number": 110,
       "text": [
        "[<matplotlib.lines.Line2D at 0x9cf7582c>]"
       ]
      },
      {
       "metadata": {},
       "output_type": "display_data",
       "png": "[encoded data removed]",
       "text": [
        "<matplotlib.figure.Figure at 0x9d41772c>"
       ]
      }
     ],
     "prompt_number": 110
    },
    {
     "cell_type": "code",
     "collapsed": false,
     "input": [
      "res = conn.execute('''SELECT Review_UserID1, Review_UserID2, Count(*) \n",
      "FROM joined_reviews\n",
      "GROUP BY Review_UserID1, Review_UserID2''')\n",
      "values = res.fetchall()"
     ],
     "language": "python",
     "metadata": {},
     "outputs": [],
     "prompt_number": 111
    },
    {
     "cell_type": "code",
     "collapsed": false,
     "input": [
      "user_interactions = pd.DataFrame(values, columns=[\"User1\", \"User2\", \"Interactions\"])\n",
      "plt.hist(user_interactions[\"Interactions\"], bins=200, log=True)"
     ],
     "language": "python",
     "metadata": {},
     "outputs": [
      {
       "metadata": {},
       "output_type": "pyout",
       "prompt_number": 112,
       "text": [
        "(array([  3.96511000e+05,   0.00000000e+00,   0.00000000e+00,\n",
        "         0.00000000e+00,   4.97880000e+04,   0.00000000e+00,\n",
        "         0.00000000e+00,   0.00000000e+00,   0.00000000e+00,\n",
        "         5.35300000e+03,   0.00000000e+00,   0.00000000e+00,\n",
        "         0.00000000e+00,   0.00000000e+00,   4.17800000e+04,\n",
        "         0.00000000e+00,   0.00000000e+00,   0.00000000e+00,\n",
        "         0.00000000e+00,   4.54800000e+03,   0.00000000e+00,\n",
        "         0.00000000e+00,   0.00000000e+00,   0.00000000e+00,\n",
        "         8.29000000e+02,   0.00000000e+00,   0.00000000e+00,\n",
        "         0.00000000e+00,   0.00000000e+00,   4.43100000e+03,\n",
        "         0.00000000e+00,   0.00000000e+00,   0.00000000e+00,\n",
        "         0.00000000e+00,   9.24370000e+04,   0.00000000e+00,\n",
        "         0.00000000e+00,   0.00000000e+00,   0.00000000e+00,\n",
        "         3.93400000e+03,   0.00000000e+00,   0.00000000e+00,\n",
        "         0.00000000e+00,   1.01000000e+03,   0.00000000e+00,\n",
        "         0.00000000e+00,   0.00000000e+00,   0.00000000e+00,\n",
        "         5.18000000e+02,   0.00000000e+00,   0.00000000e+00,\n",
        "         0.00000000e+00,   0.00000000e+00,   1.70000000e+01,\n",
        "         0.00000000e+00,   0.00000000e+00,   0.00000000e+00,\n",
        "         0.00000000e+00,   7.80000000e+01,   0.00000000e+00,\n",
        "         0.00000000e+00,   0.00000000e+00,   0.00000000e+00,\n",
        "         7.90000000e+01,   0.00000000e+00,   0.00000000e+00,\n",
        "         0.00000000e+00,   0.00000000e+00,   2.77000000e+02,\n",
        "         0.00000000e+00,   0.00000000e+00,   0.00000000e+00,\n",
        "         0.00000000e+00,   2.74200000e+03,   0.00000000e+00,\n",
        "         0.00000000e+00,   0.00000000e+00,   0.00000000e+00,\n",
        "         3.15000000e+02,   0.00000000e+00,   0.00000000e+00,\n",
        "         0.00000000e+00,   3.60000000e+01,   0.00000000e+00,\n",
        "         0.00000000e+00,   0.00000000e+00,   0.00000000e+00,\n",
        "         0.00000000e+00,   0.00000000e+00,   0.00000000e+00,\n",
        "         0.00000000e+00,   0.00000000e+00,   8.00000000e+00,\n",
        "         0.00000000e+00,   0.00000000e+00,   0.00000000e+00,\n",
        "         0.00000000e+00,   0.00000000e+00,   0.00000000e+00,\n",
        "         0.00000000e+00,   0.00000000e+00,   0.00000000e+00,\n",
        "         4.00000000e+00,   0.00000000e+00,   0.00000000e+00,\n",
        "         0.00000000e+00,   0.00000000e+00,   0.00000000e+00,\n",
        "         0.00000000e+00,   0.00000000e+00,   0.00000000e+00,\n",
        "         0.00000000e+00,   0.00000000e+00,   0.00000000e+00,\n",
        "         0.00000000e+00,   0.00000000e+00,   0.00000000e+00,\n",
        "         0.00000000e+00,   0.00000000e+00,   0.00000000e+00,\n",
        "         0.00000000e+00,   0.00000000e+00,   0.00000000e+00,\n",
        "         0.00000000e+00,   0.00000000e+00,   0.00000000e+00,\n",
        "         0.00000000e+00,   0.00000000e+00,   0.00000000e+00,\n",
        "         0.00000000e+00,   0.00000000e+00,   0.00000000e+00,\n",
        "         0.00000000e+00,   0.00000000e+00,   0.00000000e+00,\n",
        "         0.00000000e+00,   0.00000000e+00,   0.00000000e+00,\n",
        "         0.00000000e+00,   0.00000000e+00,   0.00000000e+00,\n",
        "         0.00000000e+00,   0.00000000e+00,   0.00000000e+00,\n",
        "         0.00000000e+00,   0.00000000e+00,   0.00000000e+00,\n",
        "         0.00000000e+00,   0.00000000e+00,   0.00000000e+00,\n",
        "         0.00000000e+00,   6.00000000e+00,   0.00000000e+00,\n",
        "         0.00000000e+00,   0.00000000e+00,   0.00000000e+00,\n",
        "         0.00000000e+00,   0.00000000e+00,   0.00000000e+00,\n",
        "         0.00000000e+00,   0.00000000e+00,   0.00000000e+00,\n",
        "         0.00000000e+00,   0.00000000e+00,   0.00000000e+00,\n",
        "         0.00000000e+00,   0.00000000e+00,   0.00000000e+00,\n",
        "         0.00000000e+00,   0.00000000e+00,   0.00000000e+00,\n",
        "         0.00000000e+00,   0.00000000e+00,   0.00000000e+00,\n",
        "         0.00000000e+00,   0.00000000e+00,   0.00000000e+00,\n",
        "         0.00000000e+00,   0.00000000e+00,   0.00000000e+00,\n",
        "         0.00000000e+00,   0.00000000e+00,   0.00000000e+00,\n",
        "         0.00000000e+00,   0.00000000e+00,   0.00000000e+00,\n",
        "         0.00000000e+00,   0.00000000e+00,   0.00000000e+00,\n",
        "         0.00000000e+00,   0.00000000e+00,   0.00000000e+00,\n",
        "         0.00000000e+00,   0.00000000e+00,   0.00000000e+00,\n",
        "         0.00000000e+00,   0.00000000e+00,   0.00000000e+00,\n",
        "         0.00000000e+00,   1.53000000e+02]),\n",
        " array([  1.   ,   1.205,   1.41 ,   1.615,   1.82 ,   2.025,   2.23 ,\n",
        "         2.435,   2.64 ,   2.845,   3.05 ,   3.255,   3.46 ,   3.665,\n",
        "         3.87 ,   4.075,   4.28 ,   4.485,   4.69 ,   4.895,   5.1  ,\n",
        "         5.305,   5.51 ,   5.715,   5.92 ,   6.125,   6.33 ,   6.535,\n",
        "         6.74 ,   6.945,   7.15 ,   7.355,   7.56 ,   7.765,   7.97 ,\n",
        "         8.175,   8.38 ,   8.585,   8.79 ,   8.995,   9.2  ,   9.405,\n",
        "         9.61 ,   9.815,  10.02 ,  10.225,  10.43 ,  10.635,  10.84 ,\n",
        "        11.045,  11.25 ,  11.455,  11.66 ,  11.865,  12.07 ,  12.275,\n",
        "        12.48 ,  12.685,  12.89 ,  13.095,  13.3  ,  13.505,  13.71 ,\n",
        "        13.915,  14.12 ,  14.325,  14.53 ,  14.735,  14.94 ,  15.145,\n",
        "        15.35 ,  15.555,  15.76 ,  15.965,  16.17 ,  16.375,  16.58 ,\n",
        "        16.785,  16.99 ,  17.195,  17.4  ,  17.605,  17.81 ,  18.015,\n",
        "        18.22 ,  18.425,  18.63 ,  18.835,  19.04 ,  19.245,  19.45 ,\n",
        "        19.655,  19.86 ,  20.065,  20.27 ,  20.475,  20.68 ,  20.885,\n",
        "        21.09 ,  21.295,  21.5  ,  21.705,  21.91 ,  22.115,  22.32 ,\n",
        "        22.525,  22.73 ,  22.935,  23.14 ,  23.345,  23.55 ,  23.755,\n",
        "        23.96 ,  24.165,  24.37 ,  24.575,  24.78 ,  24.985,  25.19 ,\n",
        "        25.395,  25.6  ,  25.805,  26.01 ,  26.215,  26.42 ,  26.625,\n",
        "        26.83 ,  27.035,  27.24 ,  27.445,  27.65 ,  27.855,  28.06 ,\n",
        "        28.265,  28.47 ,  28.675,  28.88 ,  29.085,  29.29 ,  29.495,\n",
        "        29.7  ,  29.905,  30.11 ,  30.315,  30.52 ,  30.725,  30.93 ,\n",
        "        31.135,  31.34 ,  31.545,  31.75 ,  31.955,  32.16 ,  32.365,\n",
        "        32.57 ,  32.775,  32.98 ,  33.185,  33.39 ,  33.595,  33.8  ,\n",
        "        34.005,  34.21 ,  34.415,  34.62 ,  34.825,  35.03 ,  35.235,\n",
        "        35.44 ,  35.645,  35.85 ,  36.055,  36.26 ,  36.465,  36.67 ,\n",
        "        36.875,  37.08 ,  37.285,  37.49 ,  37.695,  37.9  ,  38.105,\n",
        "        38.31 ,  38.515,  38.72 ,  38.925,  39.13 ,  39.335,  39.54 ,\n",
        "        39.745,  39.95 ,  40.155,  40.36 ,  40.565,  40.77 ,  40.975,\n",
        "        41.18 ,  41.385,  41.59 ,  41.795,  42.   ]),\n",
        " <a list of 200 Patch objects>)"
       ]
      },
      {
       "metadata": {},
       "output_type": "display_data",
       "png": "[encoded data removed]",
       "text": [
        "<matplotlib.figure.Figure at 0x9ce403ac>"
       ]
      }
     ],
     "prompt_number": 112
    },
    {
     "cell_type": "code",
     "collapsed": false,
     "input": [
      "user_interactions[user_interactions[\"Interactions\"] == max(user_interactions[\"Interactions\"])].head(2)"
     ],
     "language": "python",
     "metadata": {},
     "outputs": [
      {
       "html": [
        "<div style=\"max-height:1000px;max-width:1500px;overflow:auto;\">\n",
        "<table border=\"1\" class=\"dataframe\">\n",
        "  <thead>\n",
        "    <tr style=\"text-align: right;\">\n",
        "      <th></th>\n",
        "      <th>User1</th>\n",
        "      <th>User2</th>\n",
        "      <th>Interactions</th>\n",
        "    </tr>\n",
        "  </thead>\n",
        "  <tbody>\n",
        "    <tr>\n",
        "      <th>104387</th>\n",
        "      <td> A1C4B42FCBG1ZA</td>\n",
        "      <td> A1IIHS3QXM9OFP</td>\n",
        "      <td> 42</td>\n",
        "    </tr>\n",
        "    <tr>\n",
        "      <th>104388</th>\n",
        "      <td> A1C4B42FCBG1ZA</td>\n",
        "      <td> A1JUE0AILOGOW0</td>\n",
        "      <td> 42</td>\n",
        "    </tr>\n",
        "  </tbody>\n",
        "</table>\n",
        "<p>2 rows \u00d7 3 columns</p>\n",
        "</div>"
       ],
       "metadata": {},
       "output_type": "pyout",
       "prompt_number": 117,
       "text": [
        "                 User1           User2  Interactions\n",
        "104387  A1C4B42FCBG1ZA  A1IIHS3QXM9OFP            42\n",
        "104388  A1C4B42FCBG1ZA  A1JUE0AILOGOW0            42\n",
        "\n",
        "[2 rows x 3 columns]"
       ]
      }
     ],
     "prompt_number": 117
    },
    {
     "cell_type": "code",
     "collapsed": false,
     "input": [
      "counts.head(5)"
     ],
     "language": "python",
     "metadata": {},
     "outputs": [
      {
       "html": [
        "<div style=\"max-height:1000px;max-width:1500px;overflow:auto;\">\n",
        "<table border=\"1\" class=\"dataframe\">\n",
        "  <thead>\n",
        "    <tr style=\"text-align: right;\">\n",
        "      <th></th>\n",
        "      <th>Time</th>\n",
        "      <th>Count</th>\n",
        "    </tr>\n",
        "  </thead>\n",
        "  <tbody>\n",
        "    <tr>\n",
        "      <th>0</th>\n",
        "      <td> 939600000</td>\n",
        "      <td> 1</td>\n",
        "    </tr>\n",
        "    <tr>\n",
        "      <th>1</th>\n",
        "      <td> 944611200</td>\n",
        "      <td> 2</td>\n",
        "    </tr>\n",
        "    <tr>\n",
        "      <th>2</th>\n",
        "      <td> 945820800</td>\n",
        "      <td> 3</td>\n",
        "    </tr>\n",
        "    <tr>\n",
        "      <th>3</th>\n",
        "      <td> 946598400</td>\n",
        "      <td> 4</td>\n",
        "    </tr>\n",
        "    <tr>\n",
        "      <th>4</th>\n",
        "      <td> 947116800</td>\n",
        "      <td> 5</td>\n",
        "    </tr>\n",
        "  </tbody>\n",
        "</table>\n",
        "<p>5 rows \u00d7 2 columns</p>\n",
        "</div>"
       ],
       "metadata": {},
       "output_type": "pyout",
       "prompt_number": 118,
       "text": [
        "        Time  Count\n",
        "0  939600000      1\n",
        "1  944611200      2\n",
        "2  945820800      3\n",
        "3  946598400      4\n",
        "4  947116800      5\n",
        "\n",
        "[5 rows x 2 columns]"
       ]
      }
     ],
     "prompt_number": 118
    },
    {
     "cell_type": "code",
     "collapsed": false,
     "input": [
      "counts[\"Time\"].min(), counts[\"Time\"].max()"
     ],
     "language": "python",
     "metadata": {},
     "outputs": [
      {
       "metadata": {},
       "output_type": "pyout",
       "prompt_number": 122,
       "text": [
        "(939600000, 1362182400)"
       ]
      }
     ],
     "prompt_number": 122
    },
    {
     "cell_type": "code",
     "collapsed": false,
     "input": [
      "frames = 10\n",
      "minimum = counts[\"Time\"].min()\n",
      "step = (counts[\"Time\"].max() - minimum)/frames"
     ],
     "language": "python",
     "metadata": {},
     "outputs": [],
     "prompt_number": 123
    },
    {
     "cell_type": "code",
     "collapsed": false,
     "input": [
      "for i in range(1,frames + 1):\n",
      "    conn.execute('''DROP TABLE window''' + str(i))"
     ],
     "language": "python",
     "metadata": {},
     "outputs": [
      {
       "ename": "OperationalError",
       "evalue": "no such table: window2",
       "output_type": "pyerr",
       "traceback": [
        "\u001b[0;31m---------------------------------------------------------------------------\u001b[0m\n\u001b[0;31mOperationalError\u001b[0m                          Traceback (most recent call last)",
        "\u001b[0;32m<ipython-input-147-baa94a4d0e8a>\u001b[0m in \u001b[0;36m<module>\u001b[0;34m()\u001b[0m\n\u001b[1;32m      1\u001b[0m \u001b[0;32mfor\u001b[0m \u001b[0mi\u001b[0m \u001b[0;32min\u001b[0m \u001b[0mrange\u001b[0m\u001b[0;34m(\u001b[0m\u001b[0;36m1\u001b[0m\u001b[0;34m,\u001b[0m\u001b[0mframes\u001b[0m \u001b[0;34m+\u001b[0m \u001b[0;36m1\u001b[0m\u001b[0;34m)\u001b[0m\u001b[0;34m:\u001b[0m\u001b[0;34m\u001b[0m\u001b[0m\n\u001b[0;32m----> 2\u001b[0;31m     \u001b[0mconn\u001b[0m\u001b[0;34m.\u001b[0m\u001b[0mexecute\u001b[0m\u001b[0;34m(\u001b[0m\u001b[0;34m'''DROP TABLE window'''\u001b[0m \u001b[0;34m+\u001b[0m \u001b[0mstr\u001b[0m\u001b[0;34m(\u001b[0m\u001b[0mi\u001b[0m\u001b[0;34m)\u001b[0m\u001b[0;34m)\u001b[0m\u001b[0;34m\u001b[0m\u001b[0m\n\u001b[0m",
        "\u001b[0;31mOperationalError\u001b[0m: no such table: window2"
       ]
      }
     ],
     "prompt_number": 147
    },
    {
     "cell_type": "code",
     "collapsed": false,
     "input": [
      "for i in range(1,10 + 1):\n",
      "    conn.execute('''DROP TABLE u_count''' + str(i))"
     ],
     "language": "python",
     "metadata": {},
     "outputs": [],
     "prompt_number": 224
    },
    {
     "cell_type": "code",
     "collapsed": false,
     "input": [
      "for i in range(1,10 + 1):\n",
      "    conn.execute('''CREATE TABLE u_count''' + str(i) + ''' (\n",
      "        users INT\n",
      "        )''')\n",
      "    command = '''INSERT INTO u_count''' + str(i) + '''\n",
      "    SELECT COUNT(DISTINCT Review_UserID)\n",
      "    FROM filtered_reviews\n",
      "    WHERE Review_Timestamp <= ''' + str(minimum + (step*i)) + ''' AND Review_Timestamp >= ''' + str(minimum + (step*(i-1))) + '''\n",
      "    '''\n",
      "    res = conn.execute(command)"
     ],
     "language": "python",
     "metadata": {},
     "outputs": [],
     "prompt_number": 225
    },
    {
     "cell_type": "code",
     "collapsed": false,
     "input": [
      "for i in range(1,frames + 1):\n",
      "    conn.execute('''CREATE TABLE window''' + str(i) + ''' (\n",
      "        Review_UserID1 TEXT,\n",
      "        Review_UserID2 TEXT,\n",
      "        Count INT)''')\n",
      "    command = '''INSERT INTO window''' + str(i) + '''\n",
      "    SELECT Review_UserID1, Review_UserID2, COUNT(*)\n",
      "    FROM joined_reviews\n",
      "    WHERE Review_Timestamp <= ''' + str(minimum + (step*i)) + ''' AND Review_Timestamp >= ''' + str(minimum + (step*(i-1))) + '''\n",
      "    GROUP BY Review_UserID1, Review_UserID2'''\n",
      "    res = conn.execute(command)"
     ],
     "language": "python",
     "metadata": {},
     "outputs": [],
     "prompt_number": 148
    },
    {
     "cell_type": "code",
     "collapsed": false,
     "input": [
      "res = conn.execute('''SELECT w1.Count, ifnull(w2.Count, 0), w1.Review_UserID1, w1.Review_UserID2\n",
      "FROM window1 w1 LEFT OUTER JOIN window2 w2 ON (w1.Review_UserID1 == w2.Review_UserID1 AND w1.Review_UserID2 == w2.Review_UserID2)\n",
      "UNION\n",
      "SELECT ifnull(w1.Count, 0), w2.Count, w2.Review_UserID1, w2.Review_UserID2\n",
      "FROM window2 w2 LEFT OUTER JOIN window1 w1 ON (w1.Review_UserID1 == w2.Review_UserID1 AND w1.Review_UserID2 == w2.Review_UserID2)\n",
      "''')\n",
      "values = res.fetchall()"
     ],
     "language": "python",
     "metadata": {},
     "outputs": [],
     "prompt_number": 262
    },
    {
     "cell_type": "code",
     "collapsed": false,
     "input": [
      "df = pd.DataFrame(values, columns = [\"U1\", \"U2\", \"U1_N\", \"U2_N\"])\n",
      "df = df.fillna(value = 0)\n",
      "df = df.groupby([\"U1\", \"U2\"]).count()[\"U1_N\"]\n",
      "df = df.reset_index(0).reset_index(0)"
     ],
     "language": "python",
     "metadata": {},
     "outputs": [],
     "prompt_number": 263
    },
    {
     "cell_type": "code",
     "collapsed": false,
     "input": [
      "# I need to add the 0 -> 0\n",
      "# P(FNO(U1&U2) | NO(U1&U2) = ?)\n",
      "res = conn.execute('''SELECT users FROM u_count1''')\n",
      "total = res.fetchall()[0][0]\n",
      "df.ix[len(df)] = (0,0, (total * (total-1) / 2) - sum(df[\"U1_N\"]))"
     ],
     "language": "python",
     "metadata": {},
     "outputs": [],
     "prompt_number": 264
    },
    {
     "cell_type": "code",
     "collapsed": false,
     "input": [
      "df.set_index([\"U1\", \"U2\"])"
     ],
     "language": "python",
     "metadata": {},
     "outputs": [
      {
       "html": [
        "<div style=\"max-height:1000px;max-width:1500px;overflow:auto;\">\n",
        "<table border=\"1\" class=\"dataframe\">\n",
        "  <thead>\n",
        "    <tr style=\"text-align: right;\">\n",
        "      <th></th>\n",
        "      <th></th>\n",
        "      <th>U1_N</th>\n",
        "    </tr>\n",
        "    <tr>\n",
        "      <th>U1</th>\n",
        "      <th>U2</th>\n",
        "      <th></th>\n",
        "    </tr>\n",
        "  </thead>\n",
        "  <tbody>\n",
        "    <tr>\n",
        "      <th rowspan=\"6\" valign=\"top\">0</th>\n",
        "      <th>1</th>\n",
        "      <td> 3592</td>\n",
        "    </tr>\n",
        "    <tr>\n",
        "      <th>2</th>\n",
        "      <td>  509</td>\n",
        "    </tr>\n",
        "    <tr>\n",
        "      <th>3</th>\n",
        "      <td>   38</td>\n",
        "    </tr>\n",
        "    <tr>\n",
        "      <th>4</th>\n",
        "      <td>   61</td>\n",
        "    </tr>\n",
        "    <tr>\n",
        "      <th>5</th>\n",
        "      <td>    9</td>\n",
        "    </tr>\n",
        "    <tr>\n",
        "      <th>6</th>\n",
        "      <td>    2</td>\n",
        "    </tr>\n",
        "    <tr>\n",
        "      <th rowspan=\"5\" valign=\"top\">1</th>\n",
        "      <th>0</th>\n",
        "      <td>  802</td>\n",
        "    </tr>\n",
        "    <tr>\n",
        "      <th>1</th>\n",
        "      <td>   43</td>\n",
        "    </tr>\n",
        "    <tr>\n",
        "      <th>2</th>\n",
        "      <td>    6</td>\n",
        "    </tr>\n",
        "    <tr>\n",
        "      <th>3</th>\n",
        "      <td>    1</td>\n",
        "    </tr>\n",
        "    <tr>\n",
        "      <th>4</th>\n",
        "      <td>    1</td>\n",
        "    </tr>\n",
        "    <tr>\n",
        "      <th rowspan=\"5\" valign=\"top\">2</th>\n",
        "      <th>0</th>\n",
        "      <td>  156</td>\n",
        "    </tr>\n",
        "    <tr>\n",
        "      <th>1</th>\n",
        "      <td>   12</td>\n",
        "    </tr>\n",
        "    <tr>\n",
        "      <th>2</th>\n",
        "      <td>    3</td>\n",
        "    </tr>\n",
        "    <tr>\n",
        "      <th>3</th>\n",
        "      <td>    1</td>\n",
        "    </tr>\n",
        "    <tr>\n",
        "      <th>4</th>\n",
        "      <td>    1</td>\n",
        "    </tr>\n",
        "    <tr>\n",
        "      <th rowspan=\"3\" valign=\"top\">3</th>\n",
        "      <th>0</th>\n",
        "      <td>   11</td>\n",
        "    </tr>\n",
        "    <tr>\n",
        "      <th>1</th>\n",
        "      <td>    4</td>\n",
        "    </tr>\n",
        "    <tr>\n",
        "      <th>2</th>\n",
        "      <td>    1</td>\n",
        "    </tr>\n",
        "    <tr>\n",
        "      <th rowspan=\"2\" valign=\"top\">4</th>\n",
        "      <th>0</th>\n",
        "      <td>    3</td>\n",
        "    </tr>\n",
        "    <tr>\n",
        "      <th>2</th>\n",
        "      <td>    1</td>\n",
        "    </tr>\n",
        "    <tr>\n",
        "      <th>7</th>\n",
        "      <th>0</th>\n",
        "      <td>    1</td>\n",
        "    </tr>\n",
        "    <tr>\n",
        "      <th>0</th>\n",
        "      <th>0</th>\n",
        "      <td> 9277</td>\n",
        "    </tr>\n",
        "  </tbody>\n",
        "</table>\n",
        "<p>23 rows \u00d7 1 columns</p>\n",
        "</div>"
       ],
       "metadata": {},
       "output_type": "pyout",
       "prompt_number": 266,
       "text": [
        "       U1_N\n",
        "U1 U2      \n",
        "0  1   3592\n",
        "   2    509\n",
        "   3     38\n",
        "   4     61\n",
        "   5      9\n",
        "   6      2\n",
        "1  0    802\n",
        "   1     43\n",
        "   2      6\n",
        "   3      1\n",
        "   4      1\n",
        "2  0    156\n",
        "   1     12\n",
        "   2      3\n",
        "   3      1\n",
        "   4      1\n",
        "3  0     11\n",
        "   1      4\n",
        "   2      1\n",
        "4  0      3\n",
        "   2      1\n",
        "7  0      1\n",
        "0  0   9277\n",
        "\n",
        "[23 rows x 1 columns]"
       ]
      }
     ],
     "prompt_number": 266
    },
    {
     "cell_type": "code",
     "collapsed": false,
     "input": [
      "plt.bar(df.index, df[\"U1_N\"])"
     ],
     "language": "python",
     "metadata": {},
     "outputs": [
      {
       "ename": "NameError",
       "evalue": "name 'plt' is not defined",
       "output_type": "pyerr",
       "traceback": [
        "\u001b[0;31m---------------------------------------------------------------------------\u001b[0m\n\u001b[0;31mNameError\u001b[0m                                 Traceback (most recent call last)",
        "\u001b[0;32m<ipython-input-1-e82f65f6c3ae>\u001b[0m in \u001b[0;36m<module>\u001b[0;34m()\u001b[0m\n\u001b[0;32m----> 1\u001b[0;31m \u001b[0mplt\u001b[0m\u001b[0;34m.\u001b[0m\u001b[0mbar\u001b[0m\u001b[0;34m(\u001b[0m\u001b[0mdf\u001b[0m\u001b[0;34m.\u001b[0m\u001b[0mindex\u001b[0m\u001b[0;34m,\u001b[0m \u001b[0mdf\u001b[0m\u001b[0;34m[\u001b[0m\u001b[0;34m\"U1_N\"\u001b[0m\u001b[0;34m]\u001b[0m\u001b[0;34m)\u001b[0m\u001b[0;34m\u001b[0m\u001b[0m\n\u001b[0m",
        "\u001b[0;31mNameError\u001b[0m: name 'plt' is not defined"
       ]
      }
     ],
     "prompt_number": 1
    },
    {
     "cell_type": "code",
     "collapsed": false,
     "input": [
      "# PRINT THEM ALL AS CSVs THAN MAKE THE PLOTS MYSELF CUZ I SUCK!\n"
     ],
     "language": "python",
     "metadata": {},
     "outputs": []
    },
    {
     "cell_type": "heading",
     "level": 3,
     "metadata": {},
     "source": [
      "Attempt at NetworkX - Round II"
     ]
    },
    {
     "cell_type": "code",
     "collapsed": false,
     "input": [
      "import networkx as nx\n",
      "from networkx.algorithms import bipartite"
     ],
     "language": "python",
     "metadata": {},
     "outputs": [
      {
       "output_type": "stream",
       "stream": "stdout",
       "text": [
        "Couldn't import dot_parser, loading of dot files will not be possible.\n"
       ]
      }
     ],
     "prompt_number": 12
    },
    {
     "cell_type": "code",
     "collapsed": false,
     "input": [
      "frames = 5\n",
      "minimum = filtered_reviews.Review_Timestamp.min()\n",
      "step = (filtered_reviews.Review_Timestamp.max() - minimum)/frames"
     ],
     "language": "python",
     "metadata": {},
     "outputs": [],
     "prompt_number": 95
    },
    {
     "cell_type": "code",
     "collapsed": false,
     "input": [
      "sector_reviews = filtered_reviews[(filtered_reviews.Review_Timestamp >= minimum) & (filtered_reviews.Review_Timestamp <= minimum + (1*step))]\n",
      "users = sector_reviews.Review_UserID.unique()\n",
      "products = sector_reviews.Product_ID.unique()\n",
      "print len(users)\n",
      "print len(products)"
     ],
     "language": "python",
     "metadata": {},
     "outputs": [
      {
       "output_type": "stream",
       "stream": "stdout",
       "text": [
        "436\n",
        "158\n"
       ]
      }
     ],
     "prompt_number": 96
    },
    {
     "cell_type": "code",
     "collapsed": false,
     "input": [
      "e_bipart = nx.Graph()\n",
      "user_score = []\n",
      "product_score = []\n",
      "\n",
      "for i in range(1, frames + 1):\n",
      "    sector_reviews = filtered_reviews[(filtered_reviews.Review_Timestamp >= minimum + ((i-1)*step)) & (filtered_reviews.Review_Timestamp <= minimum + (i*step))]\n",
      "    sector_reviews = sector_reviews[sector_reviews.Review_UserID.isin(users)]\n",
      "    sector_reviews = sector_reviews[sector_reviews.Product_ID.isin(products)]\n",
      "    for ix, row in sector_reviews.iterrows():\n",
      "        e_bipart.add_edge(row[\"Product_ID\"], row[\"Review_UserID\"])\n",
      "    print \"Done adding edges for \", i, \": Edges added - \", len(sector_reviews)\n",
      "    \n",
      "    b_cluster = pd.DataFrame(bipartite.clustering(e_bipart), index=[\"CC\"]).T\n",
      "    user_cluster = b_cluster[b_cluster.index.isin(users)]\n",
      "    product_cluster = b_cluster[b_cluster.index.isin(products)]\n",
      "    user_score.append([float(user_cluster.mean()), int(user_cluster.count()),  float(user_cluster.std())])\n",
      "    product_score.append([float(product_cluster.mean()), int(product_cluster.count()),  float(product_cluster.std())])\n",
      "    "
     ],
     "language": "python",
     "metadata": {},
     "outputs": [
      {
       "output_type": "stream",
       "stream": "stdout",
       "text": [
        "Done adding edges for  1 : Edges added -  917\n",
        "Done adding edges for "
       ]
      },
      {
       "output_type": "stream",
       "stream": "stdout",
       "text": [
        " 2 : Edges added -  169\n",
        "Done adding edges for "
       ]
      },
      {
       "output_type": "stream",
       "stream": "stdout",
       "text": [
        " 3 : Edges added -  22\n",
        "Done adding edges for "
       ]
      },
      {
       "output_type": "stream",
       "stream": "stdout",
       "text": [
        " 4 : Edges added -  13\n",
        "Done adding edges for "
       ]
      },
      {
       "output_type": "stream",
       "stream": "stdout",
       "text": [
        " 5 : Edges added -  5\n"
       ]
      }
     ],
     "prompt_number": 103
    },
    {
     "cell_type": "code",
     "collapsed": false,
     "input": [
      "results = pd.DataFrame(user_score, columns=[\"Mean\", \"Count\", \"Standard Deviation\"])\n",
      "results"
     ],
     "language": "python",
     "metadata": {},
     "outputs": [
      {
       "html": [
        "<div style=\"max-height:1000px;max-width:1500px;overflow:auto;\">\n",
        "<table border=\"1\" class=\"dataframe\">\n",
        "  <thead>\n",
        "    <tr style=\"text-align: right;\">\n",
        "      <th></th>\n",
        "      <th>Mean</th>\n",
        "      <th>Count</th>\n",
        "      <th>Standard Deviation</th>\n",
        "    </tr>\n",
        "  </thead>\n",
        "  <tbody>\n",
        "    <tr>\n",
        "      <th>0</th>\n",
        "      <td> 0.434966</td>\n",
        "      <td> 436</td>\n",
        "      <td> 0.209739</td>\n",
        "    </tr>\n",
        "    <tr>\n",
        "      <th>1</th>\n",
        "      <td> 0.348593</td>\n",
        "      <td> 436</td>\n",
        "      <td> 0.155896</td>\n",
        "    </tr>\n",
        "    <tr>\n",
        "      <th>2</th>\n",
        "      <td> 0.341486</td>\n",
        "      <td> 436</td>\n",
        "      <td> 0.150157</td>\n",
        "    </tr>\n",
        "    <tr>\n",
        "      <th>3</th>\n",
        "      <td> 0.337200</td>\n",
        "      <td> 436</td>\n",
        "      <td> 0.147066</td>\n",
        "    </tr>\n",
        "    <tr>\n",
        "      <th>4</th>\n",
        "      <td> 0.334848</td>\n",
        "      <td> 436</td>\n",
        "      <td> 0.146173</td>\n",
        "    </tr>\n",
        "  </tbody>\n",
        "</table>\n",
        "<p>5 rows \u00d7 3 columns</p>\n",
        "</div>"
       ],
       "metadata": {},
       "output_type": "pyout",
       "prompt_number": 104,
       "text": [
        "       Mean  Count  Standard Deviation\n",
        "0  0.434966    436            0.209739\n",
        "1  0.348593    436            0.155896\n",
        "2  0.341486    436            0.150157\n",
        "3  0.337200    436            0.147066\n",
        "4  0.334848    436            0.146173\n",
        "\n",
        "[5 rows x 3 columns]"
       ]
      }
     ],
     "prompt_number": 104
    },
    {
     "cell_type": "code",
     "collapsed": false,
     "input": [
      "results = pd.DataFrame(product_score, columns=[\"Mean\", \"Count\", \"Standard Deviation\"])\n",
      "results"
     ],
     "language": "python",
     "metadata": {},
     "outputs": [
      {
       "html": [
        "<div style=\"max-height:1000px;max-width:1500px;overflow:auto;\">\n",
        "<table border=\"1\" class=\"dataframe\">\n",
        "  <thead>\n",
        "    <tr style=\"text-align: right;\">\n",
        "      <th></th>\n",
        "      <th>Mean</th>\n",
        "      <th>Count</th>\n",
        "      <th>Standard Deviation</th>\n",
        "    </tr>\n",
        "  </thead>\n",
        "  <tbody>\n",
        "    <tr>\n",
        "      <th>0</th>\n",
        "      <td> 0.232723</td>\n",
        "      <td> 158</td>\n",
        "      <td> 0.311528</td>\n",
        "    </tr>\n",
        "    <tr>\n",
        "      <th>1</th>\n",
        "      <td> 0.211327</td>\n",
        "      <td> 158</td>\n",
        "      <td> 0.290826</td>\n",
        "    </tr>\n",
        "    <tr>\n",
        "      <th>2</th>\n",
        "      <td> 0.195831</td>\n",
        "      <td> 158</td>\n",
        "      <td> 0.264855</td>\n",
        "    </tr>\n",
        "    <tr>\n",
        "      <th>3</th>\n",
        "      <td> 0.190947</td>\n",
        "      <td> 158</td>\n",
        "      <td> 0.260752</td>\n",
        "    </tr>\n",
        "    <tr>\n",
        "      <th>4</th>\n",
        "      <td> 0.191610</td>\n",
        "      <td> 158</td>\n",
        "      <td> 0.260612</td>\n",
        "    </tr>\n",
        "  </tbody>\n",
        "</table>\n",
        "<p>5 rows \u00d7 3 columns</p>\n",
        "</div>"
       ],
       "metadata": {},
       "output_type": "pyout",
       "prompt_number": 105,
       "text": [
        "       Mean  Count  Standard Deviation\n",
        "0  0.232723    158            0.311528\n",
        "1  0.211327    158            0.290826\n",
        "2  0.195831    158            0.264855\n",
        "3  0.190947    158            0.260752\n",
        "4  0.191610    158            0.260612\n",
        "\n",
        "[5 rows x 3 columns]"
       ]
      }
     ],
     "prompt_number": 105
    },
    {
     "cell_type": "code",
     "collapsed": false,
     "input": [],
     "language": "python",
     "metadata": {},
     "outputs": []
    }
   ],
   "metadata": {}
  }
 ]
}